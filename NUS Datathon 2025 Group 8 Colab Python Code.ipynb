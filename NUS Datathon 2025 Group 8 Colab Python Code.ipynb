{
  "cells": [
    {
      "cell_type": "markdown",
      "source": [
        "# NUS Datathon 2025 Category A (Group 8)"
      ],
      "metadata": {
        "id": "mmaSGwZVvNwF"
      }
    },
    {
      "cell_type": "markdown",
      "source": [
        "## Introduction: Optimizing Financial Advisor Matching with Data Science\n",
        "\n",
        "In today’s digital age, financial institutions are increasingly leveraging data science to enhance customer experience and improve business performance. One key challenge in the financial advisory sector is ensuring that customers are matched with the right financial advisors who can best meet their unique needs. An optimal match can lead to better engagement, higher conversion rates, and greater customer satisfaction, ultimately driving revenue growth.\n",
        "\n",
        "This datathon presents a unique opportunity for us to tackle this real-world challenge by developing a data-driven model that recommends the most suitable financial advisors for individual customers. By utilizing various machine learning techniques such as supervised learning - we aim to create an intelligent system that can effectively assign financial advisors to customers, optimizing engagement and improving the likelihood of successful policy conversions."
      ],
      "metadata": {
        "id": "Bago-JzfKIji"
      }
    },
    {
      "cell_type": "markdown",
      "source": [
        "## Connecting To Google Drive"
      ],
      "metadata": {
        "id": "X6200PE_tXJV"
      }
    },
    {
      "cell_type": "code",
      "source": [
        "from google.colab import drive\n",
        "drive.mount('/content/drive')"
      ],
      "metadata": {
        "id": "BKO5fB54qiST",
        "colab": {
          "base_uri": "https://localhost:8080/"
        },
        "outputId": "c15e1096-2288-4aaf-a24c-f322b92b6f79"
      },
      "execution_count": null,
      "outputs": [
        {
          "output_type": "stream",
          "name": "stdout",
          "text": [
            "Drive already mounted at /content/drive; to attempt to forcibly remount, call drive.mount(\"/content/drive\", force_remount=True).\n"
          ]
        }
      ]
    },
    {
      "cell_type": "markdown",
      "source": [
        "------------------------------------------------------------------------------------------------------------------------------------------"
      ],
      "metadata": {
        "id": "zpTDvggf1Dxd"
      }
    },
    {
      "cell_type": "markdown",
      "source": [
        "## Importing The Necessary Packages"
      ],
      "metadata": {
        "id": "yJH8W8oztePz"
      }
    },
    {
      "cell_type": "markdown",
      "source": [
        "The packages that we need to install are\n",
        "\n",
        "*   pandas (for data cleaning and manipulation)\n",
        "*   numpy\n",
        "*   matplotlib (for data visualisations)\n",
        "*   seaborn (for data visualisations)\n",
        "*   sklearn (for machine learning)\n",
        "*   !! OTHERS WE WILL DISCUSS SUBSEQUENTLY\n",
        "\n",
        "\n",
        "\n",
        "\n",
        "\n"
      ],
      "metadata": {
        "id": "43L0PQILvZhV"
      }
    },
    {
      "cell_type": "code",
      "source": [
        "# Importing the necessary packages\n",
        "import pandas as pd\n",
        "import numpy as np\n",
        "import matplotlib\n",
        "import matplotlib.pyplot as plt\n",
        "import seaborn as sns\n",
        "import sklearn\n",
        "import scipy"
      ],
      "metadata": {
        "id": "fqtZOLayrOei"
      },
      "execution_count": null,
      "outputs": []
    },
    {
      "cell_type": "markdown",
      "source": [
        "------------------------------------------------------------------------------------------------------------------------------------------"
      ],
      "metadata": {
        "id": "9yRiaPvd08_m"
      }
    },
    {
      "cell_type": "markdown",
      "source": [
        "## Reading The Parquet Files\n",
        "\n",
        "There are three necessary files that we need to view and analyse - the **Policy Information**, **Client Information** and **Agent Information**. Since the three files are in **Parquet format**, we can rely on the `pd.read_parquet` method to read the three files. Subsequently, we can use the `.head()` method to observe the first 5 rows of each dataset."
      ],
      "metadata": {
        "id": "r0xvosbatiw4"
      }
    },
    {
      "cell_type": "markdown",
      "source": [
        "#### Dataset 1: Policy Information"
      ],
      "metadata": {
        "id": "nSZNnJ6HuTFy"
      }
    },
    {
      "cell_type": "code",
      "source": [
        "# Extracting the policy information parquet file from Google Colab\n",
        "policy_info = '/content/drive/MyDrive/nus_policy_info_df.parquet'\n",
        "\n",
        "# Reading the policy information parquet file\n",
        "df_policy = pd.read_parquet(policy_info)\n",
        "\n",
        "# Viewing the first few rows of the policy information dataset\n",
        "df_policy.head()"
      ],
      "metadata": {
        "id": "b5F17YtXrSsQ",
        "colab": {
          "base_uri": "https://localhost:8080/",
          "height": 312
        },
        "outputId": "59493a91-93ba-4b32-96ad-fe1f5ffb3eff"
      },
      "execution_count": null,
      "outputs": [
        {
          "output_type": "execute_result",
          "data": {
            "text/plain": [
              "    chdrnum agntnum  secuityno    occdate  annual_premium product  flg_main  \\\n",
              "0   PID:281  AIN:62   CIN:6957 2018-11-12             0.0  prod_8         1   \n",
              "1   PID:280  AIN:63   CIN:2161 2024-02-22             7.0  prod_8         1   \n",
              "2  PID:2577  AIN:63  CIN:16605 2024-08-28           423.0  prod_6         1   \n",
              "3  PID:2578  AIN:63  CIN:16605 2024-08-27           217.0  prod_6         1   \n",
              "4   PID:305  AIN:63   CIN:7917 2024-08-28           432.0  prod_6         1   \n",
              "\n",
              "   flg_rider  flg_inforce  flg_lapsed  flg_cancel  flg_expire  flg_converted  \\\n",
              "0          0            1           0           0           0              1   \n",
              "1          0            1           0           0           0              1   \n",
              "2          0            1           0           0           0              1   \n",
              "3          0            1           0           0           0              1   \n",
              "4          0            1           0           0           0              1   \n",
              "\n",
              "  product_grp cust_age_at_purchase_grp cust_tenure_at_purchase_grp  \n",
              "0        PG:0              AG05_35to39                  TNR2_lt1yr  \n",
              "1        PG:0              AG04_30to34                 TNR4_4to8yr  \n",
              "2        PG:0              AG08_50to54                  TNR5_8yrup  \n",
              "3        PG:0              AG08_50to54                  TNR5_8yrup  \n",
              "4        PG:0              AG07_45to49                 TNR4_4to8yr  "
            ],
            "text/html": [
              "\n",
              "  <div id=\"df-e0b41241-61c3-4dc4-be8a-e4f8f6681491\" class=\"colab-df-container\">\n",
              "    <div>\n",
              "<style scoped>\n",
              "    .dataframe tbody tr th:only-of-type {\n",
              "        vertical-align: middle;\n",
              "    }\n",
              "\n",
              "    .dataframe tbody tr th {\n",
              "        vertical-align: top;\n",
              "    }\n",
              "\n",
              "    .dataframe thead th {\n",
              "        text-align: right;\n",
              "    }\n",
              "</style>\n",
              "<table border=\"1\" class=\"dataframe\">\n",
              "  <thead>\n",
              "    <tr style=\"text-align: right;\">\n",
              "      <th></th>\n",
              "      <th>chdrnum</th>\n",
              "      <th>agntnum</th>\n",
              "      <th>secuityno</th>\n",
              "      <th>occdate</th>\n",
              "      <th>annual_premium</th>\n",
              "      <th>product</th>\n",
              "      <th>flg_main</th>\n",
              "      <th>flg_rider</th>\n",
              "      <th>flg_inforce</th>\n",
              "      <th>flg_lapsed</th>\n",
              "      <th>flg_cancel</th>\n",
              "      <th>flg_expire</th>\n",
              "      <th>flg_converted</th>\n",
              "      <th>product_grp</th>\n",
              "      <th>cust_age_at_purchase_grp</th>\n",
              "      <th>cust_tenure_at_purchase_grp</th>\n",
              "    </tr>\n",
              "  </thead>\n",
              "  <tbody>\n",
              "    <tr>\n",
              "      <th>0</th>\n",
              "      <td>PID:281</td>\n",
              "      <td>AIN:62</td>\n",
              "      <td>CIN:6957</td>\n",
              "      <td>2018-11-12</td>\n",
              "      <td>0.0</td>\n",
              "      <td>prod_8</td>\n",
              "      <td>1</td>\n",
              "      <td>0</td>\n",
              "      <td>1</td>\n",
              "      <td>0</td>\n",
              "      <td>0</td>\n",
              "      <td>0</td>\n",
              "      <td>1</td>\n",
              "      <td>PG:0</td>\n",
              "      <td>AG05_35to39</td>\n",
              "      <td>TNR2_lt1yr</td>\n",
              "    </tr>\n",
              "    <tr>\n",
              "      <th>1</th>\n",
              "      <td>PID:280</td>\n",
              "      <td>AIN:63</td>\n",
              "      <td>CIN:2161</td>\n",
              "      <td>2024-02-22</td>\n",
              "      <td>7.0</td>\n",
              "      <td>prod_8</td>\n",
              "      <td>1</td>\n",
              "      <td>0</td>\n",
              "      <td>1</td>\n",
              "      <td>0</td>\n",
              "      <td>0</td>\n",
              "      <td>0</td>\n",
              "      <td>1</td>\n",
              "      <td>PG:0</td>\n",
              "      <td>AG04_30to34</td>\n",
              "      <td>TNR4_4to8yr</td>\n",
              "    </tr>\n",
              "    <tr>\n",
              "      <th>2</th>\n",
              "      <td>PID:2577</td>\n",
              "      <td>AIN:63</td>\n",
              "      <td>CIN:16605</td>\n",
              "      <td>2024-08-28</td>\n",
              "      <td>423.0</td>\n",
              "      <td>prod_6</td>\n",
              "      <td>1</td>\n",
              "      <td>0</td>\n",
              "      <td>1</td>\n",
              "      <td>0</td>\n",
              "      <td>0</td>\n",
              "      <td>0</td>\n",
              "      <td>1</td>\n",
              "      <td>PG:0</td>\n",
              "      <td>AG08_50to54</td>\n",
              "      <td>TNR5_8yrup</td>\n",
              "    </tr>\n",
              "    <tr>\n",
              "      <th>3</th>\n",
              "      <td>PID:2578</td>\n",
              "      <td>AIN:63</td>\n",
              "      <td>CIN:16605</td>\n",
              "      <td>2024-08-27</td>\n",
              "      <td>217.0</td>\n",
              "      <td>prod_6</td>\n",
              "      <td>1</td>\n",
              "      <td>0</td>\n",
              "      <td>1</td>\n",
              "      <td>0</td>\n",
              "      <td>0</td>\n",
              "      <td>0</td>\n",
              "      <td>1</td>\n",
              "      <td>PG:0</td>\n",
              "      <td>AG08_50to54</td>\n",
              "      <td>TNR5_8yrup</td>\n",
              "    </tr>\n",
              "    <tr>\n",
              "      <th>4</th>\n",
              "      <td>PID:305</td>\n",
              "      <td>AIN:63</td>\n",
              "      <td>CIN:7917</td>\n",
              "      <td>2024-08-28</td>\n",
              "      <td>432.0</td>\n",
              "      <td>prod_6</td>\n",
              "      <td>1</td>\n",
              "      <td>0</td>\n",
              "      <td>1</td>\n",
              "      <td>0</td>\n",
              "      <td>0</td>\n",
              "      <td>0</td>\n",
              "      <td>1</td>\n",
              "      <td>PG:0</td>\n",
              "      <td>AG07_45to49</td>\n",
              "      <td>TNR4_4to8yr</td>\n",
              "    </tr>\n",
              "  </tbody>\n",
              "</table>\n",
              "</div>\n",
              "    <div class=\"colab-df-buttons\">\n",
              "\n",
              "  <div class=\"colab-df-container\">\n",
              "    <button class=\"colab-df-convert\" onclick=\"convertToInteractive('df-e0b41241-61c3-4dc4-be8a-e4f8f6681491')\"\n",
              "            title=\"Convert this dataframe to an interactive table.\"\n",
              "            style=\"display:none;\">\n",
              "\n",
              "  <svg xmlns=\"http://www.w3.org/2000/svg\" height=\"24px\" viewBox=\"0 -960 960 960\">\n",
              "    <path d=\"M120-120v-720h720v720H120Zm60-500h600v-160H180v160Zm220 220h160v-160H400v160Zm0 220h160v-160H400v160ZM180-400h160v-160H180v160Zm440 0h160v-160H620v160ZM180-180h160v-160H180v160Zm440 0h160v-160H620v160Z\"/>\n",
              "  </svg>\n",
              "    </button>\n",
              "\n",
              "  <style>\n",
              "    .colab-df-container {\n",
              "      display:flex;\n",
              "      gap: 12px;\n",
              "    }\n",
              "\n",
              "    .colab-df-convert {\n",
              "      background-color: #E8F0FE;\n",
              "      border: none;\n",
              "      border-radius: 50%;\n",
              "      cursor: pointer;\n",
              "      display: none;\n",
              "      fill: #1967D2;\n",
              "      height: 32px;\n",
              "      padding: 0 0 0 0;\n",
              "      width: 32px;\n",
              "    }\n",
              "\n",
              "    .colab-df-convert:hover {\n",
              "      background-color: #E2EBFA;\n",
              "      box-shadow: 0px 1px 2px rgba(60, 64, 67, 0.3), 0px 1px 3px 1px rgba(60, 64, 67, 0.15);\n",
              "      fill: #174EA6;\n",
              "    }\n",
              "\n",
              "    .colab-df-buttons div {\n",
              "      margin-bottom: 4px;\n",
              "    }\n",
              "\n",
              "    [theme=dark] .colab-df-convert {\n",
              "      background-color: #3B4455;\n",
              "      fill: #D2E3FC;\n",
              "    }\n",
              "\n",
              "    [theme=dark] .colab-df-convert:hover {\n",
              "      background-color: #434B5C;\n",
              "      box-shadow: 0px 1px 3px 1px rgba(0, 0, 0, 0.15);\n",
              "      filter: drop-shadow(0px 1px 2px rgba(0, 0, 0, 0.3));\n",
              "      fill: #FFFFFF;\n",
              "    }\n",
              "  </style>\n",
              "\n",
              "    <script>\n",
              "      const buttonEl =\n",
              "        document.querySelector('#df-e0b41241-61c3-4dc4-be8a-e4f8f6681491 button.colab-df-convert');\n",
              "      buttonEl.style.display =\n",
              "        google.colab.kernel.accessAllowed ? 'block' : 'none';\n",
              "\n",
              "      async function convertToInteractive(key) {\n",
              "        const element = document.querySelector('#df-e0b41241-61c3-4dc4-be8a-e4f8f6681491');\n",
              "        const dataTable =\n",
              "          await google.colab.kernel.invokeFunction('convertToInteractive',\n",
              "                                                    [key], {});\n",
              "        if (!dataTable) return;\n",
              "\n",
              "        const docLinkHtml = 'Like what you see? Visit the ' +\n",
              "          '<a target=\"_blank\" href=https://colab.research.google.com/notebooks/data_table.ipynb>data table notebook</a>'\n",
              "          + ' to learn more about interactive tables.';\n",
              "        element.innerHTML = '';\n",
              "        dataTable['output_type'] = 'display_data';\n",
              "        await google.colab.output.renderOutput(dataTable, element);\n",
              "        const docLink = document.createElement('div');\n",
              "        docLink.innerHTML = docLinkHtml;\n",
              "        element.appendChild(docLink);\n",
              "      }\n",
              "    </script>\n",
              "  </div>\n",
              "\n",
              "\n",
              "<div id=\"df-01c8a44e-5989-46c6-a8be-833c3eb2bee2\">\n",
              "  <button class=\"colab-df-quickchart\" onclick=\"quickchart('df-01c8a44e-5989-46c6-a8be-833c3eb2bee2')\"\n",
              "            title=\"Suggest charts\"\n",
              "            style=\"display:none;\">\n",
              "\n",
              "<svg xmlns=\"http://www.w3.org/2000/svg\" height=\"24px\"viewBox=\"0 0 24 24\"\n",
              "     width=\"24px\">\n",
              "    <g>\n",
              "        <path d=\"M19 3H5c-1.1 0-2 .9-2 2v14c0 1.1.9 2 2 2h14c1.1 0 2-.9 2-2V5c0-1.1-.9-2-2-2zM9 17H7v-7h2v7zm4 0h-2V7h2v10zm4 0h-2v-4h2v4z\"/>\n",
              "    </g>\n",
              "</svg>\n",
              "  </button>\n",
              "\n",
              "<style>\n",
              "  .colab-df-quickchart {\n",
              "      --bg-color: #E8F0FE;\n",
              "      --fill-color: #1967D2;\n",
              "      --hover-bg-color: #E2EBFA;\n",
              "      --hover-fill-color: #174EA6;\n",
              "      --disabled-fill-color: #AAA;\n",
              "      --disabled-bg-color: #DDD;\n",
              "  }\n",
              "\n",
              "  [theme=dark] .colab-df-quickchart {\n",
              "      --bg-color: #3B4455;\n",
              "      --fill-color: #D2E3FC;\n",
              "      --hover-bg-color: #434B5C;\n",
              "      --hover-fill-color: #FFFFFF;\n",
              "      --disabled-bg-color: #3B4455;\n",
              "      --disabled-fill-color: #666;\n",
              "  }\n",
              "\n",
              "  .colab-df-quickchart {\n",
              "    background-color: var(--bg-color);\n",
              "    border: none;\n",
              "    border-radius: 50%;\n",
              "    cursor: pointer;\n",
              "    display: none;\n",
              "    fill: var(--fill-color);\n",
              "    height: 32px;\n",
              "    padding: 0;\n",
              "    width: 32px;\n",
              "  }\n",
              "\n",
              "  .colab-df-quickchart:hover {\n",
              "    background-color: var(--hover-bg-color);\n",
              "    box-shadow: 0 1px 2px rgba(60, 64, 67, 0.3), 0 1px 3px 1px rgba(60, 64, 67, 0.15);\n",
              "    fill: var(--button-hover-fill-color);\n",
              "  }\n",
              "\n",
              "  .colab-df-quickchart-complete:disabled,\n",
              "  .colab-df-quickchart-complete:disabled:hover {\n",
              "    background-color: var(--disabled-bg-color);\n",
              "    fill: var(--disabled-fill-color);\n",
              "    box-shadow: none;\n",
              "  }\n",
              "\n",
              "  .colab-df-spinner {\n",
              "    border: 2px solid var(--fill-color);\n",
              "    border-color: transparent;\n",
              "    border-bottom-color: var(--fill-color);\n",
              "    animation:\n",
              "      spin 1s steps(1) infinite;\n",
              "  }\n",
              "\n",
              "  @keyframes spin {\n",
              "    0% {\n",
              "      border-color: transparent;\n",
              "      border-bottom-color: var(--fill-color);\n",
              "      border-left-color: var(--fill-color);\n",
              "    }\n",
              "    20% {\n",
              "      border-color: transparent;\n",
              "      border-left-color: var(--fill-color);\n",
              "      border-top-color: var(--fill-color);\n",
              "    }\n",
              "    30% {\n",
              "      border-color: transparent;\n",
              "      border-left-color: var(--fill-color);\n",
              "      border-top-color: var(--fill-color);\n",
              "      border-right-color: var(--fill-color);\n",
              "    }\n",
              "    40% {\n",
              "      border-color: transparent;\n",
              "      border-right-color: var(--fill-color);\n",
              "      border-top-color: var(--fill-color);\n",
              "    }\n",
              "    60% {\n",
              "      border-color: transparent;\n",
              "      border-right-color: var(--fill-color);\n",
              "    }\n",
              "    80% {\n",
              "      border-color: transparent;\n",
              "      border-right-color: var(--fill-color);\n",
              "      border-bottom-color: var(--fill-color);\n",
              "    }\n",
              "    90% {\n",
              "      border-color: transparent;\n",
              "      border-bottom-color: var(--fill-color);\n",
              "    }\n",
              "  }\n",
              "</style>\n",
              "\n",
              "  <script>\n",
              "    async function quickchart(key) {\n",
              "      const quickchartButtonEl =\n",
              "        document.querySelector('#' + key + ' button');\n",
              "      quickchartButtonEl.disabled = true;  // To prevent multiple clicks.\n",
              "      quickchartButtonEl.classList.add('colab-df-spinner');\n",
              "      try {\n",
              "        const charts = await google.colab.kernel.invokeFunction(\n",
              "            'suggestCharts', [key], {});\n",
              "      } catch (error) {\n",
              "        console.error('Error during call to suggestCharts:', error);\n",
              "      }\n",
              "      quickchartButtonEl.classList.remove('colab-df-spinner');\n",
              "      quickchartButtonEl.classList.add('colab-df-quickchart-complete');\n",
              "    }\n",
              "    (() => {\n",
              "      let quickchartButtonEl =\n",
              "        document.querySelector('#df-01c8a44e-5989-46c6-a8be-833c3eb2bee2 button');\n",
              "      quickchartButtonEl.style.display =\n",
              "        google.colab.kernel.accessAllowed ? 'block' : 'none';\n",
              "    })();\n",
              "  </script>\n",
              "</div>\n",
              "\n",
              "    </div>\n",
              "  </div>\n"
            ],
            "application/vnd.google.colaboratory.intrinsic+json": {
              "type": "dataframe",
              "variable_name": "df_policy",
              "summary": "{\n  \"name\": \"df_policy\",\n  \"rows\": 29503,\n  \"fields\": [\n    {\n      \"column\": \"chdrnum\",\n      \"properties\": {\n        \"dtype\": \"string\",\n        \"num_unique_values\": 29503,\n        \"samples\": [\n          \"PID:4571\",\n          \"PID:7877\",\n          \"PID:20548\"\n        ],\n        \"semantic_type\": \"\",\n        \"description\": \"\"\n      }\n    },\n    {\n      \"column\": \"agntnum\",\n      \"properties\": {\n        \"dtype\": \"category\",\n        \"num_unique_values\": 10065,\n        \"samples\": [\n          \"AIN:2418\",\n          \"AIN:260\",\n          \"AIN:9181\"\n        ],\n        \"semantic_type\": \"\",\n        \"description\": \"\"\n      }\n    },\n    {\n      \"column\": \"secuityno\",\n      \"properties\": {\n        \"dtype\": \"string\",\n        \"num_unique_values\": 19911,\n        \"samples\": [\n          \"CIN:11243\",\n          \"CIN:100\",\n          \"CIN:15383\"\n        ],\n        \"semantic_type\": \"\",\n        \"description\": \"\"\n      }\n    },\n    {\n      \"column\": \"occdate\",\n      \"properties\": {\n        \"dtype\": \"date\",\n        \"min\": \"1993-10-01 00:00:00\",\n        \"max\": \"2024-11-28 00:00:00\",\n        \"num_unique_values\": 3259,\n        \"samples\": [\n          \"2020-04-13 00:00:00\",\n          \"2024-03-27 00:00:00\",\n          \"2021-06-29 00:00:00\"\n        ],\n        \"semantic_type\": \"\",\n        \"description\": \"\"\n      }\n    },\n    {\n      \"column\": \"annual_premium\",\n      \"properties\": {\n        \"dtype\": \"number\",\n        \"std\": 4422.632425926718,\n        \"min\": 0.0,\n        \"max\": 300039.6,\n        \"num_unique_values\": 2680,\n        \"samples\": [\n          1787.0,\n          3837.0,\n          618.0\n        ],\n        \"semantic_type\": \"\",\n        \"description\": \"\"\n      }\n    },\n    {\n      \"column\": \"product\",\n      \"properties\": {\n        \"dtype\": \"category\",\n        \"num_unique_values\": 7,\n        \"samples\": [\n          \"prod_8\",\n          \"prod_6\",\n          \"prod_7\"\n        ],\n        \"semantic_type\": \"\",\n        \"description\": \"\"\n      }\n    },\n    {\n      \"column\": \"flg_main\",\n      \"properties\": {\n        \"dtype\": \"number\",\n        \"std\": 0,\n        \"min\": 1,\n        \"max\": 1,\n        \"num_unique_values\": 1,\n        \"samples\": [\n          1\n        ],\n        \"semantic_type\": \"\",\n        \"description\": \"\"\n      }\n    },\n    {\n      \"column\": \"flg_rider\",\n      \"properties\": {\n        \"dtype\": \"number\",\n        \"std\": 0,\n        \"min\": 0,\n        \"max\": 0,\n        \"num_unique_values\": 1,\n        \"samples\": [\n          0\n        ],\n        \"semantic_type\": \"\",\n        \"description\": \"\"\n      }\n    },\n    {\n      \"column\": \"flg_inforce\",\n      \"properties\": {\n        \"dtype\": \"number\",\n        \"std\": 0,\n        \"min\": 0,\n        \"max\": 1,\n        \"num_unique_values\": 2,\n        \"samples\": [\n          0\n        ],\n        \"semantic_type\": \"\",\n        \"description\": \"\"\n      }\n    },\n    {\n      \"column\": \"flg_lapsed\",\n      \"properties\": {\n        \"dtype\": \"number\",\n        \"std\": 0,\n        \"min\": 0,\n        \"max\": 1,\n        \"num_unique_values\": 2,\n        \"samples\": [\n          1\n        ],\n        \"semantic_type\": \"\",\n        \"description\": \"\"\n      }\n    },\n    {\n      \"column\": \"flg_cancel\",\n      \"properties\": {\n        \"dtype\": \"number\",\n        \"std\": 0,\n        \"min\": 0,\n        \"max\": 0,\n        \"num_unique_values\": 1,\n        \"samples\": [\n          0\n        ],\n        \"semantic_type\": \"\",\n        \"description\": \"\"\n      }\n    },\n    {\n      \"column\": \"flg_expire\",\n      \"properties\": {\n        \"dtype\": \"number\",\n        \"std\": 0,\n        \"min\": 0,\n        \"max\": 1,\n        \"num_unique_values\": 2,\n        \"samples\": [\n          1\n        ],\n        \"semantic_type\": \"\",\n        \"description\": \"\"\n      }\n    },\n    {\n      \"column\": \"flg_converted\",\n      \"properties\": {\n        \"dtype\": \"number\",\n        \"std\": 0,\n        \"min\": 1,\n        \"max\": 1,\n        \"num_unique_values\": 1,\n        \"samples\": [\n          1\n        ],\n        \"semantic_type\": \"\",\n        \"description\": \"\"\n      }\n    },\n    {\n      \"column\": \"product_grp\",\n      \"properties\": {\n        \"dtype\": \"category\",\n        \"num_unique_values\": 3,\n        \"samples\": [\n          \"PG:0\"\n        ],\n        \"semantic_type\": \"\",\n        \"description\": \"\"\n      }\n    },\n    {\n      \"column\": \"cust_age_at_purchase_grp\",\n      \"properties\": {\n        \"dtype\": \"category\",\n        \"num_unique_values\": 11,\n        \"samples\": [\n          \"AG06_40to44\"\n        ],\n        \"semantic_type\": \"\",\n        \"description\": \"\"\n      }\n    },\n    {\n      \"column\": \"cust_tenure_at_purchase_grp\",\n      \"properties\": {\n        \"dtype\": \"category\",\n        \"num_unique_values\": 4,\n        \"samples\": [\n          \"TNR4_4to8yr\"\n        ],\n        \"semantic_type\": \"\",\n        \"description\": \"\"\n      }\n    }\n  ]\n}"
            }
          },
          "metadata": {},
          "execution_count": 60
        }
      ]
    },
    {
      "cell_type": "markdown",
      "source": [
        "#### Dataset 2: Client Information"
      ],
      "metadata": {
        "id": "6TXROJHK1GXD"
      }
    },
    {
      "cell_type": "code",
      "source": [
        "# Extracting the client information parquet file from Google Colab\n",
        "client_info = '/content/drive/MyDrive/nus_client_info_df.parquet'\n",
        "\n",
        "# Reading the client information parquet file\n",
        "df_client = pd.read_parquet(client_info)\n",
        "\n",
        "# Viewing the first few rows of the client information dataset\n",
        "df_client.head()"
      ],
      "metadata": {
        "colab": {
          "base_uri": "https://localhost:8080/",
          "height": 206
        },
        "id": "FmWEip-0s33Q",
        "outputId": "9a29cd21-7b50-4bf8-c8eb-637b5012900d"
      },
      "execution_count": null,
      "outputs": [
        {
          "output_type": "execute_result",
          "data": {
            "text/plain": [
              "   secuityno cltsex     cltdob marryd race_desc_map cltpcode household_size  \\\n",
              "0  CIN:14264      F 1993-02-17      M       Chinese   545686              1   \n",
              "1   CIN:7188      F 1977-06-15      M       Chinese   308364             72   \n",
              "2  CIN:13608      F 1998-02-12      S       Chinese   387393             28   \n",
              "3   CIN:5087      F 1972-10-25      M       Chinese   640469             84   \n",
              "4  CIN:18531      M 1984-12-27      M        Others   763318             92   \n",
              "\n",
              "  economic_status family_size household_size_grp family_size_grp  \n",
              "0              76          56           HH1_lt40      FS3_40to60  \n",
              "1              96          90         HH2_40to80        FS5_80up  \n",
              "2              93          23           HH1_lt40      FS2_20to40  \n",
              "3              51          34        HH3_80to100      FS2_20to40  \n",
              "4              18          73        HH3_80to100      FS4_60to80  "
            ],
            "text/html": [
              "\n",
              "  <div id=\"df-73774708-4c52-47d1-9648-6ed5a9de465b\" class=\"colab-df-container\">\n",
              "    <div>\n",
              "<style scoped>\n",
              "    .dataframe tbody tr th:only-of-type {\n",
              "        vertical-align: middle;\n",
              "    }\n",
              "\n",
              "    .dataframe tbody tr th {\n",
              "        vertical-align: top;\n",
              "    }\n",
              "\n",
              "    .dataframe thead th {\n",
              "        text-align: right;\n",
              "    }\n",
              "</style>\n",
              "<table border=\"1\" class=\"dataframe\">\n",
              "  <thead>\n",
              "    <tr style=\"text-align: right;\">\n",
              "      <th></th>\n",
              "      <th>secuityno</th>\n",
              "      <th>cltsex</th>\n",
              "      <th>cltdob</th>\n",
              "      <th>marryd</th>\n",
              "      <th>race_desc_map</th>\n",
              "      <th>cltpcode</th>\n",
              "      <th>household_size</th>\n",
              "      <th>economic_status</th>\n",
              "      <th>family_size</th>\n",
              "      <th>household_size_grp</th>\n",
              "      <th>family_size_grp</th>\n",
              "    </tr>\n",
              "  </thead>\n",
              "  <tbody>\n",
              "    <tr>\n",
              "      <th>0</th>\n",
              "      <td>CIN:14264</td>\n",
              "      <td>F</td>\n",
              "      <td>1993-02-17</td>\n",
              "      <td>M</td>\n",
              "      <td>Chinese</td>\n",
              "      <td>545686</td>\n",
              "      <td>1</td>\n",
              "      <td>76</td>\n",
              "      <td>56</td>\n",
              "      <td>HH1_lt40</td>\n",
              "      <td>FS3_40to60</td>\n",
              "    </tr>\n",
              "    <tr>\n",
              "      <th>1</th>\n",
              "      <td>CIN:7188</td>\n",
              "      <td>F</td>\n",
              "      <td>1977-06-15</td>\n",
              "      <td>M</td>\n",
              "      <td>Chinese</td>\n",
              "      <td>308364</td>\n",
              "      <td>72</td>\n",
              "      <td>96</td>\n",
              "      <td>90</td>\n",
              "      <td>HH2_40to80</td>\n",
              "      <td>FS5_80up</td>\n",
              "    </tr>\n",
              "    <tr>\n",
              "      <th>2</th>\n",
              "      <td>CIN:13608</td>\n",
              "      <td>F</td>\n",
              "      <td>1998-02-12</td>\n",
              "      <td>S</td>\n",
              "      <td>Chinese</td>\n",
              "      <td>387393</td>\n",
              "      <td>28</td>\n",
              "      <td>93</td>\n",
              "      <td>23</td>\n",
              "      <td>HH1_lt40</td>\n",
              "      <td>FS2_20to40</td>\n",
              "    </tr>\n",
              "    <tr>\n",
              "      <th>3</th>\n",
              "      <td>CIN:5087</td>\n",
              "      <td>F</td>\n",
              "      <td>1972-10-25</td>\n",
              "      <td>M</td>\n",
              "      <td>Chinese</td>\n",
              "      <td>640469</td>\n",
              "      <td>84</td>\n",
              "      <td>51</td>\n",
              "      <td>34</td>\n",
              "      <td>HH3_80to100</td>\n",
              "      <td>FS2_20to40</td>\n",
              "    </tr>\n",
              "    <tr>\n",
              "      <th>4</th>\n",
              "      <td>CIN:18531</td>\n",
              "      <td>M</td>\n",
              "      <td>1984-12-27</td>\n",
              "      <td>M</td>\n",
              "      <td>Others</td>\n",
              "      <td>763318</td>\n",
              "      <td>92</td>\n",
              "      <td>18</td>\n",
              "      <td>73</td>\n",
              "      <td>HH3_80to100</td>\n",
              "      <td>FS4_60to80</td>\n",
              "    </tr>\n",
              "  </tbody>\n",
              "</table>\n",
              "</div>\n",
              "    <div class=\"colab-df-buttons\">\n",
              "\n",
              "  <div class=\"colab-df-container\">\n",
              "    <button class=\"colab-df-convert\" onclick=\"convertToInteractive('df-73774708-4c52-47d1-9648-6ed5a9de465b')\"\n",
              "            title=\"Convert this dataframe to an interactive table.\"\n",
              "            style=\"display:none;\">\n",
              "\n",
              "  <svg xmlns=\"http://www.w3.org/2000/svg\" height=\"24px\" viewBox=\"0 -960 960 960\">\n",
              "    <path d=\"M120-120v-720h720v720H120Zm60-500h600v-160H180v160Zm220 220h160v-160H400v160Zm0 220h160v-160H400v160ZM180-400h160v-160H180v160Zm440 0h160v-160H620v160ZM180-180h160v-160H180v160Zm440 0h160v-160H620v160Z\"/>\n",
              "  </svg>\n",
              "    </button>\n",
              "\n",
              "  <style>\n",
              "    .colab-df-container {\n",
              "      display:flex;\n",
              "      gap: 12px;\n",
              "    }\n",
              "\n",
              "    .colab-df-convert {\n",
              "      background-color: #E8F0FE;\n",
              "      border: none;\n",
              "      border-radius: 50%;\n",
              "      cursor: pointer;\n",
              "      display: none;\n",
              "      fill: #1967D2;\n",
              "      height: 32px;\n",
              "      padding: 0 0 0 0;\n",
              "      width: 32px;\n",
              "    }\n",
              "\n",
              "    .colab-df-convert:hover {\n",
              "      background-color: #E2EBFA;\n",
              "      box-shadow: 0px 1px 2px rgba(60, 64, 67, 0.3), 0px 1px 3px 1px rgba(60, 64, 67, 0.15);\n",
              "      fill: #174EA6;\n",
              "    }\n",
              "\n",
              "    .colab-df-buttons div {\n",
              "      margin-bottom: 4px;\n",
              "    }\n",
              "\n",
              "    [theme=dark] .colab-df-convert {\n",
              "      background-color: #3B4455;\n",
              "      fill: #D2E3FC;\n",
              "    }\n",
              "\n",
              "    [theme=dark] .colab-df-convert:hover {\n",
              "      background-color: #434B5C;\n",
              "      box-shadow: 0px 1px 3px 1px rgba(0, 0, 0, 0.15);\n",
              "      filter: drop-shadow(0px 1px 2px rgba(0, 0, 0, 0.3));\n",
              "      fill: #FFFFFF;\n",
              "    }\n",
              "  </style>\n",
              "\n",
              "    <script>\n",
              "      const buttonEl =\n",
              "        document.querySelector('#df-73774708-4c52-47d1-9648-6ed5a9de465b button.colab-df-convert');\n",
              "      buttonEl.style.display =\n",
              "        google.colab.kernel.accessAllowed ? 'block' : 'none';\n",
              "\n",
              "      async function convertToInteractive(key) {\n",
              "        const element = document.querySelector('#df-73774708-4c52-47d1-9648-6ed5a9de465b');\n",
              "        const dataTable =\n",
              "          await google.colab.kernel.invokeFunction('convertToInteractive',\n",
              "                                                    [key], {});\n",
              "        if (!dataTable) return;\n",
              "\n",
              "        const docLinkHtml = 'Like what you see? Visit the ' +\n",
              "          '<a target=\"_blank\" href=https://colab.research.google.com/notebooks/data_table.ipynb>data table notebook</a>'\n",
              "          + ' to learn more about interactive tables.';\n",
              "        element.innerHTML = '';\n",
              "        dataTable['output_type'] = 'display_data';\n",
              "        await google.colab.output.renderOutput(dataTable, element);\n",
              "        const docLink = document.createElement('div');\n",
              "        docLink.innerHTML = docLinkHtml;\n",
              "        element.appendChild(docLink);\n",
              "      }\n",
              "    </script>\n",
              "  </div>\n",
              "\n",
              "\n",
              "<div id=\"df-14f3af92-378a-4314-8f32-804a04a7645a\">\n",
              "  <button class=\"colab-df-quickchart\" onclick=\"quickchart('df-14f3af92-378a-4314-8f32-804a04a7645a')\"\n",
              "            title=\"Suggest charts\"\n",
              "            style=\"display:none;\">\n",
              "\n",
              "<svg xmlns=\"http://www.w3.org/2000/svg\" height=\"24px\"viewBox=\"0 0 24 24\"\n",
              "     width=\"24px\">\n",
              "    <g>\n",
              "        <path d=\"M19 3H5c-1.1 0-2 .9-2 2v14c0 1.1.9 2 2 2h14c1.1 0 2-.9 2-2V5c0-1.1-.9-2-2-2zM9 17H7v-7h2v7zm4 0h-2V7h2v10zm4 0h-2v-4h2v4z\"/>\n",
              "    </g>\n",
              "</svg>\n",
              "  </button>\n",
              "\n",
              "<style>\n",
              "  .colab-df-quickchart {\n",
              "      --bg-color: #E8F0FE;\n",
              "      --fill-color: #1967D2;\n",
              "      --hover-bg-color: #E2EBFA;\n",
              "      --hover-fill-color: #174EA6;\n",
              "      --disabled-fill-color: #AAA;\n",
              "      --disabled-bg-color: #DDD;\n",
              "  }\n",
              "\n",
              "  [theme=dark] .colab-df-quickchart {\n",
              "      --bg-color: #3B4455;\n",
              "      --fill-color: #D2E3FC;\n",
              "      --hover-bg-color: #434B5C;\n",
              "      --hover-fill-color: #FFFFFF;\n",
              "      --disabled-bg-color: #3B4455;\n",
              "      --disabled-fill-color: #666;\n",
              "  }\n",
              "\n",
              "  .colab-df-quickchart {\n",
              "    background-color: var(--bg-color);\n",
              "    border: none;\n",
              "    border-radius: 50%;\n",
              "    cursor: pointer;\n",
              "    display: none;\n",
              "    fill: var(--fill-color);\n",
              "    height: 32px;\n",
              "    padding: 0;\n",
              "    width: 32px;\n",
              "  }\n",
              "\n",
              "  .colab-df-quickchart:hover {\n",
              "    background-color: var(--hover-bg-color);\n",
              "    box-shadow: 0 1px 2px rgba(60, 64, 67, 0.3), 0 1px 3px 1px rgba(60, 64, 67, 0.15);\n",
              "    fill: var(--button-hover-fill-color);\n",
              "  }\n",
              "\n",
              "  .colab-df-quickchart-complete:disabled,\n",
              "  .colab-df-quickchart-complete:disabled:hover {\n",
              "    background-color: var(--disabled-bg-color);\n",
              "    fill: var(--disabled-fill-color);\n",
              "    box-shadow: none;\n",
              "  }\n",
              "\n",
              "  .colab-df-spinner {\n",
              "    border: 2px solid var(--fill-color);\n",
              "    border-color: transparent;\n",
              "    border-bottom-color: var(--fill-color);\n",
              "    animation:\n",
              "      spin 1s steps(1) infinite;\n",
              "  }\n",
              "\n",
              "  @keyframes spin {\n",
              "    0% {\n",
              "      border-color: transparent;\n",
              "      border-bottom-color: var(--fill-color);\n",
              "      border-left-color: var(--fill-color);\n",
              "    }\n",
              "    20% {\n",
              "      border-color: transparent;\n",
              "      border-left-color: var(--fill-color);\n",
              "      border-top-color: var(--fill-color);\n",
              "    }\n",
              "    30% {\n",
              "      border-color: transparent;\n",
              "      border-left-color: var(--fill-color);\n",
              "      border-top-color: var(--fill-color);\n",
              "      border-right-color: var(--fill-color);\n",
              "    }\n",
              "    40% {\n",
              "      border-color: transparent;\n",
              "      border-right-color: var(--fill-color);\n",
              "      border-top-color: var(--fill-color);\n",
              "    }\n",
              "    60% {\n",
              "      border-color: transparent;\n",
              "      border-right-color: var(--fill-color);\n",
              "    }\n",
              "    80% {\n",
              "      border-color: transparent;\n",
              "      border-right-color: var(--fill-color);\n",
              "      border-bottom-color: var(--fill-color);\n",
              "    }\n",
              "    90% {\n",
              "      border-color: transparent;\n",
              "      border-bottom-color: var(--fill-color);\n",
              "    }\n",
              "  }\n",
              "</style>\n",
              "\n",
              "  <script>\n",
              "    async function quickchart(key) {\n",
              "      const quickchartButtonEl =\n",
              "        document.querySelector('#' + key + ' button');\n",
              "      quickchartButtonEl.disabled = true;  // To prevent multiple clicks.\n",
              "      quickchartButtonEl.classList.add('colab-df-spinner');\n",
              "      try {\n",
              "        const charts = await google.colab.kernel.invokeFunction(\n",
              "            'suggestCharts', [key], {});\n",
              "      } catch (error) {\n",
              "        console.error('Error during call to suggestCharts:', error);\n",
              "      }\n",
              "      quickchartButtonEl.classList.remove('colab-df-spinner');\n",
              "      quickchartButtonEl.classList.add('colab-df-quickchart-complete');\n",
              "    }\n",
              "    (() => {\n",
              "      let quickchartButtonEl =\n",
              "        document.querySelector('#df-14f3af92-378a-4314-8f32-804a04a7645a button');\n",
              "      quickchartButtonEl.style.display =\n",
              "        google.colab.kernel.accessAllowed ? 'block' : 'none';\n",
              "    })();\n",
              "  </script>\n",
              "</div>\n",
              "\n",
              "    </div>\n",
              "  </div>\n"
            ],
            "application/vnd.google.colaboratory.intrinsic+json": {
              "type": "dataframe",
              "variable_name": "df_client",
              "summary": "{\n  \"name\": \"df_client\",\n  \"rows\": 20000,\n  \"fields\": [\n    {\n      \"column\": \"secuityno\",\n      \"properties\": {\n        \"dtype\": \"string\",\n        \"num_unique_values\": 20000,\n        \"samples\": [\n          \"CIN:8335\",\n          \"CIN:18980\",\n          \"CIN:16739\"\n        ],\n        \"semantic_type\": \"\",\n        \"description\": \"\"\n      }\n    },\n    {\n      \"column\": \"cltsex\",\n      \"properties\": {\n        \"dtype\": \"category\",\n        \"num_unique_values\": 3,\n        \"samples\": [\n          \"F\",\n          \"M\",\n          \" \"\n        ],\n        \"semantic_type\": \"\",\n        \"description\": \"\"\n      }\n    },\n    {\n      \"column\": \"cltdob\",\n      \"properties\": {\n        \"dtype\": \"date\",\n        \"min\": \"1940-11-21 00:00:00\",\n        \"max\": \"2021-10-18 00:00:00\",\n        \"num_unique_values\": 10941,\n        \"samples\": [\n          \"1966-05-04 00:00:00\",\n          \"1992-01-29 00:00:00\",\n          \"1980-09-14 00:00:00\"\n        ],\n        \"semantic_type\": \"\",\n        \"description\": \"\"\n      }\n    },\n    {\n      \"column\": \"marryd\",\n      \"properties\": {\n        \"dtype\": \"category\",\n        \"num_unique_values\": 7,\n        \"samples\": [\n          \"M\",\n          \"S\",\n          \" \"\n        ],\n        \"semantic_type\": \"\",\n        \"description\": \"\"\n      }\n    },\n    {\n      \"column\": \"race_desc_map\",\n      \"properties\": {\n        \"dtype\": \"category\",\n        \"num_unique_values\": 4,\n        \"samples\": [\n          \"Others\",\n          \"Malay\",\n          \"Chinese\"\n        ],\n        \"semantic_type\": \"\",\n        \"description\": \"\"\n      }\n    },\n    {\n      \"column\": \"cltpcode\",\n      \"properties\": {\n        \"dtype\": \"string\",\n        \"num_unique_values\": 11056,\n        \"samples\": [\n          \"510150\",\n          \"637479\",\n          \"520852\"\n        ],\n        \"semantic_type\": \"\",\n        \"description\": \"\"\n      }\n    },\n    {\n      \"column\": \"household_size\",\n      \"properties\": {\n        \"dtype\": \"category\",\n        \"num_unique_values\": 348,\n        \"samples\": [\n          \"276\",\n          \"148\",\n          \"322\"\n        ],\n        \"semantic_type\": \"\",\n        \"description\": \"\"\n      }\n    },\n    {\n      \"column\": \"economic_status\",\n      \"properties\": {\n        \"dtype\": \"category\",\n        \"num_unique_values\": 100,\n        \"samples\": [\n          \"06\",\n          \"67\",\n          \"24\"\n        ],\n        \"semantic_type\": \"\",\n        \"description\": \"\"\n      }\n    },\n    {\n      \"column\": \"family_size\",\n      \"properties\": {\n        \"dtype\": \"category\",\n        \"num_unique_values\": 100,\n        \"samples\": [\n          \"14\",\n          \"70\",\n          \"75\"\n        ],\n        \"semantic_type\": \"\",\n        \"description\": \"\"\n      }\n    },\n    {\n      \"column\": \"household_size_grp\",\n      \"properties\": {\n        \"dtype\": \"category\",\n        \"num_unique_values\": 6,\n        \"samples\": [\n          \"HH1_lt40\",\n          \"HH2_40to80\",\n          \"HH0_missing\"\n        ],\n        \"semantic_type\": \"\",\n        \"description\": \"\"\n      }\n    },\n    {\n      \"column\": \"family_size_grp\",\n      \"properties\": {\n        \"dtype\": \"category\",\n        \"num_unique_values\": 6,\n        \"samples\": [\n          \"FS3_40to60\",\n          \"FS5_80up\",\n          \"FS0_missing\"\n        ],\n        \"semantic_type\": \"\",\n        \"description\": \"\"\n      }\n    }\n  ]\n}"
            }
          },
          "metadata": {},
          "execution_count": 61
        }
      ]
    },
    {
      "cell_type": "markdown",
      "source": [
        "#### Dataset 3: Agent Information"
      ],
      "metadata": {
        "id": "UDPRSdTV1LPY"
      }
    },
    {
      "cell_type": "code",
      "source": [
        "# Extracting the agent information parquet file from Google Colab\n",
        "agent_info = '//content/drive/MyDrive/nus_agent_info_df.parquet'\n",
        "\n",
        "# Reading the agent information parquet file\n",
        "df_agent = pd.read_parquet(agent_info)\n",
        "\n",
        "# Viewing the first few rows of the agent information dataset\n",
        "df_agent.head()"
      ],
      "metadata": {
        "colab": {
          "base_uri": "https://localhost:8080/",
          "height": 272
        },
        "id": "ex4T2jWbtHZs",
        "outputId": "c8129162-4667-4466-f793-1dd0b0d97e19"
      },
      "execution_count": null,
      "outputs": [
        {
          "output_type": "execute_result",
          "data": {
            "text/plain": [
              "    agntnum  agent_age agent_gender agent_marital  agent_tenure  \\\n",
              "0  AIN:9513       32.0            M             M          15.0   \n",
              "1  AIN:4310       40.0            M             M          18.0   \n",
              "2  AIN:4302       39.0            F             M          40.0   \n",
              "3  AIN:4996       57.0            F             D          41.0   \n",
              "4  AIN:3457       38.0            M             M          62.0   \n",
              "\n",
              "   cnt_converted  annual_premium_cnvrt  pct_lapsed  pct_cancel  pct_inforce  \\\n",
              "0           21.0          1.004900e+04         1.0    0.814954     0.000000   \n",
              "1          396.0          1.971080e+05         0.6    0.083937     0.429293   \n",
              "2          853.0          5.106351e+05         0.3    0.017406     0.711606   \n",
              "3          554.0          3.514724e+05         0.3    0.003623     0.584838   \n",
              "4         1525.0          1.215380e+06         0.3    0.017523     0.640656   \n",
              "\n",
              "   ...  pct_AG03_25to29  pct_AG04_30to34  pct_AG05_35to39  pct_AG06_40to44  \\\n",
              "0  ...         0.142857         0.000000         0.000000         0.000000   \n",
              "1  ...         0.131313         0.388889         0.116162         0.184343   \n",
              "2  ...         0.137163         0.144197         0.177022         0.311841   \n",
              "3  ...         0.009025         0.128159         0.108303         0.234657   \n",
              "4  ...         0.069508         0.201311         0.215082         0.214426   \n",
              "\n",
              "   pct_AG07_45to49  pct_AG08_50to54  pct_AG09_55to59  pct_AG10_60up  cluster  \\\n",
              "0         0.000000         0.238095         0.142857       0.238095        3   \n",
              "1         0.083333         0.020202         0.040404       0.010101        6   \n",
              "2         0.106682         0.036342         0.035170       0.010551        6   \n",
              "3         0.162455         0.135379         0.160650       0.037906        6   \n",
              "4         0.108197         0.084590         0.043279       0.015082        6   \n",
              "\n",
              "                    agent_product_expertise  \n",
              "0                          [prod_2, prod_6]  \n",
              "1                                  [prod_6]  \n",
              "2                                  [prod_4]  \n",
              "3  [prod_7, prod_9, prod_6, prod_0, prod_2]  \n",
              "4                          [prod_6, prod_8]  \n",
              "\n",
              "[5 rows x 35 columns]"
            ],
            "text/html": [
              "\n",
              "  <div id=\"df-632e4f15-2f6a-4312-a098-c29996667a33\" class=\"colab-df-container\">\n",
              "    <div>\n",
              "<style scoped>\n",
              "    .dataframe tbody tr th:only-of-type {\n",
              "        vertical-align: middle;\n",
              "    }\n",
              "\n",
              "    .dataframe tbody tr th {\n",
              "        vertical-align: top;\n",
              "    }\n",
              "\n",
              "    .dataframe thead th {\n",
              "        text-align: right;\n",
              "    }\n",
              "</style>\n",
              "<table border=\"1\" class=\"dataframe\">\n",
              "  <thead>\n",
              "    <tr style=\"text-align: right;\">\n",
              "      <th></th>\n",
              "      <th>agntnum</th>\n",
              "      <th>agent_age</th>\n",
              "      <th>agent_gender</th>\n",
              "      <th>agent_marital</th>\n",
              "      <th>agent_tenure</th>\n",
              "      <th>cnt_converted</th>\n",
              "      <th>annual_premium_cnvrt</th>\n",
              "      <th>pct_lapsed</th>\n",
              "      <th>pct_cancel</th>\n",
              "      <th>pct_inforce</th>\n",
              "      <th>...</th>\n",
              "      <th>pct_AG03_25to29</th>\n",
              "      <th>pct_AG04_30to34</th>\n",
              "      <th>pct_AG05_35to39</th>\n",
              "      <th>pct_AG06_40to44</th>\n",
              "      <th>pct_AG07_45to49</th>\n",
              "      <th>pct_AG08_50to54</th>\n",
              "      <th>pct_AG09_55to59</th>\n",
              "      <th>pct_AG10_60up</th>\n",
              "      <th>cluster</th>\n",
              "      <th>agent_product_expertise</th>\n",
              "    </tr>\n",
              "  </thead>\n",
              "  <tbody>\n",
              "    <tr>\n",
              "      <th>0</th>\n",
              "      <td>AIN:9513</td>\n",
              "      <td>32.0</td>\n",
              "      <td>M</td>\n",
              "      <td>M</td>\n",
              "      <td>15.0</td>\n",
              "      <td>21.0</td>\n",
              "      <td>1.004900e+04</td>\n",
              "      <td>1.0</td>\n",
              "      <td>0.814954</td>\n",
              "      <td>0.000000</td>\n",
              "      <td>...</td>\n",
              "      <td>0.142857</td>\n",
              "      <td>0.000000</td>\n",
              "      <td>0.000000</td>\n",
              "      <td>0.000000</td>\n",
              "      <td>0.000000</td>\n",
              "      <td>0.238095</td>\n",
              "      <td>0.142857</td>\n",
              "      <td>0.238095</td>\n",
              "      <td>3</td>\n",
              "      <td>[prod_2, prod_6]</td>\n",
              "    </tr>\n",
              "    <tr>\n",
              "      <th>1</th>\n",
              "      <td>AIN:4310</td>\n",
              "      <td>40.0</td>\n",
              "      <td>M</td>\n",
              "      <td>M</td>\n",
              "      <td>18.0</td>\n",
              "      <td>396.0</td>\n",
              "      <td>1.971080e+05</td>\n",
              "      <td>0.6</td>\n",
              "      <td>0.083937</td>\n",
              "      <td>0.429293</td>\n",
              "      <td>...</td>\n",
              "      <td>0.131313</td>\n",
              "      <td>0.388889</td>\n",
              "      <td>0.116162</td>\n",
              "      <td>0.184343</td>\n",
              "      <td>0.083333</td>\n",
              "      <td>0.020202</td>\n",
              "      <td>0.040404</td>\n",
              "      <td>0.010101</td>\n",
              "      <td>6</td>\n",
              "      <td>[prod_6]</td>\n",
              "    </tr>\n",
              "    <tr>\n",
              "      <th>2</th>\n",
              "      <td>AIN:4302</td>\n",
              "      <td>39.0</td>\n",
              "      <td>F</td>\n",
              "      <td>M</td>\n",
              "      <td>40.0</td>\n",
              "      <td>853.0</td>\n",
              "      <td>5.106351e+05</td>\n",
              "      <td>0.3</td>\n",
              "      <td>0.017406</td>\n",
              "      <td>0.711606</td>\n",
              "      <td>...</td>\n",
              "      <td>0.137163</td>\n",
              "      <td>0.144197</td>\n",
              "      <td>0.177022</td>\n",
              "      <td>0.311841</td>\n",
              "      <td>0.106682</td>\n",
              "      <td>0.036342</td>\n",
              "      <td>0.035170</td>\n",
              "      <td>0.010551</td>\n",
              "      <td>6</td>\n",
              "      <td>[prod_4]</td>\n",
              "    </tr>\n",
              "    <tr>\n",
              "      <th>3</th>\n",
              "      <td>AIN:4996</td>\n",
              "      <td>57.0</td>\n",
              "      <td>F</td>\n",
              "      <td>D</td>\n",
              "      <td>41.0</td>\n",
              "      <td>554.0</td>\n",
              "      <td>3.514724e+05</td>\n",
              "      <td>0.3</td>\n",
              "      <td>0.003623</td>\n",
              "      <td>0.584838</td>\n",
              "      <td>...</td>\n",
              "      <td>0.009025</td>\n",
              "      <td>0.128159</td>\n",
              "      <td>0.108303</td>\n",
              "      <td>0.234657</td>\n",
              "      <td>0.162455</td>\n",
              "      <td>0.135379</td>\n",
              "      <td>0.160650</td>\n",
              "      <td>0.037906</td>\n",
              "      <td>6</td>\n",
              "      <td>[prod_7, prod_9, prod_6, prod_0, prod_2]</td>\n",
              "    </tr>\n",
              "    <tr>\n",
              "      <th>4</th>\n",
              "      <td>AIN:3457</td>\n",
              "      <td>38.0</td>\n",
              "      <td>M</td>\n",
              "      <td>M</td>\n",
              "      <td>62.0</td>\n",
              "      <td>1525.0</td>\n",
              "      <td>1.215380e+06</td>\n",
              "      <td>0.3</td>\n",
              "      <td>0.017523</td>\n",
              "      <td>0.640656</td>\n",
              "      <td>...</td>\n",
              "      <td>0.069508</td>\n",
              "      <td>0.201311</td>\n",
              "      <td>0.215082</td>\n",
              "      <td>0.214426</td>\n",
              "      <td>0.108197</td>\n",
              "      <td>0.084590</td>\n",
              "      <td>0.043279</td>\n",
              "      <td>0.015082</td>\n",
              "      <td>6</td>\n",
              "      <td>[prod_6, prod_8]</td>\n",
              "    </tr>\n",
              "  </tbody>\n",
              "</table>\n",
              "<p>5 rows × 35 columns</p>\n",
              "</div>\n",
              "    <div class=\"colab-df-buttons\">\n",
              "\n",
              "  <div class=\"colab-df-container\">\n",
              "    <button class=\"colab-df-convert\" onclick=\"convertToInteractive('df-632e4f15-2f6a-4312-a098-c29996667a33')\"\n",
              "            title=\"Convert this dataframe to an interactive table.\"\n",
              "            style=\"display:none;\">\n",
              "\n",
              "  <svg xmlns=\"http://www.w3.org/2000/svg\" height=\"24px\" viewBox=\"0 -960 960 960\">\n",
              "    <path d=\"M120-120v-720h720v720H120Zm60-500h600v-160H180v160Zm220 220h160v-160H400v160Zm0 220h160v-160H400v160ZM180-400h160v-160H180v160Zm440 0h160v-160H620v160ZM180-180h160v-160H180v160Zm440 0h160v-160H620v160Z\"/>\n",
              "  </svg>\n",
              "    </button>\n",
              "\n",
              "  <style>\n",
              "    .colab-df-container {\n",
              "      display:flex;\n",
              "      gap: 12px;\n",
              "    }\n",
              "\n",
              "    .colab-df-convert {\n",
              "      background-color: #E8F0FE;\n",
              "      border: none;\n",
              "      border-radius: 50%;\n",
              "      cursor: pointer;\n",
              "      display: none;\n",
              "      fill: #1967D2;\n",
              "      height: 32px;\n",
              "      padding: 0 0 0 0;\n",
              "      width: 32px;\n",
              "    }\n",
              "\n",
              "    .colab-df-convert:hover {\n",
              "      background-color: #E2EBFA;\n",
              "      box-shadow: 0px 1px 2px rgba(60, 64, 67, 0.3), 0px 1px 3px 1px rgba(60, 64, 67, 0.15);\n",
              "      fill: #174EA6;\n",
              "    }\n",
              "\n",
              "    .colab-df-buttons div {\n",
              "      margin-bottom: 4px;\n",
              "    }\n",
              "\n",
              "    [theme=dark] .colab-df-convert {\n",
              "      background-color: #3B4455;\n",
              "      fill: #D2E3FC;\n",
              "    }\n",
              "\n",
              "    [theme=dark] .colab-df-convert:hover {\n",
              "      background-color: #434B5C;\n",
              "      box-shadow: 0px 1px 3px 1px rgba(0, 0, 0, 0.15);\n",
              "      filter: drop-shadow(0px 1px 2px rgba(0, 0, 0, 0.3));\n",
              "      fill: #FFFFFF;\n",
              "    }\n",
              "  </style>\n",
              "\n",
              "    <script>\n",
              "      const buttonEl =\n",
              "        document.querySelector('#df-632e4f15-2f6a-4312-a098-c29996667a33 button.colab-df-convert');\n",
              "      buttonEl.style.display =\n",
              "        google.colab.kernel.accessAllowed ? 'block' : 'none';\n",
              "\n",
              "      async function convertToInteractive(key) {\n",
              "        const element = document.querySelector('#df-632e4f15-2f6a-4312-a098-c29996667a33');\n",
              "        const dataTable =\n",
              "          await google.colab.kernel.invokeFunction('convertToInteractive',\n",
              "                                                    [key], {});\n",
              "        if (!dataTable) return;\n",
              "\n",
              "        const docLinkHtml = 'Like what you see? Visit the ' +\n",
              "          '<a target=\"_blank\" href=https://colab.research.google.com/notebooks/data_table.ipynb>data table notebook</a>'\n",
              "          + ' to learn more about interactive tables.';\n",
              "        element.innerHTML = '';\n",
              "        dataTable['output_type'] = 'display_data';\n",
              "        await google.colab.output.renderOutput(dataTable, element);\n",
              "        const docLink = document.createElement('div');\n",
              "        docLink.innerHTML = docLinkHtml;\n",
              "        element.appendChild(docLink);\n",
              "      }\n",
              "    </script>\n",
              "  </div>\n",
              "\n",
              "\n",
              "<div id=\"df-07ceb843-cafe-4c15-b9a3-a78700b5b1ad\">\n",
              "  <button class=\"colab-df-quickchart\" onclick=\"quickchart('df-07ceb843-cafe-4c15-b9a3-a78700b5b1ad')\"\n",
              "            title=\"Suggest charts\"\n",
              "            style=\"display:none;\">\n",
              "\n",
              "<svg xmlns=\"http://www.w3.org/2000/svg\" height=\"24px\"viewBox=\"0 0 24 24\"\n",
              "     width=\"24px\">\n",
              "    <g>\n",
              "        <path d=\"M19 3H5c-1.1 0-2 .9-2 2v14c0 1.1.9 2 2 2h14c1.1 0 2-.9 2-2V5c0-1.1-.9-2-2-2zM9 17H7v-7h2v7zm4 0h-2V7h2v10zm4 0h-2v-4h2v4z\"/>\n",
              "    </g>\n",
              "</svg>\n",
              "  </button>\n",
              "\n",
              "<style>\n",
              "  .colab-df-quickchart {\n",
              "      --bg-color: #E8F0FE;\n",
              "      --fill-color: #1967D2;\n",
              "      --hover-bg-color: #E2EBFA;\n",
              "      --hover-fill-color: #174EA6;\n",
              "      --disabled-fill-color: #AAA;\n",
              "      --disabled-bg-color: #DDD;\n",
              "  }\n",
              "\n",
              "  [theme=dark] .colab-df-quickchart {\n",
              "      --bg-color: #3B4455;\n",
              "      --fill-color: #D2E3FC;\n",
              "      --hover-bg-color: #434B5C;\n",
              "      --hover-fill-color: #FFFFFF;\n",
              "      --disabled-bg-color: #3B4455;\n",
              "      --disabled-fill-color: #666;\n",
              "  }\n",
              "\n",
              "  .colab-df-quickchart {\n",
              "    background-color: var(--bg-color);\n",
              "    border: none;\n",
              "    border-radius: 50%;\n",
              "    cursor: pointer;\n",
              "    display: none;\n",
              "    fill: var(--fill-color);\n",
              "    height: 32px;\n",
              "    padding: 0;\n",
              "    width: 32px;\n",
              "  }\n",
              "\n",
              "  .colab-df-quickchart:hover {\n",
              "    background-color: var(--hover-bg-color);\n",
              "    box-shadow: 0 1px 2px rgba(60, 64, 67, 0.3), 0 1px 3px 1px rgba(60, 64, 67, 0.15);\n",
              "    fill: var(--button-hover-fill-color);\n",
              "  }\n",
              "\n",
              "  .colab-df-quickchart-complete:disabled,\n",
              "  .colab-df-quickchart-complete:disabled:hover {\n",
              "    background-color: var(--disabled-bg-color);\n",
              "    fill: var(--disabled-fill-color);\n",
              "    box-shadow: none;\n",
              "  }\n",
              "\n",
              "  .colab-df-spinner {\n",
              "    border: 2px solid var(--fill-color);\n",
              "    border-color: transparent;\n",
              "    border-bottom-color: var(--fill-color);\n",
              "    animation:\n",
              "      spin 1s steps(1) infinite;\n",
              "  }\n",
              "\n",
              "  @keyframes spin {\n",
              "    0% {\n",
              "      border-color: transparent;\n",
              "      border-bottom-color: var(--fill-color);\n",
              "      border-left-color: var(--fill-color);\n",
              "    }\n",
              "    20% {\n",
              "      border-color: transparent;\n",
              "      border-left-color: var(--fill-color);\n",
              "      border-top-color: var(--fill-color);\n",
              "    }\n",
              "    30% {\n",
              "      border-color: transparent;\n",
              "      border-left-color: var(--fill-color);\n",
              "      border-top-color: var(--fill-color);\n",
              "      border-right-color: var(--fill-color);\n",
              "    }\n",
              "    40% {\n",
              "      border-color: transparent;\n",
              "      border-right-color: var(--fill-color);\n",
              "      border-top-color: var(--fill-color);\n",
              "    }\n",
              "    60% {\n",
              "      border-color: transparent;\n",
              "      border-right-color: var(--fill-color);\n",
              "    }\n",
              "    80% {\n",
              "      border-color: transparent;\n",
              "      border-right-color: var(--fill-color);\n",
              "      border-bottom-color: var(--fill-color);\n",
              "    }\n",
              "    90% {\n",
              "      border-color: transparent;\n",
              "      border-bottom-color: var(--fill-color);\n",
              "    }\n",
              "  }\n",
              "</style>\n",
              "\n",
              "  <script>\n",
              "    async function quickchart(key) {\n",
              "      const quickchartButtonEl =\n",
              "        document.querySelector('#' + key + ' button');\n",
              "      quickchartButtonEl.disabled = true;  // To prevent multiple clicks.\n",
              "      quickchartButtonEl.classList.add('colab-df-spinner');\n",
              "      try {\n",
              "        const charts = await google.colab.kernel.invokeFunction(\n",
              "            'suggestCharts', [key], {});\n",
              "      } catch (error) {\n",
              "        console.error('Error during call to suggestCharts:', error);\n",
              "      }\n",
              "      quickchartButtonEl.classList.remove('colab-df-spinner');\n",
              "      quickchartButtonEl.classList.add('colab-df-quickchart-complete');\n",
              "    }\n",
              "    (() => {\n",
              "      let quickchartButtonEl =\n",
              "        document.querySelector('#df-07ceb843-cafe-4c15-b9a3-a78700b5b1ad button');\n",
              "      quickchartButtonEl.style.display =\n",
              "        google.colab.kernel.accessAllowed ? 'block' : 'none';\n",
              "    })();\n",
              "  </script>\n",
              "</div>\n",
              "\n",
              "    </div>\n",
              "  </div>\n"
            ],
            "application/vnd.google.colaboratory.intrinsic+json": {
              "type": "dataframe",
              "variable_name": "df_agent"
            }
          },
          "metadata": {},
          "execution_count": 62
        }
      ]
    },
    {
      "cell_type": "markdown",
      "source": [
        "------------------------------------------------------------------------------------------------------------------------------------------"
      ],
      "metadata": {
        "id": "a5AHf6jr1B3G"
      }
    },
    {
      "cell_type": "markdown",
      "source": [
        "## Inspecting The Datasets"
      ],
      "metadata": {
        "id": "5B1DXOXn0zPe"
      }
    },
    {
      "cell_type": "markdown",
      "source": [
        "* We can examine the column names of the dataset using `.columns`\n",
        "* We can check the dimensions (row and columns) of the dataset using `.shape`\n",
        "* We can examine the data types of the respective columns using `.info()`"
      ],
      "metadata": {
        "id": "tM99Ksp21a6V"
      }
    },
    {
      "cell_type": "markdown",
      "source": [
        "#### Dataset 1: Policy Information"
      ],
      "metadata": {
        "id": "Trr_BZla1ULa"
      }
    },
    {
      "cell_type": "code",
      "source": [
        "print(\"Policy Information Dataset: \")\n",
        "print(\"\\n\")\n",
        "\n",
        "# Examine the column names of the policy information dataset\n",
        "print(f\"Column Names: {list(df_policy.columns)}\")\n",
        "print(\"\\n\")\n",
        "\n",
        "# Check the dimensions of the policy information dataset\n",
        "print(f\"Dimensions: {df_policy.shape}\")\n",
        "print(\"\\n\")\n",
        "\n",
        "# Examine the data types of the policy information dataset\n",
        "df_policy.info()"
      ],
      "metadata": {
        "colab": {
          "base_uri": "https://localhost:8080/"
        },
        "id": "SAflSrXZzRrM",
        "outputId": "be963aa3-ea7d-4a62-a203-9aa2ee8e2f4f"
      },
      "execution_count": null,
      "outputs": [
        {
          "output_type": "stream",
          "name": "stdout",
          "text": [
            "Policy Information Dataset: \n",
            "\n",
            "\n",
            "Column Names: ['chdrnum', 'agntnum', 'secuityno', 'occdate', 'annual_premium', 'product', 'flg_main', 'flg_rider', 'flg_inforce', 'flg_lapsed', 'flg_cancel', 'flg_expire', 'flg_converted', 'product_grp', 'cust_age_at_purchase_grp', 'cust_tenure_at_purchase_grp']\n",
            "\n",
            "\n",
            "Dimensions: (29503, 16)\n",
            "\n",
            "\n",
            "<class 'pandas.core.frame.DataFrame'>\n",
            "RangeIndex: 29503 entries, 0 to 29502\n",
            "Data columns (total 16 columns):\n",
            " #   Column                       Non-Null Count  Dtype         \n",
            "---  ------                       --------------  -----         \n",
            " 0   chdrnum                      29503 non-null  object        \n",
            " 1   agntnum                      29503 non-null  object        \n",
            " 2   secuityno                    29503 non-null  object        \n",
            " 3   occdate                      29503 non-null  datetime64[us]\n",
            " 4   annual_premium               29503 non-null  float64       \n",
            " 5   product                      29503 non-null  object        \n",
            " 6   flg_main                     29503 non-null  int64         \n",
            " 7   flg_rider                    29503 non-null  int64         \n",
            " 8   flg_inforce                  29503 non-null  int64         \n",
            " 9   flg_lapsed                   29503 non-null  int64         \n",
            " 10  flg_cancel                   29503 non-null  int64         \n",
            " 11  flg_expire                   29503 non-null  int64         \n",
            " 12  flg_converted                29503 non-null  int64         \n",
            " 13  product_grp                  29503 non-null  object        \n",
            " 14  cust_age_at_purchase_grp     29503 non-null  object        \n",
            " 15  cust_tenure_at_purchase_grp  29503 non-null  object        \n",
            "dtypes: datetime64[us](1), float64(1), int64(7), object(7)\n",
            "memory usage: 3.6+ MB\n"
          ]
        }
      ]
    },
    {
      "cell_type": "markdown",
      "source": [
        "#### Dataset 2: Client Information"
      ],
      "metadata": {
        "id": "tgYCp-kH3r2L"
      }
    },
    {
      "cell_type": "code",
      "source": [
        "print(\"Client Information Dataset: \")\n",
        "print(\"\\n\")\n",
        "\n",
        "# Examine the column names of the policy information dataset\n",
        "print(f\"Column Names: {list(df_client.columns)}\")\n",
        "print(\"\\n\")\n",
        "\n",
        "# Check the dimensions of the policy information dataset\n",
        "print(f\"Dimensions: {df_client.shape}\")\n",
        "print(\"\\n\")\n",
        "\n",
        "# Examine the data types of the policy information dataset\n",
        "df_client.info()"
      ],
      "metadata": {
        "colab": {
          "base_uri": "https://localhost:8080/"
        },
        "id": "IoqU9jvM3wFJ",
        "outputId": "cd793a41-3766-4273-849b-e7fffdcdf8ca"
      },
      "execution_count": null,
      "outputs": [
        {
          "output_type": "stream",
          "name": "stdout",
          "text": [
            "Client Information Dataset: \n",
            "\n",
            "\n",
            "Column Names: ['secuityno', 'cltsex', 'cltdob', 'marryd', 'race_desc_map', 'cltpcode', 'household_size', 'economic_status', 'family_size', 'household_size_grp', 'family_size_grp']\n",
            "\n",
            "\n",
            "Dimensions: (20000, 11)\n",
            "\n",
            "\n",
            "<class 'pandas.core.frame.DataFrame'>\n",
            "RangeIndex: 20000 entries, 0 to 19999\n",
            "Data columns (total 11 columns):\n",
            " #   Column              Non-Null Count  Dtype         \n",
            "---  ------              --------------  -----         \n",
            " 0   secuityno           20000 non-null  object        \n",
            " 1   cltsex              20000 non-null  object        \n",
            " 2   cltdob              19994 non-null  datetime64[ns]\n",
            " 3   marryd              20000 non-null  object        \n",
            " 4   race_desc_map       19990 non-null  object        \n",
            " 5   cltpcode            19844 non-null  object        \n",
            " 6   household_size      19657 non-null  object        \n",
            " 7   economic_status     19657 non-null  object        \n",
            " 8   family_size         19657 non-null  object        \n",
            " 9   household_size_grp  20000 non-null  object        \n",
            " 10  family_size_grp     20000 non-null  object        \n",
            "dtypes: datetime64[ns](1), object(10)\n",
            "memory usage: 1.7+ MB\n"
          ]
        }
      ]
    },
    {
      "cell_type": "markdown",
      "source": [
        "#### Dataset 3: Agent Information"
      ],
      "metadata": {
        "id": "rYyCn65C3-U1"
      }
    },
    {
      "cell_type": "code",
      "source": [
        "print(\"Agent Information Dataset: \")\n",
        "print(\"\\n\")\n",
        "\n",
        "# Examine the column names of the policy information dataset\n",
        "print(f\"Column Names: {list(df_agent.columns)}\")\n",
        "print(\"\\n\")\n",
        "\n",
        "# Check the dimensions of the policy information dataset\n",
        "print(f\"Dimensions: {df_agent.shape}\")\n",
        "print(\"\\n\")\n",
        "\n",
        "# Examine the data types of the policy information dataset\n",
        "df_agent.info()"
      ],
      "metadata": {
        "colab": {
          "base_uri": "https://localhost:8080/"
        },
        "id": "NuIv3fWG39z7",
        "outputId": "bfef66ba-7330-405c-9438-b75672939fa5"
      },
      "execution_count": null,
      "outputs": [
        {
          "output_type": "stream",
          "name": "stdout",
          "text": [
            "Agent Information Dataset: \n",
            "\n",
            "\n",
            "Column Names: ['agntnum', 'agent_age', 'agent_gender', 'agent_marital', 'agent_tenure', 'cnt_converted', 'annual_premium_cnvrt', 'pct_lapsed', 'pct_cancel', 'pct_inforce', 'pct_prod_0_cnvrt', 'pct_prod_1_cnvrt', 'pct_prod_2_cnvrt', 'pct_prod_3_cnvrt', 'pct_prod_4_cnvrt', 'pct_prod_5_cnvrt', 'pct_prod_6_cnvrt', 'pct_prod_7_cnvrt', 'pct_prod_8_cnvrt', 'pct_prod_9_cnvrt', 'pct_SX0_unknown', 'pct_SX1_male', 'pct_SX2_female', 'pct_AG01_lt20', 'pct_AG02_20to24', 'pct_AG03_25to29', 'pct_AG04_30to34', 'pct_AG05_35to39', 'pct_AG06_40to44', 'pct_AG07_45to49', 'pct_AG08_50to54', 'pct_AG09_55to59', 'pct_AG10_60up', 'cluster', 'agent_product_expertise']\n",
            "\n",
            "\n",
            "Dimensions: (10129, 35)\n",
            "\n",
            "\n",
            "<class 'pandas.core.frame.DataFrame'>\n",
            "RangeIndex: 10129 entries, 0 to 10128\n",
            "Data columns (total 35 columns):\n",
            " #   Column                   Non-Null Count  Dtype  \n",
            "---  ------                   --------------  -----  \n",
            " 0   agntnum                  10129 non-null  object \n",
            " 1   agent_age                10117 non-null  float64\n",
            " 2   agent_gender             10129 non-null  object \n",
            " 3   agent_marital            10129 non-null  object \n",
            " 4   agent_tenure             10129 non-null  float64\n",
            " 5   cnt_converted            10129 non-null  float64\n",
            " 6   annual_premium_cnvrt     10129 non-null  float64\n",
            " 7   pct_lapsed               10129 non-null  float64\n",
            " 8   pct_cancel               10129 non-null  float64\n",
            " 9   pct_inforce              10129 non-null  float64\n",
            " 10  pct_prod_0_cnvrt         10129 non-null  float64\n",
            " 11  pct_prod_1_cnvrt         10129 non-null  float64\n",
            " 12  pct_prod_2_cnvrt         10129 non-null  float64\n",
            " 13  pct_prod_3_cnvrt         10129 non-null  float64\n",
            " 14  pct_prod_4_cnvrt         10129 non-null  float64\n",
            " 15  pct_prod_5_cnvrt         10129 non-null  float64\n",
            " 16  pct_prod_6_cnvrt         10129 non-null  float64\n",
            " 17  pct_prod_7_cnvrt         10129 non-null  float64\n",
            " 18  pct_prod_8_cnvrt         10129 non-null  float64\n",
            " 19  pct_prod_9_cnvrt         10129 non-null  float64\n",
            " 20  pct_SX0_unknown          10129 non-null  float64\n",
            " 21  pct_SX1_male             10129 non-null  float64\n",
            " 22  pct_SX2_female           10129 non-null  float64\n",
            " 23  pct_AG01_lt20            10129 non-null  float64\n",
            " 24  pct_AG02_20to24          10129 non-null  float64\n",
            " 25  pct_AG03_25to29          10129 non-null  float64\n",
            " 26  pct_AG04_30to34          10129 non-null  float64\n",
            " 27  pct_AG05_35to39          10129 non-null  float64\n",
            " 28  pct_AG06_40to44          10129 non-null  float64\n",
            " 29  pct_AG07_45to49          10129 non-null  float64\n",
            " 30  pct_AG08_50to54          10129 non-null  float64\n",
            " 31  pct_AG09_55to59          10129 non-null  float64\n",
            " 32  pct_AG10_60up            10129 non-null  float64\n",
            " 33  cluster                  10129 non-null  int32  \n",
            " 34  agent_product_expertise  10129 non-null  object \n",
            "dtypes: float64(30), int32(1), object(4)\n",
            "memory usage: 2.7+ MB\n"
          ]
        }
      ]
    },
    {
      "cell_type": "markdown",
      "source": [
        "--------------------------------------------------------------------------------------------------------------------------------------------------------------"
      ],
      "metadata": {
        "id": "JfhI47au_6dK"
      }
    },
    {
      "cell_type": "markdown",
      "source": [
        "## Summary Statistics Of Datasets"
      ],
      "metadata": {
        "id": "KOMLsf_f_9mk"
      }
    },
    {
      "cell_type": "markdown",
      "source": [
        "We can find the summary statistics of the numerical columns of the datasets using `.describe()`."
      ],
      "metadata": {
        "id": "9c12IfXOAJof"
      }
    },
    {
      "cell_type": "markdown",
      "source": [
        "#### Dataset 1: Policy Information"
      ],
      "metadata": {
        "id": "ODKqZn0xArz8"
      }
    },
    {
      "cell_type": "code",
      "source": [
        "print(\"Policy Information Dataset: \")\n",
        "print(\"\\n\")\n",
        "\n",
        "# Find the summary statistics of the policy information dataset\n",
        "df_policy.describe()"
      ],
      "metadata": {
        "colab": {
          "base_uri": "https://localhost:8080/",
          "height": 353
        },
        "id": "WufnbOFfArU9",
        "outputId": "fff5f770-f539-4822-f43c-eaa1de298972"
      },
      "execution_count": null,
      "outputs": [
        {
          "output_type": "stream",
          "name": "stdout",
          "text": [
            "Policy Information Dataset: \n",
            "\n",
            "\n"
          ]
        },
        {
          "output_type": "execute_result",
          "data": {
            "text/plain": [
              "                          occdate  annual_premium  flg_main  flg_rider  \\\n",
              "count                       29503    29503.000000   29503.0    29503.0   \n",
              "mean   2020-09-04 17:00:41.121242     1081.708652       1.0        0.0   \n",
              "min           1993-10-01 00:00:00        0.000000       1.0        0.0   \n",
              "25%           2017-05-25 00:00:00        0.000000       1.0        0.0   \n",
              "50%           2022-07-21 00:00:00      127.000000       1.0        0.0   \n",
              "75%           2024-04-09 00:00:00      528.000000       1.0        0.0   \n",
              "max           2024-11-28 00:00:00   300039.600000       1.0        0.0   \n",
              "std                           NaN     4422.632426       0.0        0.0   \n",
              "\n",
              "        flg_inforce    flg_lapsed  flg_cancel    flg_expire  flg_converted  \n",
              "count  29503.000000  29503.000000     29503.0  29503.000000        29503.0  \n",
              "mean       0.759719      0.222249         0.0      0.018032            1.0  \n",
              "min        0.000000      0.000000         0.0      0.000000            1.0  \n",
              "25%        1.000000      0.000000         0.0      0.000000            1.0  \n",
              "50%        1.000000      0.000000         0.0      0.000000            1.0  \n",
              "75%        1.000000      0.000000         0.0      0.000000            1.0  \n",
              "max        1.000000      1.000000         0.0      1.000000            1.0  \n",
              "std        0.427261      0.415764         0.0      0.133070            0.0  "
            ],
            "text/html": [
              "\n",
              "  <div id=\"df-8e420bab-05a2-452a-b9e2-1ce4c39a0146\" class=\"colab-df-container\">\n",
              "    <div>\n",
              "<style scoped>\n",
              "    .dataframe tbody tr th:only-of-type {\n",
              "        vertical-align: middle;\n",
              "    }\n",
              "\n",
              "    .dataframe tbody tr th {\n",
              "        vertical-align: top;\n",
              "    }\n",
              "\n",
              "    .dataframe thead th {\n",
              "        text-align: right;\n",
              "    }\n",
              "</style>\n",
              "<table border=\"1\" class=\"dataframe\">\n",
              "  <thead>\n",
              "    <tr style=\"text-align: right;\">\n",
              "      <th></th>\n",
              "      <th>occdate</th>\n",
              "      <th>annual_premium</th>\n",
              "      <th>flg_main</th>\n",
              "      <th>flg_rider</th>\n",
              "      <th>flg_inforce</th>\n",
              "      <th>flg_lapsed</th>\n",
              "      <th>flg_cancel</th>\n",
              "      <th>flg_expire</th>\n",
              "      <th>flg_converted</th>\n",
              "    </tr>\n",
              "  </thead>\n",
              "  <tbody>\n",
              "    <tr>\n",
              "      <th>count</th>\n",
              "      <td>29503</td>\n",
              "      <td>29503.000000</td>\n",
              "      <td>29503.0</td>\n",
              "      <td>29503.0</td>\n",
              "      <td>29503.000000</td>\n",
              "      <td>29503.000000</td>\n",
              "      <td>29503.0</td>\n",
              "      <td>29503.000000</td>\n",
              "      <td>29503.0</td>\n",
              "    </tr>\n",
              "    <tr>\n",
              "      <th>mean</th>\n",
              "      <td>2020-09-04 17:00:41.121242</td>\n",
              "      <td>1081.708652</td>\n",
              "      <td>1.0</td>\n",
              "      <td>0.0</td>\n",
              "      <td>0.759719</td>\n",
              "      <td>0.222249</td>\n",
              "      <td>0.0</td>\n",
              "      <td>0.018032</td>\n",
              "      <td>1.0</td>\n",
              "    </tr>\n",
              "    <tr>\n",
              "      <th>min</th>\n",
              "      <td>1993-10-01 00:00:00</td>\n",
              "      <td>0.000000</td>\n",
              "      <td>1.0</td>\n",
              "      <td>0.0</td>\n",
              "      <td>0.000000</td>\n",
              "      <td>0.000000</td>\n",
              "      <td>0.0</td>\n",
              "      <td>0.000000</td>\n",
              "      <td>1.0</td>\n",
              "    </tr>\n",
              "    <tr>\n",
              "      <th>25%</th>\n",
              "      <td>2017-05-25 00:00:00</td>\n",
              "      <td>0.000000</td>\n",
              "      <td>1.0</td>\n",
              "      <td>0.0</td>\n",
              "      <td>1.000000</td>\n",
              "      <td>0.000000</td>\n",
              "      <td>0.0</td>\n",
              "      <td>0.000000</td>\n",
              "      <td>1.0</td>\n",
              "    </tr>\n",
              "    <tr>\n",
              "      <th>50%</th>\n",
              "      <td>2022-07-21 00:00:00</td>\n",
              "      <td>127.000000</td>\n",
              "      <td>1.0</td>\n",
              "      <td>0.0</td>\n",
              "      <td>1.000000</td>\n",
              "      <td>0.000000</td>\n",
              "      <td>0.0</td>\n",
              "      <td>0.000000</td>\n",
              "      <td>1.0</td>\n",
              "    </tr>\n",
              "    <tr>\n",
              "      <th>75%</th>\n",
              "      <td>2024-04-09 00:00:00</td>\n",
              "      <td>528.000000</td>\n",
              "      <td>1.0</td>\n",
              "      <td>0.0</td>\n",
              "      <td>1.000000</td>\n",
              "      <td>0.000000</td>\n",
              "      <td>0.0</td>\n",
              "      <td>0.000000</td>\n",
              "      <td>1.0</td>\n",
              "    </tr>\n",
              "    <tr>\n",
              "      <th>max</th>\n",
              "      <td>2024-11-28 00:00:00</td>\n",
              "      <td>300039.600000</td>\n",
              "      <td>1.0</td>\n",
              "      <td>0.0</td>\n",
              "      <td>1.000000</td>\n",
              "      <td>1.000000</td>\n",
              "      <td>0.0</td>\n",
              "      <td>1.000000</td>\n",
              "      <td>1.0</td>\n",
              "    </tr>\n",
              "    <tr>\n",
              "      <th>std</th>\n",
              "      <td>NaN</td>\n",
              "      <td>4422.632426</td>\n",
              "      <td>0.0</td>\n",
              "      <td>0.0</td>\n",
              "      <td>0.427261</td>\n",
              "      <td>0.415764</td>\n",
              "      <td>0.0</td>\n",
              "      <td>0.133070</td>\n",
              "      <td>0.0</td>\n",
              "    </tr>\n",
              "  </tbody>\n",
              "</table>\n",
              "</div>\n",
              "    <div class=\"colab-df-buttons\">\n",
              "\n",
              "  <div class=\"colab-df-container\">\n",
              "    <button class=\"colab-df-convert\" onclick=\"convertToInteractive('df-8e420bab-05a2-452a-b9e2-1ce4c39a0146')\"\n",
              "            title=\"Convert this dataframe to an interactive table.\"\n",
              "            style=\"display:none;\">\n",
              "\n",
              "  <svg xmlns=\"http://www.w3.org/2000/svg\" height=\"24px\" viewBox=\"0 -960 960 960\">\n",
              "    <path d=\"M120-120v-720h720v720H120Zm60-500h600v-160H180v160Zm220 220h160v-160H400v160Zm0 220h160v-160H400v160ZM180-400h160v-160H180v160Zm440 0h160v-160H620v160ZM180-180h160v-160H180v160Zm440 0h160v-160H620v160Z\"/>\n",
              "  </svg>\n",
              "    </button>\n",
              "\n",
              "  <style>\n",
              "    .colab-df-container {\n",
              "      display:flex;\n",
              "      gap: 12px;\n",
              "    }\n",
              "\n",
              "    .colab-df-convert {\n",
              "      background-color: #E8F0FE;\n",
              "      border: none;\n",
              "      border-radius: 50%;\n",
              "      cursor: pointer;\n",
              "      display: none;\n",
              "      fill: #1967D2;\n",
              "      height: 32px;\n",
              "      padding: 0 0 0 0;\n",
              "      width: 32px;\n",
              "    }\n",
              "\n",
              "    .colab-df-convert:hover {\n",
              "      background-color: #E2EBFA;\n",
              "      box-shadow: 0px 1px 2px rgba(60, 64, 67, 0.3), 0px 1px 3px 1px rgba(60, 64, 67, 0.15);\n",
              "      fill: #174EA6;\n",
              "    }\n",
              "\n",
              "    .colab-df-buttons div {\n",
              "      margin-bottom: 4px;\n",
              "    }\n",
              "\n",
              "    [theme=dark] .colab-df-convert {\n",
              "      background-color: #3B4455;\n",
              "      fill: #D2E3FC;\n",
              "    }\n",
              "\n",
              "    [theme=dark] .colab-df-convert:hover {\n",
              "      background-color: #434B5C;\n",
              "      box-shadow: 0px 1px 3px 1px rgba(0, 0, 0, 0.15);\n",
              "      filter: drop-shadow(0px 1px 2px rgba(0, 0, 0, 0.3));\n",
              "      fill: #FFFFFF;\n",
              "    }\n",
              "  </style>\n",
              "\n",
              "    <script>\n",
              "      const buttonEl =\n",
              "        document.querySelector('#df-8e420bab-05a2-452a-b9e2-1ce4c39a0146 button.colab-df-convert');\n",
              "      buttonEl.style.display =\n",
              "        google.colab.kernel.accessAllowed ? 'block' : 'none';\n",
              "\n",
              "      async function convertToInteractive(key) {\n",
              "        const element = document.querySelector('#df-8e420bab-05a2-452a-b9e2-1ce4c39a0146');\n",
              "        const dataTable =\n",
              "          await google.colab.kernel.invokeFunction('convertToInteractive',\n",
              "                                                    [key], {});\n",
              "        if (!dataTable) return;\n",
              "\n",
              "        const docLinkHtml = 'Like what you see? Visit the ' +\n",
              "          '<a target=\"_blank\" href=https://colab.research.google.com/notebooks/data_table.ipynb>data table notebook</a>'\n",
              "          + ' to learn more about interactive tables.';\n",
              "        element.innerHTML = '';\n",
              "        dataTable['output_type'] = 'display_data';\n",
              "        await google.colab.output.renderOutput(dataTable, element);\n",
              "        const docLink = document.createElement('div');\n",
              "        docLink.innerHTML = docLinkHtml;\n",
              "        element.appendChild(docLink);\n",
              "      }\n",
              "    </script>\n",
              "  </div>\n",
              "\n",
              "\n",
              "<div id=\"df-19e8a2a8-a6e0-4ddd-a28a-1e8360c69fed\">\n",
              "  <button class=\"colab-df-quickchart\" onclick=\"quickchart('df-19e8a2a8-a6e0-4ddd-a28a-1e8360c69fed')\"\n",
              "            title=\"Suggest charts\"\n",
              "            style=\"display:none;\">\n",
              "\n",
              "<svg xmlns=\"http://www.w3.org/2000/svg\" height=\"24px\"viewBox=\"0 0 24 24\"\n",
              "     width=\"24px\">\n",
              "    <g>\n",
              "        <path d=\"M19 3H5c-1.1 0-2 .9-2 2v14c0 1.1.9 2 2 2h14c1.1 0 2-.9 2-2V5c0-1.1-.9-2-2-2zM9 17H7v-7h2v7zm4 0h-2V7h2v10zm4 0h-2v-4h2v4z\"/>\n",
              "    </g>\n",
              "</svg>\n",
              "  </button>\n",
              "\n",
              "<style>\n",
              "  .colab-df-quickchart {\n",
              "      --bg-color: #E8F0FE;\n",
              "      --fill-color: #1967D2;\n",
              "      --hover-bg-color: #E2EBFA;\n",
              "      --hover-fill-color: #174EA6;\n",
              "      --disabled-fill-color: #AAA;\n",
              "      --disabled-bg-color: #DDD;\n",
              "  }\n",
              "\n",
              "  [theme=dark] .colab-df-quickchart {\n",
              "      --bg-color: #3B4455;\n",
              "      --fill-color: #D2E3FC;\n",
              "      --hover-bg-color: #434B5C;\n",
              "      --hover-fill-color: #FFFFFF;\n",
              "      --disabled-bg-color: #3B4455;\n",
              "      --disabled-fill-color: #666;\n",
              "  }\n",
              "\n",
              "  .colab-df-quickchart {\n",
              "    background-color: var(--bg-color);\n",
              "    border: none;\n",
              "    border-radius: 50%;\n",
              "    cursor: pointer;\n",
              "    display: none;\n",
              "    fill: var(--fill-color);\n",
              "    height: 32px;\n",
              "    padding: 0;\n",
              "    width: 32px;\n",
              "  }\n",
              "\n",
              "  .colab-df-quickchart:hover {\n",
              "    background-color: var(--hover-bg-color);\n",
              "    box-shadow: 0 1px 2px rgba(60, 64, 67, 0.3), 0 1px 3px 1px rgba(60, 64, 67, 0.15);\n",
              "    fill: var(--button-hover-fill-color);\n",
              "  }\n",
              "\n",
              "  .colab-df-quickchart-complete:disabled,\n",
              "  .colab-df-quickchart-complete:disabled:hover {\n",
              "    background-color: var(--disabled-bg-color);\n",
              "    fill: var(--disabled-fill-color);\n",
              "    box-shadow: none;\n",
              "  }\n",
              "\n",
              "  .colab-df-spinner {\n",
              "    border: 2px solid var(--fill-color);\n",
              "    border-color: transparent;\n",
              "    border-bottom-color: var(--fill-color);\n",
              "    animation:\n",
              "      spin 1s steps(1) infinite;\n",
              "  }\n",
              "\n",
              "  @keyframes spin {\n",
              "    0% {\n",
              "      border-color: transparent;\n",
              "      border-bottom-color: var(--fill-color);\n",
              "      border-left-color: var(--fill-color);\n",
              "    }\n",
              "    20% {\n",
              "      border-color: transparent;\n",
              "      border-left-color: var(--fill-color);\n",
              "      border-top-color: var(--fill-color);\n",
              "    }\n",
              "    30% {\n",
              "      border-color: transparent;\n",
              "      border-left-color: var(--fill-color);\n",
              "      border-top-color: var(--fill-color);\n",
              "      border-right-color: var(--fill-color);\n",
              "    }\n",
              "    40% {\n",
              "      border-color: transparent;\n",
              "      border-right-color: var(--fill-color);\n",
              "      border-top-color: var(--fill-color);\n",
              "    }\n",
              "    60% {\n",
              "      border-color: transparent;\n",
              "      border-right-color: var(--fill-color);\n",
              "    }\n",
              "    80% {\n",
              "      border-color: transparent;\n",
              "      border-right-color: var(--fill-color);\n",
              "      border-bottom-color: var(--fill-color);\n",
              "    }\n",
              "    90% {\n",
              "      border-color: transparent;\n",
              "      border-bottom-color: var(--fill-color);\n",
              "    }\n",
              "  }\n",
              "</style>\n",
              "\n",
              "  <script>\n",
              "    async function quickchart(key) {\n",
              "      const quickchartButtonEl =\n",
              "        document.querySelector('#' + key + ' button');\n",
              "      quickchartButtonEl.disabled = true;  // To prevent multiple clicks.\n",
              "      quickchartButtonEl.classList.add('colab-df-spinner');\n",
              "      try {\n",
              "        const charts = await google.colab.kernel.invokeFunction(\n",
              "            'suggestCharts', [key], {});\n",
              "      } catch (error) {\n",
              "        console.error('Error during call to suggestCharts:', error);\n",
              "      }\n",
              "      quickchartButtonEl.classList.remove('colab-df-spinner');\n",
              "      quickchartButtonEl.classList.add('colab-df-quickchart-complete');\n",
              "    }\n",
              "    (() => {\n",
              "      let quickchartButtonEl =\n",
              "        document.querySelector('#df-19e8a2a8-a6e0-4ddd-a28a-1e8360c69fed button');\n",
              "      quickchartButtonEl.style.display =\n",
              "        google.colab.kernel.accessAllowed ? 'block' : 'none';\n",
              "    })();\n",
              "  </script>\n",
              "</div>\n",
              "\n",
              "    </div>\n",
              "  </div>\n"
            ],
            "application/vnd.google.colaboratory.intrinsic+json": {
              "type": "dataframe",
              "summary": "{\n  \"name\": \"df_policy\",\n  \"rows\": 8,\n  \"fields\": [\n    {\n      \"column\": \"occdate\",\n      \"properties\": {\n        \"dtype\": \"date\",\n        \"min\": \"1970-01-01 00:00:00.000029503\",\n        \"max\": \"2024-11-28 00:00:00\",\n        \"num_unique_values\": 7,\n        \"samples\": [\n          \"29503\",\n          \"2020-09-04 17:00:41.121242\",\n          \"2024-04-09 00:00:00\"\n        ],\n        \"semantic_type\": \"\",\n        \"description\": \"\"\n      }\n    },\n    {\n      \"column\": \"annual_premium\",\n      \"properties\": {\n        \"dtype\": \"number\",\n        \"std\": 104763.8426625096,\n        \"min\": 0.0,\n        \"max\": 300039.6,\n        \"num_unique_values\": 7,\n        \"samples\": [\n          29503.0,\n          1081.7086520147102,\n          300039.6\n        ],\n        \"semantic_type\": \"\",\n        \"description\": \"\"\n      }\n    },\n    {\n      \"column\": \"flg_main\",\n      \"properties\": {\n        \"dtype\": \"number\",\n        \"std\": 10430.5826427797,\n        \"min\": 0.0,\n        \"max\": 29503.0,\n        \"num_unique_values\": 3,\n        \"samples\": [\n          29503.0,\n          1.0,\n          0.0\n        ],\n        \"semantic_type\": \"\",\n        \"description\": \"\"\n      }\n    },\n    {\n      \"column\": \"flg_rider\",\n      \"properties\": {\n        \"dtype\": \"number\",\n        \"std\": 10430.885682673355,\n        \"min\": 0.0,\n        \"max\": 29503.0,\n        \"num_unique_values\": 2,\n        \"samples\": [\n          0.0,\n          29503.0\n        ],\n        \"semantic_type\": \"\",\n        \"description\": \"\"\n      }\n    },\n    {\n      \"column\": \"flg_inforce\",\n      \"properties\": {\n        \"dtype\": \"number\",\n        \"std\": 10430.623706872406,\n        \"min\": 0.0,\n        \"max\": 29503.0,\n        \"num_unique_values\": 5,\n        \"samples\": [\n          0.7597193505745179,\n          0.4272610987591455\n        ],\n        \"semantic_type\": \"\",\n        \"description\": \"\"\n      }\n    },\n    {\n      \"column\": \"flg_lapsed\",\n      \"properties\": {\n        \"dtype\": \"number\",\n        \"std\": 10430.802956270738,\n        \"min\": 0.0,\n        \"max\": 29503.0,\n        \"num_unique_values\": 5,\n        \"samples\": [\n          0.22224858488967222,\n          0.41576436892757546\n        ],\n        \"semantic_type\": \"\",\n        \"description\": \"\"\n      }\n    },\n    {\n      \"column\": \"flg_cancel\",\n      \"properties\": {\n        \"dtype\": \"number\",\n        \"std\": 10430.885682673355,\n        \"min\": 0.0,\n        \"max\": 29503.0,\n        \"num_unique_values\": 2,\n        \"samples\": [\n          0.0,\n          29503.0\n        ],\n        \"semantic_type\": \"\",\n        \"description\": \"\"\n      }\n    },\n    {\n      \"column\": \"flg_expire\",\n      \"properties\": {\n        \"dtype\": \"number\",\n        \"std\": 10430.82754893639,\n        \"min\": 0.0,\n        \"max\": 29503.0,\n        \"num_unique_values\": 5,\n        \"samples\": [\n          0.018032064535809918,\n          0.13306956593415664\n        ],\n        \"semantic_type\": \"\",\n        \"description\": \"\"\n      }\n    },\n    {\n      \"column\": \"flg_converted\",\n      \"properties\": {\n        \"dtype\": \"number\",\n        \"std\": 10430.5826427797,\n        \"min\": 0.0,\n        \"max\": 29503.0,\n        \"num_unique_values\": 3,\n        \"samples\": [\n          29503.0,\n          1.0\n        ],\n        \"semantic_type\": \"\",\n        \"description\": \"\"\n      }\n    }\n  ]\n}"
            }
          },
          "metadata": {},
          "execution_count": 66
        }
      ]
    },
    {
      "cell_type": "markdown",
      "source": [
        "#### Dataset 2: Client Information"
      ],
      "metadata": {
        "id": "gxqPXtD8AvFH"
      }
    },
    {
      "cell_type": "code",
      "source": [
        "print(\"Client Information Dataset: \")\n",
        "print(\"\\n\")\n",
        "\n",
        "# Find the summary statistics of the policy information dataset\n",
        "df_client.describe()"
      ],
      "metadata": {
        "colab": {
          "base_uri": "https://localhost:8080/",
          "height": 322
        },
        "id": "Z3DhAbQrA15q",
        "outputId": "5a0b461b-b31e-4d3e-88c5-c0626ba54aa5"
      },
      "execution_count": null,
      "outputs": [
        {
          "output_type": "stream",
          "name": "stdout",
          "text": [
            "Client Information Dataset: \n",
            "\n",
            "\n"
          ]
        },
        {
          "output_type": "execute_result",
          "data": {
            "text/plain": [
              "                              cltdob\n",
              "count                          19994\n",
              "mean   1978-11-26 15:34:46.105831712\n",
              "min              1940-11-21 00:00:00\n",
              "25%              1971-06-30 00:00:00\n",
              "50%              1979-12-04 00:00:00\n",
              "75%              1987-10-05 00:00:00\n",
              "max              2021-10-18 00:00:00"
            ],
            "text/html": [
              "\n",
              "  <div id=\"df-eb097f4a-b34d-404e-830b-8a43da2240c2\" class=\"colab-df-container\">\n",
              "    <div>\n",
              "<style scoped>\n",
              "    .dataframe tbody tr th:only-of-type {\n",
              "        vertical-align: middle;\n",
              "    }\n",
              "\n",
              "    .dataframe tbody tr th {\n",
              "        vertical-align: top;\n",
              "    }\n",
              "\n",
              "    .dataframe thead th {\n",
              "        text-align: right;\n",
              "    }\n",
              "</style>\n",
              "<table border=\"1\" class=\"dataframe\">\n",
              "  <thead>\n",
              "    <tr style=\"text-align: right;\">\n",
              "      <th></th>\n",
              "      <th>cltdob</th>\n",
              "    </tr>\n",
              "  </thead>\n",
              "  <tbody>\n",
              "    <tr>\n",
              "      <th>count</th>\n",
              "      <td>19994</td>\n",
              "    </tr>\n",
              "    <tr>\n",
              "      <th>mean</th>\n",
              "      <td>1978-11-26 15:34:46.105831712</td>\n",
              "    </tr>\n",
              "    <tr>\n",
              "      <th>min</th>\n",
              "      <td>1940-11-21 00:00:00</td>\n",
              "    </tr>\n",
              "    <tr>\n",
              "      <th>25%</th>\n",
              "      <td>1971-06-30 00:00:00</td>\n",
              "    </tr>\n",
              "    <tr>\n",
              "      <th>50%</th>\n",
              "      <td>1979-12-04 00:00:00</td>\n",
              "    </tr>\n",
              "    <tr>\n",
              "      <th>75%</th>\n",
              "      <td>1987-10-05 00:00:00</td>\n",
              "    </tr>\n",
              "    <tr>\n",
              "      <th>max</th>\n",
              "      <td>2021-10-18 00:00:00</td>\n",
              "    </tr>\n",
              "  </tbody>\n",
              "</table>\n",
              "</div>\n",
              "    <div class=\"colab-df-buttons\">\n",
              "\n",
              "  <div class=\"colab-df-container\">\n",
              "    <button class=\"colab-df-convert\" onclick=\"convertToInteractive('df-eb097f4a-b34d-404e-830b-8a43da2240c2')\"\n",
              "            title=\"Convert this dataframe to an interactive table.\"\n",
              "            style=\"display:none;\">\n",
              "\n",
              "  <svg xmlns=\"http://www.w3.org/2000/svg\" height=\"24px\" viewBox=\"0 -960 960 960\">\n",
              "    <path d=\"M120-120v-720h720v720H120Zm60-500h600v-160H180v160Zm220 220h160v-160H400v160Zm0 220h160v-160H400v160ZM180-400h160v-160H180v160Zm440 0h160v-160H620v160ZM180-180h160v-160H180v160Zm440 0h160v-160H620v160Z\"/>\n",
              "  </svg>\n",
              "    </button>\n",
              "\n",
              "  <style>\n",
              "    .colab-df-container {\n",
              "      display:flex;\n",
              "      gap: 12px;\n",
              "    }\n",
              "\n",
              "    .colab-df-convert {\n",
              "      background-color: #E8F0FE;\n",
              "      border: none;\n",
              "      border-radius: 50%;\n",
              "      cursor: pointer;\n",
              "      display: none;\n",
              "      fill: #1967D2;\n",
              "      height: 32px;\n",
              "      padding: 0 0 0 0;\n",
              "      width: 32px;\n",
              "    }\n",
              "\n",
              "    .colab-df-convert:hover {\n",
              "      background-color: #E2EBFA;\n",
              "      box-shadow: 0px 1px 2px rgba(60, 64, 67, 0.3), 0px 1px 3px 1px rgba(60, 64, 67, 0.15);\n",
              "      fill: #174EA6;\n",
              "    }\n",
              "\n",
              "    .colab-df-buttons div {\n",
              "      margin-bottom: 4px;\n",
              "    }\n",
              "\n",
              "    [theme=dark] .colab-df-convert {\n",
              "      background-color: #3B4455;\n",
              "      fill: #D2E3FC;\n",
              "    }\n",
              "\n",
              "    [theme=dark] .colab-df-convert:hover {\n",
              "      background-color: #434B5C;\n",
              "      box-shadow: 0px 1px 3px 1px rgba(0, 0, 0, 0.15);\n",
              "      filter: drop-shadow(0px 1px 2px rgba(0, 0, 0, 0.3));\n",
              "      fill: #FFFFFF;\n",
              "    }\n",
              "  </style>\n",
              "\n",
              "    <script>\n",
              "      const buttonEl =\n",
              "        document.querySelector('#df-eb097f4a-b34d-404e-830b-8a43da2240c2 button.colab-df-convert');\n",
              "      buttonEl.style.display =\n",
              "        google.colab.kernel.accessAllowed ? 'block' : 'none';\n",
              "\n",
              "      async function convertToInteractive(key) {\n",
              "        const element = document.querySelector('#df-eb097f4a-b34d-404e-830b-8a43da2240c2');\n",
              "        const dataTable =\n",
              "          await google.colab.kernel.invokeFunction('convertToInteractive',\n",
              "                                                    [key], {});\n",
              "        if (!dataTable) return;\n",
              "\n",
              "        const docLinkHtml = 'Like what you see? Visit the ' +\n",
              "          '<a target=\"_blank\" href=https://colab.research.google.com/notebooks/data_table.ipynb>data table notebook</a>'\n",
              "          + ' to learn more about interactive tables.';\n",
              "        element.innerHTML = '';\n",
              "        dataTable['output_type'] = 'display_data';\n",
              "        await google.colab.output.renderOutput(dataTable, element);\n",
              "        const docLink = document.createElement('div');\n",
              "        docLink.innerHTML = docLinkHtml;\n",
              "        element.appendChild(docLink);\n",
              "      }\n",
              "    </script>\n",
              "  </div>\n",
              "\n",
              "\n",
              "<div id=\"df-68a286d9-2b41-47a2-93a6-4f2b5d915eba\">\n",
              "  <button class=\"colab-df-quickchart\" onclick=\"quickchart('df-68a286d9-2b41-47a2-93a6-4f2b5d915eba')\"\n",
              "            title=\"Suggest charts\"\n",
              "            style=\"display:none;\">\n",
              "\n",
              "<svg xmlns=\"http://www.w3.org/2000/svg\" height=\"24px\"viewBox=\"0 0 24 24\"\n",
              "     width=\"24px\">\n",
              "    <g>\n",
              "        <path d=\"M19 3H5c-1.1 0-2 .9-2 2v14c0 1.1.9 2 2 2h14c1.1 0 2-.9 2-2V5c0-1.1-.9-2-2-2zM9 17H7v-7h2v7zm4 0h-2V7h2v10zm4 0h-2v-4h2v4z\"/>\n",
              "    </g>\n",
              "</svg>\n",
              "  </button>\n",
              "\n",
              "<style>\n",
              "  .colab-df-quickchart {\n",
              "      --bg-color: #E8F0FE;\n",
              "      --fill-color: #1967D2;\n",
              "      --hover-bg-color: #E2EBFA;\n",
              "      --hover-fill-color: #174EA6;\n",
              "      --disabled-fill-color: #AAA;\n",
              "      --disabled-bg-color: #DDD;\n",
              "  }\n",
              "\n",
              "  [theme=dark] .colab-df-quickchart {\n",
              "      --bg-color: #3B4455;\n",
              "      --fill-color: #D2E3FC;\n",
              "      --hover-bg-color: #434B5C;\n",
              "      --hover-fill-color: #FFFFFF;\n",
              "      --disabled-bg-color: #3B4455;\n",
              "      --disabled-fill-color: #666;\n",
              "  }\n",
              "\n",
              "  .colab-df-quickchart {\n",
              "    background-color: var(--bg-color);\n",
              "    border: none;\n",
              "    border-radius: 50%;\n",
              "    cursor: pointer;\n",
              "    display: none;\n",
              "    fill: var(--fill-color);\n",
              "    height: 32px;\n",
              "    padding: 0;\n",
              "    width: 32px;\n",
              "  }\n",
              "\n",
              "  .colab-df-quickchart:hover {\n",
              "    background-color: var(--hover-bg-color);\n",
              "    box-shadow: 0 1px 2px rgba(60, 64, 67, 0.3), 0 1px 3px 1px rgba(60, 64, 67, 0.15);\n",
              "    fill: var(--button-hover-fill-color);\n",
              "  }\n",
              "\n",
              "  .colab-df-quickchart-complete:disabled,\n",
              "  .colab-df-quickchart-complete:disabled:hover {\n",
              "    background-color: var(--disabled-bg-color);\n",
              "    fill: var(--disabled-fill-color);\n",
              "    box-shadow: none;\n",
              "  }\n",
              "\n",
              "  .colab-df-spinner {\n",
              "    border: 2px solid var(--fill-color);\n",
              "    border-color: transparent;\n",
              "    border-bottom-color: var(--fill-color);\n",
              "    animation:\n",
              "      spin 1s steps(1) infinite;\n",
              "  }\n",
              "\n",
              "  @keyframes spin {\n",
              "    0% {\n",
              "      border-color: transparent;\n",
              "      border-bottom-color: var(--fill-color);\n",
              "      border-left-color: var(--fill-color);\n",
              "    }\n",
              "    20% {\n",
              "      border-color: transparent;\n",
              "      border-left-color: var(--fill-color);\n",
              "      border-top-color: var(--fill-color);\n",
              "    }\n",
              "    30% {\n",
              "      border-color: transparent;\n",
              "      border-left-color: var(--fill-color);\n",
              "      border-top-color: var(--fill-color);\n",
              "      border-right-color: var(--fill-color);\n",
              "    }\n",
              "    40% {\n",
              "      border-color: transparent;\n",
              "      border-right-color: var(--fill-color);\n",
              "      border-top-color: var(--fill-color);\n",
              "    }\n",
              "    60% {\n",
              "      border-color: transparent;\n",
              "      border-right-color: var(--fill-color);\n",
              "    }\n",
              "    80% {\n",
              "      border-color: transparent;\n",
              "      border-right-color: var(--fill-color);\n",
              "      border-bottom-color: var(--fill-color);\n",
              "    }\n",
              "    90% {\n",
              "      border-color: transparent;\n",
              "      border-bottom-color: var(--fill-color);\n",
              "    }\n",
              "  }\n",
              "</style>\n",
              "\n",
              "  <script>\n",
              "    async function quickchart(key) {\n",
              "      const quickchartButtonEl =\n",
              "        document.querySelector('#' + key + ' button');\n",
              "      quickchartButtonEl.disabled = true;  // To prevent multiple clicks.\n",
              "      quickchartButtonEl.classList.add('colab-df-spinner');\n",
              "      try {\n",
              "        const charts = await google.colab.kernel.invokeFunction(\n",
              "            'suggestCharts', [key], {});\n",
              "      } catch (error) {\n",
              "        console.error('Error during call to suggestCharts:', error);\n",
              "      }\n",
              "      quickchartButtonEl.classList.remove('colab-df-spinner');\n",
              "      quickchartButtonEl.classList.add('colab-df-quickchart-complete');\n",
              "    }\n",
              "    (() => {\n",
              "      let quickchartButtonEl =\n",
              "        document.querySelector('#df-68a286d9-2b41-47a2-93a6-4f2b5d915eba button');\n",
              "      quickchartButtonEl.style.display =\n",
              "        google.colab.kernel.accessAllowed ? 'block' : 'none';\n",
              "    })();\n",
              "  </script>\n",
              "</div>\n",
              "\n",
              "    </div>\n",
              "  </div>\n"
            ],
            "application/vnd.google.colaboratory.intrinsic+json": {
              "type": "dataframe",
              "summary": "{\n  \"name\": \"df_client\",\n  \"rows\": 7,\n  \"fields\": [\n    {\n      \"column\": \"cltdob\",\n      \"properties\": {\n        \"dtype\": \"date\",\n        \"min\": \"1940-11-21 00:00:00\",\n        \"max\": \"2021-10-18 00:00:00\",\n        \"num_unique_values\": 7,\n        \"samples\": [\n          \"19994\",\n          \"1978-11-26 15:34:46.105831712\",\n          \"1987-10-05 00:00:00\"\n        ],\n        \"semantic_type\": \"\",\n        \"description\": \"\"\n      }\n    }\n  ]\n}"
            }
          },
          "metadata": {},
          "execution_count": 67
        }
      ]
    },
    {
      "cell_type": "markdown",
      "source": [
        "#### Dataset 3: Agent Information"
      ],
      "metadata": {
        "id": "ruSz02PDAxsL"
      }
    },
    {
      "cell_type": "code",
      "source": [
        "print(\"Agent Information Dataset: \")\n",
        "print(\"\\n\")\n",
        "\n",
        "# Find the summary statistics of the policy information dataset\n",
        "df_agent.describe()"
      ],
      "metadata": {
        "colab": {
          "base_uri": "https://localhost:8080/",
          "height": 403
        },
        "id": "8z1W7kB3Az2q",
        "outputId": "6e8e8e8b-9ba1-4791-d26f-088ef1a04455"
      },
      "execution_count": null,
      "outputs": [
        {
          "output_type": "stream",
          "name": "stdout",
          "text": [
            "Agent Information Dataset: \n",
            "\n",
            "\n"
          ]
        },
        {
          "output_type": "execute_result",
          "data": {
            "text/plain": [
              "          agent_age  agent_tenure  cnt_converted  annual_premium_cnvrt  \\\n",
              "count  10117.000000  10129.000000   10129.000000          1.012900e+04   \n",
              "mean      40.665612     63.545069     495.251851          2.826233e+05   \n",
              "std        9.972361     58.964719    1234.958900          9.305943e+05   \n",
              "min       22.000000      0.000000       1.000000          0.000000e+00   \n",
              "25%       33.000000     22.000000      57.000000          1.613389e+04   \n",
              "50%       39.000000     41.000000     168.000000          5.889820e+04   \n",
              "75%       46.000000     86.000000     477.000000          2.331316e+05   \n",
              "max       87.000000    427.000000   44011.000000          3.538133e+07   \n",
              "\n",
              "         pct_lapsed    pct_cancel   pct_inforce  pct_prod_0_cnvrt  \\\n",
              "count  10129.000000  10129.000000  10129.000000      10129.000000   \n",
              "mean       0.291845      0.118114      0.689435          0.000588   \n",
              "std        0.338266      0.155495      0.344333          0.016440   \n",
              "min        0.000000      0.000000      0.000000          0.000000   \n",
              "25%        0.000000      0.006995      0.545455          0.000000   \n",
              "50%        0.200000      0.067150      0.834728          0.000000   \n",
              "75%        0.400000      0.154961      0.956841          0.000000   \n",
              "max        1.000000      0.952801      1.000000          1.000000   \n",
              "\n",
              "       pct_prod_1_cnvrt  pct_prod_2_cnvrt  ...  pct_AG02_20to24  \\\n",
              "count      10129.000000      10129.000000  ...     10129.000000   \n",
              "mean           0.010054          0.099803  ...         0.047682   \n",
              "std            0.058506          0.177960  ...         0.092742   \n",
              "min            0.000000          0.000000  ...         0.000000   \n",
              "25%            0.000000          0.000000  ...         0.000000   \n",
              "50%            0.000000          0.003072  ...         0.012040   \n",
              "75%            0.000000          0.130435  ...         0.055822   \n",
              "max            1.000000          1.000000  ...         1.000000   \n",
              "\n",
              "       pct_AG03_25to29  pct_AG04_30to34  pct_AG05_35to39  pct_AG06_40to44  \\\n",
              "count     10129.000000     10129.000000     10129.000000     10129.000000   \n",
              "mean          0.115485         0.231073         0.168202         0.167358   \n",
              "std           0.155559         0.203475         0.151610         0.157388   \n",
              "min           0.000000         0.000000         0.000000         0.000000   \n",
              "25%           0.000000         0.081081         0.055422         0.049645   \n",
              "50%           0.063866         0.184739         0.145462         0.138243   \n",
              "75%           0.157895         0.329377         0.240909         0.240000   \n",
              "max           1.000000         1.000000         1.000000         1.000000   \n",
              "\n",
              "       pct_AG07_45to49  pct_AG08_50to54  pct_AG09_55to59  pct_AG10_60up  \\\n",
              "count     10129.000000     10129.000000     10129.000000   10129.000000   \n",
              "mean          0.100938         0.068619         0.047338       0.035471   \n",
              "std           0.117883         0.094859         0.080929       0.078921   \n",
              "min           0.000000         0.000000         0.000000       0.000000   \n",
              "25%           0.010909         0.000000         0.000000       0.000000   \n",
              "50%           0.074890         0.040000         0.018540       0.006024   \n",
              "75%           0.143939         0.097561         0.060606       0.033875   \n",
              "max           1.000000         1.000000         1.000000       1.000000   \n",
              "\n",
              "            cluster  \n",
              "count  10129.000000  \n",
              "mean       4.246026  \n",
              "std        2.808334  \n",
              "min        0.000000  \n",
              "25%        1.000000  \n",
              "50%        5.000000  \n",
              "75%        6.000000  \n",
              "max        9.000000  \n",
              "\n",
              "[8 rows x 31 columns]"
            ],
            "text/html": [
              "\n",
              "  <div id=\"df-4aaa0d3e-9e79-4a19-8927-439f1df411fa\" class=\"colab-df-container\">\n",
              "    <div>\n",
              "<style scoped>\n",
              "    .dataframe tbody tr th:only-of-type {\n",
              "        vertical-align: middle;\n",
              "    }\n",
              "\n",
              "    .dataframe tbody tr th {\n",
              "        vertical-align: top;\n",
              "    }\n",
              "\n",
              "    .dataframe thead th {\n",
              "        text-align: right;\n",
              "    }\n",
              "</style>\n",
              "<table border=\"1\" class=\"dataframe\">\n",
              "  <thead>\n",
              "    <tr style=\"text-align: right;\">\n",
              "      <th></th>\n",
              "      <th>agent_age</th>\n",
              "      <th>agent_tenure</th>\n",
              "      <th>cnt_converted</th>\n",
              "      <th>annual_premium_cnvrt</th>\n",
              "      <th>pct_lapsed</th>\n",
              "      <th>pct_cancel</th>\n",
              "      <th>pct_inforce</th>\n",
              "      <th>pct_prod_0_cnvrt</th>\n",
              "      <th>pct_prod_1_cnvrt</th>\n",
              "      <th>pct_prod_2_cnvrt</th>\n",
              "      <th>...</th>\n",
              "      <th>pct_AG02_20to24</th>\n",
              "      <th>pct_AG03_25to29</th>\n",
              "      <th>pct_AG04_30to34</th>\n",
              "      <th>pct_AG05_35to39</th>\n",
              "      <th>pct_AG06_40to44</th>\n",
              "      <th>pct_AG07_45to49</th>\n",
              "      <th>pct_AG08_50to54</th>\n",
              "      <th>pct_AG09_55to59</th>\n",
              "      <th>pct_AG10_60up</th>\n",
              "      <th>cluster</th>\n",
              "    </tr>\n",
              "  </thead>\n",
              "  <tbody>\n",
              "    <tr>\n",
              "      <th>count</th>\n",
              "      <td>10117.000000</td>\n",
              "      <td>10129.000000</td>\n",
              "      <td>10129.000000</td>\n",
              "      <td>1.012900e+04</td>\n",
              "      <td>10129.000000</td>\n",
              "      <td>10129.000000</td>\n",
              "      <td>10129.000000</td>\n",
              "      <td>10129.000000</td>\n",
              "      <td>10129.000000</td>\n",
              "      <td>10129.000000</td>\n",
              "      <td>...</td>\n",
              "      <td>10129.000000</td>\n",
              "      <td>10129.000000</td>\n",
              "      <td>10129.000000</td>\n",
              "      <td>10129.000000</td>\n",
              "      <td>10129.000000</td>\n",
              "      <td>10129.000000</td>\n",
              "      <td>10129.000000</td>\n",
              "      <td>10129.000000</td>\n",
              "      <td>10129.000000</td>\n",
              "      <td>10129.000000</td>\n",
              "    </tr>\n",
              "    <tr>\n",
              "      <th>mean</th>\n",
              "      <td>40.665612</td>\n",
              "      <td>63.545069</td>\n",
              "      <td>495.251851</td>\n",
              "      <td>2.826233e+05</td>\n",
              "      <td>0.291845</td>\n",
              "      <td>0.118114</td>\n",
              "      <td>0.689435</td>\n",
              "      <td>0.000588</td>\n",
              "      <td>0.010054</td>\n",
              "      <td>0.099803</td>\n",
              "      <td>...</td>\n",
              "      <td>0.047682</td>\n",
              "      <td>0.115485</td>\n",
              "      <td>0.231073</td>\n",
              "      <td>0.168202</td>\n",
              "      <td>0.167358</td>\n",
              "      <td>0.100938</td>\n",
              "      <td>0.068619</td>\n",
              "      <td>0.047338</td>\n",
              "      <td>0.035471</td>\n",
              "      <td>4.246026</td>\n",
              "    </tr>\n",
              "    <tr>\n",
              "      <th>std</th>\n",
              "      <td>9.972361</td>\n",
              "      <td>58.964719</td>\n",
              "      <td>1234.958900</td>\n",
              "      <td>9.305943e+05</td>\n",
              "      <td>0.338266</td>\n",
              "      <td>0.155495</td>\n",
              "      <td>0.344333</td>\n",
              "      <td>0.016440</td>\n",
              "      <td>0.058506</td>\n",
              "      <td>0.177960</td>\n",
              "      <td>...</td>\n",
              "      <td>0.092742</td>\n",
              "      <td>0.155559</td>\n",
              "      <td>0.203475</td>\n",
              "      <td>0.151610</td>\n",
              "      <td>0.157388</td>\n",
              "      <td>0.117883</td>\n",
              "      <td>0.094859</td>\n",
              "      <td>0.080929</td>\n",
              "      <td>0.078921</td>\n",
              "      <td>2.808334</td>\n",
              "    </tr>\n",
              "    <tr>\n",
              "      <th>min</th>\n",
              "      <td>22.000000</td>\n",
              "      <td>0.000000</td>\n",
              "      <td>1.000000</td>\n",
              "      <td>0.000000e+00</td>\n",
              "      <td>0.000000</td>\n",
              "      <td>0.000000</td>\n",
              "      <td>0.000000</td>\n",
              "      <td>0.000000</td>\n",
              "      <td>0.000000</td>\n",
              "      <td>0.000000</td>\n",
              "      <td>...</td>\n",
              "      <td>0.000000</td>\n",
              "      <td>0.000000</td>\n",
              "      <td>0.000000</td>\n",
              "      <td>0.000000</td>\n",
              "      <td>0.000000</td>\n",
              "      <td>0.000000</td>\n",
              "      <td>0.000000</td>\n",
              "      <td>0.000000</td>\n",
              "      <td>0.000000</td>\n",
              "      <td>0.000000</td>\n",
              "    </tr>\n",
              "    <tr>\n",
              "      <th>25%</th>\n",
              "      <td>33.000000</td>\n",
              "      <td>22.000000</td>\n",
              "      <td>57.000000</td>\n",
              "      <td>1.613389e+04</td>\n",
              "      <td>0.000000</td>\n",
              "      <td>0.006995</td>\n",
              "      <td>0.545455</td>\n",
              "      <td>0.000000</td>\n",
              "      <td>0.000000</td>\n",
              "      <td>0.000000</td>\n",
              "      <td>...</td>\n",
              "      <td>0.000000</td>\n",
              "      <td>0.000000</td>\n",
              "      <td>0.081081</td>\n",
              "      <td>0.055422</td>\n",
              "      <td>0.049645</td>\n",
              "      <td>0.010909</td>\n",
              "      <td>0.000000</td>\n",
              "      <td>0.000000</td>\n",
              "      <td>0.000000</td>\n",
              "      <td>1.000000</td>\n",
              "    </tr>\n",
              "    <tr>\n",
              "      <th>50%</th>\n",
              "      <td>39.000000</td>\n",
              "      <td>41.000000</td>\n",
              "      <td>168.000000</td>\n",
              "      <td>5.889820e+04</td>\n",
              "      <td>0.200000</td>\n",
              "      <td>0.067150</td>\n",
              "      <td>0.834728</td>\n",
              "      <td>0.000000</td>\n",
              "      <td>0.000000</td>\n",
              "      <td>0.003072</td>\n",
              "      <td>...</td>\n",
              "      <td>0.012040</td>\n",
              "      <td>0.063866</td>\n",
              "      <td>0.184739</td>\n",
              "      <td>0.145462</td>\n",
              "      <td>0.138243</td>\n",
              "      <td>0.074890</td>\n",
              "      <td>0.040000</td>\n",
              "      <td>0.018540</td>\n",
              "      <td>0.006024</td>\n",
              "      <td>5.000000</td>\n",
              "    </tr>\n",
              "    <tr>\n",
              "      <th>75%</th>\n",
              "      <td>46.000000</td>\n",
              "      <td>86.000000</td>\n",
              "      <td>477.000000</td>\n",
              "      <td>2.331316e+05</td>\n",
              "      <td>0.400000</td>\n",
              "      <td>0.154961</td>\n",
              "      <td>0.956841</td>\n",
              "      <td>0.000000</td>\n",
              "      <td>0.000000</td>\n",
              "      <td>0.130435</td>\n",
              "      <td>...</td>\n",
              "      <td>0.055822</td>\n",
              "      <td>0.157895</td>\n",
              "      <td>0.329377</td>\n",
              "      <td>0.240909</td>\n",
              "      <td>0.240000</td>\n",
              "      <td>0.143939</td>\n",
              "      <td>0.097561</td>\n",
              "      <td>0.060606</td>\n",
              "      <td>0.033875</td>\n",
              "      <td>6.000000</td>\n",
              "    </tr>\n",
              "    <tr>\n",
              "      <th>max</th>\n",
              "      <td>87.000000</td>\n",
              "      <td>427.000000</td>\n",
              "      <td>44011.000000</td>\n",
              "      <td>3.538133e+07</td>\n",
              "      <td>1.000000</td>\n",
              "      <td>0.952801</td>\n",
              "      <td>1.000000</td>\n",
              "      <td>1.000000</td>\n",
              "      <td>1.000000</td>\n",
              "      <td>1.000000</td>\n",
              "      <td>...</td>\n",
              "      <td>1.000000</td>\n",
              "      <td>1.000000</td>\n",
              "      <td>1.000000</td>\n",
              "      <td>1.000000</td>\n",
              "      <td>1.000000</td>\n",
              "      <td>1.000000</td>\n",
              "      <td>1.000000</td>\n",
              "      <td>1.000000</td>\n",
              "      <td>1.000000</td>\n",
              "      <td>9.000000</td>\n",
              "    </tr>\n",
              "  </tbody>\n",
              "</table>\n",
              "<p>8 rows × 31 columns</p>\n",
              "</div>\n",
              "    <div class=\"colab-df-buttons\">\n",
              "\n",
              "  <div class=\"colab-df-container\">\n",
              "    <button class=\"colab-df-convert\" onclick=\"convertToInteractive('df-4aaa0d3e-9e79-4a19-8927-439f1df411fa')\"\n",
              "            title=\"Convert this dataframe to an interactive table.\"\n",
              "            style=\"display:none;\">\n",
              "\n",
              "  <svg xmlns=\"http://www.w3.org/2000/svg\" height=\"24px\" viewBox=\"0 -960 960 960\">\n",
              "    <path d=\"M120-120v-720h720v720H120Zm60-500h600v-160H180v160Zm220 220h160v-160H400v160Zm0 220h160v-160H400v160ZM180-400h160v-160H180v160Zm440 0h160v-160H620v160ZM180-180h160v-160H180v160Zm440 0h160v-160H620v160Z\"/>\n",
              "  </svg>\n",
              "    </button>\n",
              "\n",
              "  <style>\n",
              "    .colab-df-container {\n",
              "      display:flex;\n",
              "      gap: 12px;\n",
              "    }\n",
              "\n",
              "    .colab-df-convert {\n",
              "      background-color: #E8F0FE;\n",
              "      border: none;\n",
              "      border-radius: 50%;\n",
              "      cursor: pointer;\n",
              "      display: none;\n",
              "      fill: #1967D2;\n",
              "      height: 32px;\n",
              "      padding: 0 0 0 0;\n",
              "      width: 32px;\n",
              "    }\n",
              "\n",
              "    .colab-df-convert:hover {\n",
              "      background-color: #E2EBFA;\n",
              "      box-shadow: 0px 1px 2px rgba(60, 64, 67, 0.3), 0px 1px 3px 1px rgba(60, 64, 67, 0.15);\n",
              "      fill: #174EA6;\n",
              "    }\n",
              "\n",
              "    .colab-df-buttons div {\n",
              "      margin-bottom: 4px;\n",
              "    }\n",
              "\n",
              "    [theme=dark] .colab-df-convert {\n",
              "      background-color: #3B4455;\n",
              "      fill: #D2E3FC;\n",
              "    }\n",
              "\n",
              "    [theme=dark] .colab-df-convert:hover {\n",
              "      background-color: #434B5C;\n",
              "      box-shadow: 0px 1px 3px 1px rgba(0, 0, 0, 0.15);\n",
              "      filter: drop-shadow(0px 1px 2px rgba(0, 0, 0, 0.3));\n",
              "      fill: #FFFFFF;\n",
              "    }\n",
              "  </style>\n",
              "\n",
              "    <script>\n",
              "      const buttonEl =\n",
              "        document.querySelector('#df-4aaa0d3e-9e79-4a19-8927-439f1df411fa button.colab-df-convert');\n",
              "      buttonEl.style.display =\n",
              "        google.colab.kernel.accessAllowed ? 'block' : 'none';\n",
              "\n",
              "      async function convertToInteractive(key) {\n",
              "        const element = document.querySelector('#df-4aaa0d3e-9e79-4a19-8927-439f1df411fa');\n",
              "        const dataTable =\n",
              "          await google.colab.kernel.invokeFunction('convertToInteractive',\n",
              "                                                    [key], {});\n",
              "        if (!dataTable) return;\n",
              "\n",
              "        const docLinkHtml = 'Like what you see? Visit the ' +\n",
              "          '<a target=\"_blank\" href=https://colab.research.google.com/notebooks/data_table.ipynb>data table notebook</a>'\n",
              "          + ' to learn more about interactive tables.';\n",
              "        element.innerHTML = '';\n",
              "        dataTable['output_type'] = 'display_data';\n",
              "        await google.colab.output.renderOutput(dataTable, element);\n",
              "        const docLink = document.createElement('div');\n",
              "        docLink.innerHTML = docLinkHtml;\n",
              "        element.appendChild(docLink);\n",
              "      }\n",
              "    </script>\n",
              "  </div>\n",
              "\n",
              "\n",
              "<div id=\"df-6b72d2d7-50d8-4d91-bbf1-88dda9159395\">\n",
              "  <button class=\"colab-df-quickchart\" onclick=\"quickchart('df-6b72d2d7-50d8-4d91-bbf1-88dda9159395')\"\n",
              "            title=\"Suggest charts\"\n",
              "            style=\"display:none;\">\n",
              "\n",
              "<svg xmlns=\"http://www.w3.org/2000/svg\" height=\"24px\"viewBox=\"0 0 24 24\"\n",
              "     width=\"24px\">\n",
              "    <g>\n",
              "        <path d=\"M19 3H5c-1.1 0-2 .9-2 2v14c0 1.1.9 2 2 2h14c1.1 0 2-.9 2-2V5c0-1.1-.9-2-2-2zM9 17H7v-7h2v7zm4 0h-2V7h2v10zm4 0h-2v-4h2v4z\"/>\n",
              "    </g>\n",
              "</svg>\n",
              "  </button>\n",
              "\n",
              "<style>\n",
              "  .colab-df-quickchart {\n",
              "      --bg-color: #E8F0FE;\n",
              "      --fill-color: #1967D2;\n",
              "      --hover-bg-color: #E2EBFA;\n",
              "      --hover-fill-color: #174EA6;\n",
              "      --disabled-fill-color: #AAA;\n",
              "      --disabled-bg-color: #DDD;\n",
              "  }\n",
              "\n",
              "  [theme=dark] .colab-df-quickchart {\n",
              "      --bg-color: #3B4455;\n",
              "      --fill-color: #D2E3FC;\n",
              "      --hover-bg-color: #434B5C;\n",
              "      --hover-fill-color: #FFFFFF;\n",
              "      --disabled-bg-color: #3B4455;\n",
              "      --disabled-fill-color: #666;\n",
              "  }\n",
              "\n",
              "  .colab-df-quickchart {\n",
              "    background-color: var(--bg-color);\n",
              "    border: none;\n",
              "    border-radius: 50%;\n",
              "    cursor: pointer;\n",
              "    display: none;\n",
              "    fill: var(--fill-color);\n",
              "    height: 32px;\n",
              "    padding: 0;\n",
              "    width: 32px;\n",
              "  }\n",
              "\n",
              "  .colab-df-quickchart:hover {\n",
              "    background-color: var(--hover-bg-color);\n",
              "    box-shadow: 0 1px 2px rgba(60, 64, 67, 0.3), 0 1px 3px 1px rgba(60, 64, 67, 0.15);\n",
              "    fill: var(--button-hover-fill-color);\n",
              "  }\n",
              "\n",
              "  .colab-df-quickchart-complete:disabled,\n",
              "  .colab-df-quickchart-complete:disabled:hover {\n",
              "    background-color: var(--disabled-bg-color);\n",
              "    fill: var(--disabled-fill-color);\n",
              "    box-shadow: none;\n",
              "  }\n",
              "\n",
              "  .colab-df-spinner {\n",
              "    border: 2px solid var(--fill-color);\n",
              "    border-color: transparent;\n",
              "    border-bottom-color: var(--fill-color);\n",
              "    animation:\n",
              "      spin 1s steps(1) infinite;\n",
              "  }\n",
              "\n",
              "  @keyframes spin {\n",
              "    0% {\n",
              "      border-color: transparent;\n",
              "      border-bottom-color: var(--fill-color);\n",
              "      border-left-color: var(--fill-color);\n",
              "    }\n",
              "    20% {\n",
              "      border-color: transparent;\n",
              "      border-left-color: var(--fill-color);\n",
              "      border-top-color: var(--fill-color);\n",
              "    }\n",
              "    30% {\n",
              "      border-color: transparent;\n",
              "      border-left-color: var(--fill-color);\n",
              "      border-top-color: var(--fill-color);\n",
              "      border-right-color: var(--fill-color);\n",
              "    }\n",
              "    40% {\n",
              "      border-color: transparent;\n",
              "      border-right-color: var(--fill-color);\n",
              "      border-top-color: var(--fill-color);\n",
              "    }\n",
              "    60% {\n",
              "      border-color: transparent;\n",
              "      border-right-color: var(--fill-color);\n",
              "    }\n",
              "    80% {\n",
              "      border-color: transparent;\n",
              "      border-right-color: var(--fill-color);\n",
              "      border-bottom-color: var(--fill-color);\n",
              "    }\n",
              "    90% {\n",
              "      border-color: transparent;\n",
              "      border-bottom-color: var(--fill-color);\n",
              "    }\n",
              "  }\n",
              "</style>\n",
              "\n",
              "  <script>\n",
              "    async function quickchart(key) {\n",
              "      const quickchartButtonEl =\n",
              "        document.querySelector('#' + key + ' button');\n",
              "      quickchartButtonEl.disabled = true;  // To prevent multiple clicks.\n",
              "      quickchartButtonEl.classList.add('colab-df-spinner');\n",
              "      try {\n",
              "        const charts = await google.colab.kernel.invokeFunction(\n",
              "            'suggestCharts', [key], {});\n",
              "      } catch (error) {\n",
              "        console.error('Error during call to suggestCharts:', error);\n",
              "      }\n",
              "      quickchartButtonEl.classList.remove('colab-df-spinner');\n",
              "      quickchartButtonEl.classList.add('colab-df-quickchart-complete');\n",
              "    }\n",
              "    (() => {\n",
              "      let quickchartButtonEl =\n",
              "        document.querySelector('#df-6b72d2d7-50d8-4d91-bbf1-88dda9159395 button');\n",
              "      quickchartButtonEl.style.display =\n",
              "        google.colab.kernel.accessAllowed ? 'block' : 'none';\n",
              "    })();\n",
              "  </script>\n",
              "</div>\n",
              "\n",
              "    </div>\n",
              "  </div>\n"
            ],
            "application/vnd.google.colaboratory.intrinsic+json": {
              "type": "dataframe"
            }
          },
          "metadata": {},
          "execution_count": 68
        }
      ]
    },
    {
      "cell_type": "markdown",
      "source": [
        "----------------------------------------------------------------------------------------------------------------------------------------------------------------"
      ],
      "metadata": {
        "id": "DYdf3aLmmDs0"
      }
    },
    {
      "cell_type": "markdown",
      "source": [
        "## Step 1: Data Cleaning Steps"
      ],
      "metadata": {
        "id": "U27pqGKD9rOn"
      }
    },
    {
      "cell_type": "markdown",
      "source": [
        "#### Step 1.1: Standardising the column names all to lowercase"
      ],
      "metadata": {
        "id": "r7WAREr5s3Mk"
      }
    },
    {
      "cell_type": "markdown",
      "source": [
        "From the agent dataset, some of the column names, such as `pct_SX0_unknown`, `pct_AG01_lt20`, `pct_AG10_60up` etc. have several capital letters. To ensure consistency in the formatting of the column names, all column names should have lower-case letters. To convert the column names to lowercase, this can be achieved using the `.str.lower()` method."
      ],
      "metadata": {
        "id": "krHCUIb2tGRO"
      }
    },
    {
      "cell_type": "code",
      "source": [
        "# Standardize column names to lowercase to prevent mismatches\n",
        "df_policy.columns = df_policy.columns.str.lower()\n",
        "df_client.columns = df_client.columns.str.lower()\n",
        "df_agent.columns = df_agent.columns.str.lower()"
      ],
      "metadata": {
        "id": "PIQZmPi1tA4x"
      },
      "execution_count": null,
      "outputs": []
    },
    {
      "cell_type": "markdown",
      "source": [
        "----------------------------------------------------------------------------------------------------------------------"
      ],
      "metadata": {
        "id": "sCAj9S4CwJ8h"
      }
    },
    {
      "cell_type": "markdown",
      "source": [
        "#### Step 1.2: Tidying some of the column values to a more readable format"
      ],
      "metadata": {
        "id": "QpF7QtAZuQ1C"
      }
    },
    {
      "cell_type": "markdown",
      "source": [
        "From the three datasets, several columns (the categorical ones especially) have values that are reader unfriendly. For instance, from the `agntnum` column of the agent dataset, the value of **AIN:9513** can be replaced by **9513**. Another example will be the `product` column of the policy dataset, where **prod_8** should be replaced by **8**. Other columns that need to be changed include `chdrnum`, `secuityno`, `product_grp`, `cust_age_at_purchase_grp`, `cust_tenure_at_purchase_grp` etc."
      ],
      "metadata": {
        "id": "KETA_JbMuzLc"
      }
    },
    {
      "cell_type": "markdown",
      "source": [
        "To ensure that the column values are more readable, we need to **remove the necessary punctuation and words**, **but leave the numbers**. To achieve this, we can make use of **regex expressions**. Several columns such as `cust_age_at_purchase_grp` and `cust_tenure_at_purchase_grp` in the policy dataset requires more thorough cleaning.  "
      ],
      "metadata": {
        "id": "MdijwKU4xCEv"
      }
    },
    {
      "cell_type": "code",
      "source": [
        "# Regex expression function\n",
        "\n",
        "# Tidying the policy dataset\n",
        "policy_clean = ['chdrnum', 'agntnum', 'secuityno', 'product', 'product_grp']\n",
        "\n",
        "for col in policy_clean:\n",
        "    df_policy[col] = df_policy[col].str.replace(r'[^0-9]', '', regex = True)\n",
        "\n",
        "# Tidying the client dataset\n",
        "df_client['secuityno'] = df_client['secuityno'].str.replace(r'[^0-9]', '', regex = True)\n",
        "\n",
        "# Tidying the agent dataset\n",
        "df_agent['agntnum'] = df_agent['agntnum'].str.replace(r'[^0-9]', '', regex = True)"
      ],
      "metadata": {
        "id": "oKUYSlRNvZOK"
      },
      "execution_count": null,
      "outputs": []
    },
    {
      "cell_type": "markdown",
      "source": [
        "----------------------------------------------------------------------------------------------------------------------"
      ],
      "metadata": {
        "id": "sZphtcnh-UDL"
      }
    },
    {
      "cell_type": "markdown",
      "source": [
        "#### Step 1.3: Tidying the remaining more complex columns (regex alone is insufficient)"
      ],
      "metadata": {
        "id": "ajljcnGREKwT"
      }
    },
    {
      "cell_type": "markdown",
      "source": [
        "For the more complex columns such as `cust_age_at_purchase_grp`, `cust_tenure_at_purchase_grp`, `household_size_grp` and `family_size_grp`, more advanced cleaning is required. We can first find the various unique values in the columns and what each value represents."
      ],
      "metadata": {
        "id": "PgKH85rH-s1w"
      }
    },
    {
      "cell_type": "markdown",
      "source": [
        "###### 1st Complex Column: `cust_age_at_purchase_grp`"
      ],
      "metadata": {
        "id": "D6kVPL5xAaGZ"
      }
    },
    {
      "cell_type": "code",
      "source": [
        "# Finding the values of the cust_age_at_purchase_grp column\n",
        "print(list(df_policy['cust_age_at_purchase_grp'].unique()))"
      ],
      "metadata": {
        "colab": {
          "base_uri": "https://localhost:8080/"
        },
        "id": "KyZovvtj_LNl",
        "outputId": "aff0e615-8bdf-42e6-8e48-ec7816b17b96"
      },
      "execution_count": null,
      "outputs": [
        {
          "output_type": "stream",
          "name": "stdout",
          "text": [
            "['AG05_35to39', 'AG04_30to34', 'AG08_50to54', 'AG07_45to49', 'AG09_55to59', 'AG06_40to44', 'AG10_60up', 'AG03_25to29', 'AG02_20to24', 'AG01_lt20', 'AG00_missing']\n"
          ]
        }
      ]
    },
    {
      "cell_type": "markdown",
      "source": [
        "<html>\n",
        "<head>\n",
        "    <title>cust_age_at_purchase_grp information: </title>\n",
        "</head>\n",
        "<body>\n",
        "    <table border=\"1\">\n",
        "        <tr>\n",
        "            <th>Original Column Value</th>\n",
        "            <th>Revised Column Value</th>\n",
        "            <th>Information</th>\n",
        "        </tr>\n",
        "        <tr>\n",
        "            <td>AG00_missing</td>\n",
        "            <td>0</td>\n",
        "            <td>Missing Age Information</td>\n",
        "        </tr>\n",
        "        <tr>\n",
        "            <td>AG01_lt20</td>\n",
        "            <td>1</td>\n",
        "            <td>Below 20 years old</td>\n",
        "        </tr>\n",
        "        <tr>\n",
        "            <td>AG02_20to24</td>\n",
        "            <td>2</td>\n",
        "            <td>From 20 to 24 years old</td>\n",
        "        </tr>\n",
        "        <tr>\n",
        "            <td>AG03_25to29</td>\n",
        "            <td>3</td>\n",
        "            <td>From 25 to 29 years old</td>\n",
        "        </tr>\n",
        "        <tr>\n",
        "            <td>AG04_30to34</td>\n",
        "            <td>4</td>\n",
        "            <td>From 30 to 34 years old</td>\n",
        "        </tr>\n",
        "        <tr>\n",
        "            <td>AG05_35to39</td>\n",
        "            <td>5</td>\n",
        "            <td>From 35 to 39 years old</td>\n",
        "        </tr>\n",
        "        <tr>\n",
        "            <td>AG06_40to44</td>\n",
        "            <td>6</td>\n",
        "            <td>From 40 to 44 years old</td>\n",
        "        </tr>\n",
        "        <tr>\n",
        "            <td>AG07_45to49</td>\n",
        "            <td>7</td>\n",
        "            <td>From 45 to 49 years old</td>\n",
        "        </tr>\n",
        "        <tr>\n",
        "            <td>AG08_50to54</td>\n",
        "            <td>8</td>\n",
        "            <td>From 50 to 54 years old</td>\n",
        "        </tr>\n",
        "        <tr>\n",
        "            <td>AG09_55to59</td>\n",
        "            <td>9</td>\n",
        "            <td>From 55 to 59 years old</td>\n",
        "        </tr>\n",
        "        <tr>\n",
        "            <td>AG10_60up</td>\n",
        "            <td>10</td>\n",
        "            <td>Over 60 years old</td>\n",
        "        </tr>\n",
        "    </table>\n",
        "</body>\n",
        "</html>"
      ],
      "metadata": {
        "id": "YRaxK_ahAy20"
      }
    },
    {
      "cell_type": "code",
      "source": [
        "# Create a mapping dictionary for cust_age_at_purchase_grp\n",
        "mapping_dict_one = {\"AG00_missing\": 0, \"AG01_lt20\": 1, \"AG02_20to24\": 2,\n",
        "                    \"AG03_25to29\": 3, \"AG04_30to34\": 4, \"AG05_35to39\": 5,\n",
        "                    \"AG06_40to44\": 6, \"AG07_45to49\": 7, \"AG08_50to54\": 8,\n",
        "                    \"AG09_55to59\": 9, \"AG10_60up\": 10}\n",
        "\n",
        "# Apply mapping to cust_age_at_purchase_grp\n",
        "df_policy[\"cust_age_at_purchase_grp\"] = df_policy[\"cust_age_at_purchase_grp\"].map(mapping_dict_one)"
      ],
      "metadata": {
        "id": "14XNagGyHPOR"
      },
      "execution_count": null,
      "outputs": []
    },
    {
      "cell_type": "markdown",
      "source": [
        "###### 2nd Complex Column: `cust_tenure_at_purchase_grp`"
      ],
      "metadata": {
        "id": "fMbYu2whDNzj"
      }
    },
    {
      "cell_type": "code",
      "source": [
        "# Finding the values of the cust_tenure_at_purchase_grp column\n",
        "print(list(df_policy['cust_tenure_at_purchase_grp'].unique()))"
      ],
      "metadata": {
        "colab": {
          "base_uri": "https://localhost:8080/"
        },
        "id": "5bzcwDCoDDRc",
        "outputId": "aefe1e30-bb60-4aab-ae8f-014aa150ddce"
      },
      "execution_count": null,
      "outputs": [
        {
          "output_type": "stream",
          "name": "stdout",
          "text": [
            "['TNR2_lt1yr', 'TNR4_4to8yr', 'TNR5_8yrup', 'TNR3_1to4yr']\n"
          ]
        }
      ]
    },
    {
      "cell_type": "markdown",
      "source": [
        "<html>\n",
        "<head>\n",
        "    <title>cust_tenure_at_purchase_grp information: </title>\n",
        "</head>\n",
        "<body>\n",
        "    <table border=\"1\">\n",
        "        <tr>\n",
        "            <th>Original Column Value</th>\n",
        "            <th>Revised Column Value</th>\n",
        "            <th>Information</th>\n",
        "        </tr>\n",
        "        <tr>\n",
        "            <td>TNR2_lt1yr</td>\n",
        "            <td>0</td>\n",
        "            <td>Less than 1 year</td>\n",
        "        </tr>\n",
        "        <tr>\n",
        "            <td>TNR3_1to4yr</td>\n",
        "            <td>1</td>\n",
        "            <td>From 1 to 4 years</td>\n",
        "        </tr>\n",
        "        <tr>\n",
        "            <td>TNR4_4to8yr</td>\n",
        "            <td>2</td>\n",
        "            <td>From 4 to 8 years</td>\n",
        "        </tr>\n",
        "        <tr>\n",
        "            <td>TNR5_8yrup</td>\n",
        "            <td>3</td>\n",
        "            <td>Over 8 years</td>\n",
        "        </tr>\n",
        "    </table>\n",
        "</body>\n",
        "</html>"
      ],
      "metadata": {
        "id": "DGpnKvBQDYho"
      }
    },
    {
      "cell_type": "code",
      "source": [
        "# Create a mapping dictionary for cust_tenure_at_purchase_grp\n",
        "mapping_dict_two = {\"TNR2_lt1yr\": 0, \"TNR3_1to4yr\": 1, \"TNR4_4to8yr\": 2,\n",
        "                    \"TNR5_8yrup\": 3}\n",
        "\n",
        "# Apply mapping to cust_tenure_at_purchase_grp\n",
        "df_policy[\"cust_tenure_at_purchase_grp\"] = df_policy[\"cust_tenure_at_purchase_grp\"].map(mapping_dict_two)"
      ],
      "metadata": {
        "id": "P-5FBjpYHwW2"
      },
      "execution_count": null,
      "outputs": []
    },
    {
      "cell_type": "markdown",
      "source": [
        "###### 3rd Complex Column: `household_size_grp`"
      ],
      "metadata": {
        "id": "vpKkCm-IFm6u"
      }
    },
    {
      "cell_type": "code",
      "source": [
        "# Finding the values of the household_size_grp column\n",
        "print(list(df_client['household_size_grp'].unique()))"
      ],
      "metadata": {
        "colab": {
          "base_uri": "https://localhost:8080/"
        },
        "id": "ImGKRTVYEaC_",
        "outputId": "c1b455f0-4163-4f7a-bce4-675c8608dd4a"
      },
      "execution_count": null,
      "outputs": [
        {
          "output_type": "stream",
          "name": "stdout",
          "text": [
            "['HH1_lt40', 'HH2_40to80', 'HH3_80to100', 'HH4_100to120', 'HH5_120up', 'HH0_missing']\n"
          ]
        }
      ]
    },
    {
      "cell_type": "markdown",
      "source": [
        "<html>\n",
        "<head>\n",
        "    <title>household_size_grp information: </title>\n",
        "</head>\n",
        "<body>\n",
        "    <table border=\"1\">\n",
        "        <tr>\n",
        "            <th>Original Column Value</th>\n",
        "            <th>Revised Column Value</th>\n",
        "            <th>Information</th>\n",
        "        </tr>\n",
        "        <tr>\n",
        "            <td>HH0_missing</td>\n",
        "            <td>0</td>\n",
        "            <td>Missing Household Size Group</td>\n",
        "        </tr>\n",
        "        <tr>\n",
        "            <td>HH1_lt40</td>\n",
        "            <td>1</td>\n",
        "            <td>Household Size Less Than 40</td>\n",
        "        </tr>\n",
        "        <tr>\n",
        "            <td>HH2_40to80</td>\n",
        "            <td>2</td>\n",
        "            <td>Household Size Between 40 And 80</td>\n",
        "        </tr>\n",
        "        <tr>\n",
        "            <td>HH3_80to100</td>\n",
        "            <td>3</td>\n",
        "            <td>Household Size Between 80 And 100</td>\n",
        "        </tr>\n",
        "        <tr>\n",
        "            <td>HH4_100to120</td>\n",
        "            <td>4</td>\n",
        "            <td>Household Size Between 100 And 120</td>\n",
        "        </tr>\n",
        "        <tr>\n",
        "            <td>HH5_120up</td>\n",
        "            <td>5</td>\n",
        "            <td>Household Size Over 120</td>\n",
        "        </tr>\n",
        "    </table>\n",
        "</body>\n",
        "</html>"
      ],
      "metadata": {
        "id": "UDT_A_qeE4jz"
      }
    },
    {
      "cell_type": "code",
      "source": [
        "# Create a mapping dictionary for household_size_grp\n",
        "mapping_dict_three = {\"HH0_missing\": 0, \"HH1_lt40\": 1, \"HH2_40to80\": 2,\n",
        "                      \"HH3_80to100\": 3, \"HH4_100to120\": 4, \"HH5_120up\": 5}\n",
        "\n",
        "# Apply mapping to household_size_grp\n",
        "df_client[\"household_size_grp\"] = df_client[\"household_size_grp\"].map(mapping_dict_three)"
      ],
      "metadata": {
        "id": "xdOnjccdIqCG"
      },
      "execution_count": null,
      "outputs": []
    },
    {
      "cell_type": "markdown",
      "source": [
        "###### 4th Complex Column: `family_size_grp`"
      ],
      "metadata": {
        "id": "9higCQSxF08I"
      }
    },
    {
      "cell_type": "code",
      "source": [
        "# Finding the values of the family_size_grp column\n",
        "print(list(df_client['family_size_grp'].unique()))"
      ],
      "metadata": {
        "colab": {
          "base_uri": "https://localhost:8080/"
        },
        "id": "MPPzY0KsEahH",
        "outputId": "37fb1c72-6eaf-4728-a015-b6243202e6fe"
      },
      "execution_count": null,
      "outputs": [
        {
          "output_type": "stream",
          "name": "stdout",
          "text": [
            "['FS3_40to60', 'FS5_80up', 'FS2_20to40', 'FS4_60to80', 'FS1_lt20', 'FS0_missing']\n"
          ]
        }
      ]
    },
    {
      "cell_type": "markdown",
      "source": [
        "<html>\n",
        "<head>\n",
        "    <title>family_size_grp information: </title>\n",
        "</head>\n",
        "<body>\n",
        "    <table border=\"1\">\n",
        "        <tr>\n",
        "            <th>Original Column Value</th>\n",
        "            <th>Revised Column Value</th>\n",
        "            <th>Information</th>\n",
        "        </tr>\n",
        "        <tr>\n",
        "            <td>FS0_missing</td>\n",
        "            <td>0</td>\n",
        "            <td>Missing Family Size Group</td>\n",
        "        </tr>\n",
        "        <tr>\n",
        "            <td>FS1_lt20</td>\n",
        "            <td>1</td>\n",
        "            <td>Family Size Less Than 20</td>\n",
        "        </tr>\n",
        "        <tr>\n",
        "            <td>FS2_20to40</td>\n",
        "            <td>2</td>\n",
        "            <td>Family Size Between 20 And 40</td>\n",
        "        </tr>\n",
        "        <tr>\n",
        "            <td>FS3_40to60</td>\n",
        "            <td>3</td>\n",
        "            <td>Family Size Between 40 And 60</td>\n",
        "        </tr>\n",
        "        <tr>\n",
        "            <td>FS4_60to80</td>\n",
        "            <td>4</td>\n",
        "            <td>Family Size Between 60 And 80</td>\n",
        "        </tr>\n",
        "        <tr>\n",
        "            <td>FS5_80up</td>\n",
        "            <td>5</td>\n",
        "            <td>Family Size Over 80</td>\n",
        "        </tr>\n",
        "    </table>\n",
        "</body>\n",
        "</html>"
      ],
      "metadata": {
        "id": "ppjvEVBfGLAI"
      }
    },
    {
      "cell_type": "code",
      "source": [
        "# Create a mapping dictionary for family_size_grp\n",
        "mapping_dict_four = {\"FS0_missing\": 0, \"FS1_lt20\": 1, \"FS2_20to40\": 2,\n",
        "                     \"FS3_40to60\": 3, \"FS4_60to80\": 4, \"FS5_80up\": 5}\n",
        "\n",
        "# Apply mapping to family_size_grp\n",
        "df_client[\"family_size_grp\"] = df_client[\"family_size_grp\"].map(mapping_dict_four)"
      ],
      "metadata": {
        "id": "3t8Xu2hBJRHI"
      },
      "execution_count": null,
      "outputs": []
    },
    {
      "cell_type": "markdown",
      "source": [
        "----------------------------------------------------------------------------------------------------------------------------------------------------------------"
      ],
      "metadata": {
        "id": "h53oLD_2NsAk"
      }
    },
    {
      "cell_type": "markdown",
      "source": [
        "#### Step 1.4: Checking and removing all the NA values in the datasets"
      ],
      "metadata": {
        "id": "ckFTwtxXQsc5"
      }
    },
    {
      "cell_type": "markdown",
      "source": [
        "We can check for any missing/NA values for the various columns of the datasets using the `.isna().sum()` method in Python. This gives the total number of missing values in the respective columns of each dataset.\n",
        "\n",
        "For NA values, imputation of mean/median/mode is not recommnded in this context as imputing values which are not accurate might affect the results of the Machine Learning model implemented subsequently. Hence, it is best to remove the rows containing any NA values to ensure that all datasets are free from NA.\n",
        "\n",
        "Use the `.dropna(inplace = True)` method to remove all the rows containing NA values."
      ],
      "metadata": {
        "id": "u2zjgl2aRUEM"
      }
    },
    {
      "cell_type": "markdown",
      "source": [
        "###### Dataset 1: Policy Information Dataset"
      ],
      "metadata": {
        "id": "CRDFu29zRJmE"
      }
    },
    {
      "cell_type": "code",
      "source": [
        "# Check missing values in policy dataset\n",
        "print(df_policy.isna().sum())"
      ],
      "metadata": {
        "colab": {
          "base_uri": "https://localhost:8080/"
        },
        "id": "SC4j8UyYQ7Bt",
        "outputId": "730c6e9e-2c2a-43b3-f6d8-92d6468cfbb5"
      },
      "execution_count": null,
      "outputs": [
        {
          "output_type": "stream",
          "name": "stdout",
          "text": [
            "chdrnum                        0\n",
            "agntnum                        0\n",
            "secuityno                      0\n",
            "occdate                        0\n",
            "annual_premium                 0\n",
            "product                        0\n",
            "flg_main                       0\n",
            "flg_rider                      0\n",
            "flg_inforce                    0\n",
            "flg_lapsed                     0\n",
            "flg_cancel                     0\n",
            "flg_expire                     0\n",
            "flg_converted                  0\n",
            "product_grp                    0\n",
            "cust_age_at_purchase_grp       0\n",
            "cust_tenure_at_purchase_grp    0\n",
            "dtype: int64\n"
          ]
        }
      ]
    },
    {
      "cell_type": "markdown",
      "source": [
        "We observe that for the policy dataset, there are no NA values present and hence, we do not need to use the `.dropna(inplace = True)` method."
      ],
      "metadata": {
        "id": "J5CGIYMkSF22"
      }
    },
    {
      "cell_type": "markdown",
      "source": [
        "###### Dataset 2: Client Information Dataset"
      ],
      "metadata": {
        "id": "jalzTGR5SQWM"
      }
    },
    {
      "cell_type": "code",
      "source": [
        "# Check missing values in client dataset\n",
        "print(df_client.isna().sum())"
      ],
      "metadata": {
        "colab": {
          "base_uri": "https://localhost:8080/"
        },
        "id": "qM4_bGzZSVrC",
        "outputId": "a269dea4-5a33-4c3f-94a9-d08ac395d2f7"
      },
      "execution_count": null,
      "outputs": [
        {
          "output_type": "stream",
          "name": "stdout",
          "text": [
            "secuityno               0\n",
            "cltsex                  0\n",
            "cltdob                  6\n",
            "marryd                  0\n",
            "race_desc_map          10\n",
            "cltpcode              156\n",
            "household_size        343\n",
            "economic_status       343\n",
            "family_size           343\n",
            "household_size_grp      0\n",
            "family_size_grp         0\n",
            "dtype: int64\n"
          ]
        }
      ]
    },
    {
      "cell_type": "markdown",
      "source": [
        "For the client dataset, there are indeed several columns containing NA/missing values. For instance, there are 10 NAs in the `race_desc_map` column, 156 NAs in the `cltpcode` column etc. We need to use the `.dropna(inplace = True)` method to remove the NA values."
      ],
      "metadata": {
        "id": "JrLt_81YSb-_"
      }
    },
    {
      "cell_type": "code",
      "source": [
        "# Remove rows with NA values for the df_client dataset\n",
        "df_client.dropna(inplace = True)"
      ],
      "metadata": {
        "id": "zqOG83yMQdy2"
      },
      "execution_count": null,
      "outputs": []
    },
    {
      "cell_type": "markdown",
      "source": [
        "###### Dataset 3: Agent Information Dataset"
      ],
      "metadata": {
        "id": "4VfjgVv5S1hd"
      }
    },
    {
      "cell_type": "code",
      "source": [
        "# Check missing values in agent dataset\n",
        "print(df_agent.isna().sum())"
      ],
      "metadata": {
        "colab": {
          "base_uri": "https://localhost:8080/"
        },
        "id": "BRPj-E2cS6au",
        "outputId": "f2195ed8-8b50-4fe0-af5e-e5cf46936628"
      },
      "execution_count": null,
      "outputs": [
        {
          "output_type": "stream",
          "name": "stdout",
          "text": [
            "agntnum                     0\n",
            "agent_age                  12\n",
            "agent_gender                0\n",
            "agent_marital               0\n",
            "agent_tenure                0\n",
            "cnt_converted               0\n",
            "annual_premium_cnvrt        0\n",
            "pct_lapsed                  0\n",
            "pct_cancel                  0\n",
            "pct_inforce                 0\n",
            "pct_prod_0_cnvrt            0\n",
            "pct_prod_1_cnvrt            0\n",
            "pct_prod_2_cnvrt            0\n",
            "pct_prod_3_cnvrt            0\n",
            "pct_prod_4_cnvrt            0\n",
            "pct_prod_5_cnvrt            0\n",
            "pct_prod_6_cnvrt            0\n",
            "pct_prod_7_cnvrt            0\n",
            "pct_prod_8_cnvrt            0\n",
            "pct_prod_9_cnvrt            0\n",
            "pct_sx0_unknown             0\n",
            "pct_sx1_male                0\n",
            "pct_sx2_female              0\n",
            "pct_ag01_lt20               0\n",
            "pct_ag02_20to24             0\n",
            "pct_ag03_25to29             0\n",
            "pct_ag04_30to34             0\n",
            "pct_ag05_35to39             0\n",
            "pct_ag06_40to44             0\n",
            "pct_ag07_45to49             0\n",
            "pct_ag08_50to54             0\n",
            "pct_ag09_55to59             0\n",
            "pct_ag10_60up               0\n",
            "cluster                     0\n",
            "agent_product_expertise     0\n",
            "dtype: int64\n"
          ]
        }
      ]
    },
    {
      "cell_type": "markdown",
      "source": [
        "Similar to the client dataset, there are NA values, but only in one column of the dataset - the `agent_age` column. It contains 12 NA values. We need to use the `.dropna(inplace = True)` method to remove the NA values."
      ],
      "metadata": {
        "id": "vEwtPGXSTCIJ"
      }
    },
    {
      "cell_type": "code",
      "source": [
        "# Remove rows with NA values for the df_agent dataset\n",
        "df_agent.dropna(inplace = True)"
      ],
      "metadata": {
        "id": "GYAk1uV1TTrq"
      },
      "execution_count": null,
      "outputs": []
    },
    {
      "cell_type": "markdown",
      "source": [
        "----------------------------------------------------------------------------------------------------------------------------------------------------------------"
      ],
      "metadata": {
        "id": "Q6AdmOxNTW6q"
      }
    },
    {
      "cell_type": "markdown",
      "source": [
        "#### Step 1.5: Checking and handling of duplicates in the datasets"
      ],
      "metadata": {
        "id": "YLqnLffVuOUy"
      }
    },
    {
      "cell_type": "markdown",
      "source": [
        "Next, we can check for any possible duplicates in the three datasets. For duplicates, we should remove them and keep only one to ensure that all records in the three datasets are distinct. To check for any duplication, we can use the `.duplicated().sum()` method in Python and ensure that the output is equal to 0.\n",
        "\n",
        "If the output is 0, it means that there are no duplicated rows but if the output value is non-zero, there are indeed duplicate rows in the datasets which needs to be dropped using the `.drop_duplicates()` method."
      ],
      "metadata": {
        "id": "X6Q5F3TcOAu-"
      }
    },
    {
      "cell_type": "markdown",
      "source": [
        "Take Note: For the agent dataset, we need to remove the `agent_product_expertise` column before checking for any duplications as the values of the `agent_product_expertise` column still exist as lists which cannot be checked for duplications. **(Gives a TypeError as a result)**\n",
        "We can drop a column in a dataset using the `.drop(column name, axis = 1)` method."
      ],
      "metadata": {
        "id": "HPJesC9PVHs6"
      }
    },
    {
      "cell_type": "code",
      "source": [
        "# Check for duplicate rows in each dataset\n",
        "policy_duplicates = df_policy.duplicated().sum()\n",
        "client_duplicates = df_client.duplicated().sum()\n",
        "\n",
        "# Remove the agent_product_expertise column for the time being (while checking\n",
        "# for duplication)\n",
        "new_df = df_agent.drop('agent_product_expertise', axis = 1)\n",
        "agent_duplicates = new_df.duplicated().sum()\n",
        "\n",
        "# Print the results\n",
        "print(f\"Policy Dataset: {policy_duplicates} duplicate rows found\")\n",
        "print(f\"Client Dataset: {client_duplicates} duplicate rows found\")\n",
        "print(f\"Agent Dataset: {agent_duplicates} duplicate rows found\")"
      ],
      "metadata": {
        "colab": {
          "base_uri": "https://localhost:8080/"
        },
        "id": "luCUyygXOba4",
        "outputId": "3c70b594-52cd-40f8-ccaf-2c95f617dfd7"
      },
      "execution_count": null,
      "outputs": [
        {
          "output_type": "stream",
          "name": "stdout",
          "text": [
            "Policy Dataset: 0 duplicate rows found\n",
            "Client Dataset: 0 duplicate rows found\n",
            "Agent Dataset: 0 duplicate rows found\n"
          ]
        }
      ]
    },
    {
      "cell_type": "markdown",
      "source": [
        "We observe that for all three datasets, 0 duplicate rows are found, which means that all the records of the three datasets are distinct. Hence, we can proceed to the next step without needing to use the `.drop_duplicates()` method."
      ],
      "metadata": {
        "id": "VjIfNV8iPAh-"
      }
    },
    {
      "cell_type": "markdown",
      "source": [
        "----------------------------------------------------------------------------------------------------------------------------------------------------------------"
      ],
      "metadata": {
        "id": "qbOCn0_HTgzG"
      }
    },
    {
      "cell_type": "markdown",
      "source": [
        "#### Step 1.6: Convert the columns to the right data type"
      ],
      "metadata": {
        "id": "xuKOgtUo-WzU"
      }
    },
    {
      "cell_type": "markdown",
      "source": [
        "There are several columns of the three dataset that require a change in data type, including the columns that are cleaned in Steps 1.2 and 1.3. The columns that need to have changes in data types are:\n",
        "\n",
        "1) Policy Dataset\n",
        "\n",
        "*   `chdrnum` -> object to int32\n",
        "*   `agntnum` -> object to int32\n",
        "*   `secuityno` -> object to int32\n",
        "*   `product` -> object to int32\n",
        "*   `product_grp` -> object to int32\n",
        "*   `cust_age_at_purchase_grp` -> object to int32\n",
        "*   `cust_tenure_at_purchase_grp` -> object to int32\n",
        "\n",
        "2) Client Dataset\n",
        "\n",
        "*   `secuityno` -> object to int32\n",
        "*   `household_size` -> object to int32\n",
        "*   `economic_status` -> object to int32\n",
        "*   `family_size` -> object to int32\n",
        "*   `household_size_grp` -> object to int32\n",
        "*   `family_size_grp` -> object to int32\n",
        "\n",
        "3) Agent Dataset\n",
        "\n",
        "*   `agntnum` -> object to int32\n",
        "\n",
        "\n",
        "\n",
        "\n",
        "\n",
        "\n"
      ],
      "metadata": {
        "id": "KbqueHxtJ04M"
      }
    },
    {
      "cell_type": "markdown",
      "source": [
        "We can use the `astype` method in Python to convert the data type of a column of a dataframe. The necessary columns that require data type conversions can be stored in the lists for each of the three datasets."
      ],
      "metadata": {
        "id": "NmXifp0YM8Rd"
      }
    },
    {
      "cell_type": "code",
      "source": [
        "# Define columns to convert for each dataset\n",
        "policy_columns = [\"chdrnum\", \"agntnum\", \"secuityno\", \"product\", \"product_grp\",\n",
        "                  \"cust_age_at_purchase_grp\", \"cust_tenure_at_purchase_grp\"]\n",
        "\n",
        "client_columns = [\"secuityno\", \"household_size\", \"economic_status\", \"family_size\",\n",
        "                  \"household_size_grp\", \"family_size_grp\"]\n",
        "\n",
        "agent_columns = [\"agntnum\"]\n",
        "\n",
        "# Convert columns to int32 if they exist in the DataFrame\n",
        "for col in policy_columns:\n",
        "    if col in df_policy.columns:\n",
        "        df_policy[col] = df_policy[col].astype(\"int32\")\n",
        "\n",
        "for col in client_columns:\n",
        "    if col in df_client.columns:\n",
        "        df_client[col] = df_client[col].astype(\"int32\")\n",
        "\n",
        "for col in agent_columns:\n",
        "    if col in df_agent.columns:\n",
        "        df_agent[col] = df_agent[col].astype(\"int32\")"
      ],
      "metadata": {
        "id": "sK_vVOlx-TlO"
      },
      "execution_count": null,
      "outputs": []
    },
    {
      "cell_type": "markdown",
      "source": [
        "----------------------------------------------------------------------------------------------------------------------------------------------------------------"
      ],
      "metadata": {
        "id": "LQO4wuBaO7Ml"
      }
    },
    {
      "cell_type": "markdown",
      "source": [
        "#### Step 1.7: Removing Unnecessary Columns"
      ],
      "metadata": {
        "id": "35AsbNAQC1wO"
      }
    },
    {
      "cell_type": "markdown",
      "source": [
        "There are several columns that we can remove which are not needed for analysis. Removing unnecessary columns is important as this will reduce the number of features that the ML model needs to consider subsequently, reducing the likelihood of overfitting as well as slow runtimes.  \n",
        "\n",
        "One column that should be removed is the `cltpcode` in the client dataset. The postal code has nothing to do with the conversion success rates of the agent, as well as recommeding the most suitable agent for the client. The feature is deemed to be irrelevant and should be removed.\n",
        "\n",
        "Another column that should be removed is the `flg_converted` column in the policy dataset. Although it seems to be useful at first glance, from the descriptive statistics, we observe that all rows of the policy dataset have a flg_converted value of 1 (min = 1, max = 1). This is not essential to categorise or differentiate outcomes when the ML model is being trained and tested, making this column unnecessary.\n",
        "\n",
        "Other repetitive columns include `family_size` and `household_size` columns in the client dataset which are repeated in the `family_size_grp` and `household_size_grp` columns respectively.\n",
        "\n",
        "We can remove these columns using the `.drop` function in `pandas`."
      ],
      "metadata": {
        "id": "iWpChXI4WzsK"
      }
    },
    {
      "cell_type": "code",
      "source": [
        "# Drop the cltpcode column from the client dataset\n",
        "df_client.drop(columns = ['cltpcode', 'family_size', 'household_size'], inplace = True)\n",
        "\n",
        "# Drop the flg_converted  column from the policy dataset\n",
        "df_policy.drop(columns = ['flg_converted'], inplace = True)"
      ],
      "metadata": {
        "id": "p7j4Z4EXYxrK"
      },
      "execution_count": null,
      "outputs": []
    },
    {
      "cell_type": "markdown",
      "source": [
        "----------------------------------------------------------------------------------------------------------------------------------------------------------------"
      ],
      "metadata": {
        "id": "U0HveGM8WuFN"
      }
    },
    {
      "cell_type": "markdown",
      "source": [
        "#### Step 1.8: Viewing The Cleaned Datasets"
      ],
      "metadata": {
        "id": "0IA5Dy-CXjd3"
      }
    },
    {
      "cell_type": "markdown",
      "source": [
        "After Steps 1.1 to 1.7, the three datasets are now cleaned. We can view the cleaned datasets to check if there is more cleaning required. We can use the `.head()` method to view the first few rows of the datasets."
      ],
      "metadata": {
        "id": "QH3eujPVX6KL"
      }
    },
    {
      "cell_type": "markdown",
      "source": [
        "###### Dataset 1: Policy Information Dataset"
      ],
      "metadata": {
        "id": "HwuOmdgUYOru"
      }
    },
    {
      "cell_type": "code",
      "source": [
        "# Viewing the policy information cleaned dataset\n",
        "df_policy.head()"
      ],
      "metadata": {
        "colab": {
          "base_uri": "https://localhost:8080/",
          "height": 312
        },
        "id": "OYmXjnYMXpBp",
        "outputId": "98d714e2-2fd6-4307-d234-5f2ccaec901b"
      },
      "execution_count": null,
      "outputs": [
        {
          "output_type": "execute_result",
          "data": {
            "text/plain": [
              "   chdrnum  agntnum  secuityno    occdate  annual_premium  product  flg_main  \\\n",
              "0      281       62       6957 2018-11-12             0.0        8         1   \n",
              "1      280       63       2161 2024-02-22             7.0        8         1   \n",
              "2     2577       63      16605 2024-08-28           423.0        6         1   \n",
              "3     2578       63      16605 2024-08-27           217.0        6         1   \n",
              "4      305       63       7917 2024-08-28           432.0        6         1   \n",
              "\n",
              "   flg_rider  flg_inforce  flg_lapsed  flg_cancel  flg_expire  product_grp  \\\n",
              "0          0            1           0           0           0            0   \n",
              "1          0            1           0           0           0            0   \n",
              "2          0            1           0           0           0            0   \n",
              "3          0            1           0           0           0            0   \n",
              "4          0            1           0           0           0            0   \n",
              "\n",
              "   cust_age_at_purchase_grp  cust_tenure_at_purchase_grp  \n",
              "0                         5                            0  \n",
              "1                         4                            2  \n",
              "2                         8                            3  \n",
              "3                         8                            3  \n",
              "4                         7                            2  "
            ],
            "text/html": [
              "\n",
              "  <div id=\"df-ef847091-ba2f-4774-ad53-7105b5b07c8a\" class=\"colab-df-container\">\n",
              "    <div>\n",
              "<style scoped>\n",
              "    .dataframe tbody tr th:only-of-type {\n",
              "        vertical-align: middle;\n",
              "    }\n",
              "\n",
              "    .dataframe tbody tr th {\n",
              "        vertical-align: top;\n",
              "    }\n",
              "\n",
              "    .dataframe thead th {\n",
              "        text-align: right;\n",
              "    }\n",
              "</style>\n",
              "<table border=\"1\" class=\"dataframe\">\n",
              "  <thead>\n",
              "    <tr style=\"text-align: right;\">\n",
              "      <th></th>\n",
              "      <th>chdrnum</th>\n",
              "      <th>agntnum</th>\n",
              "      <th>secuityno</th>\n",
              "      <th>occdate</th>\n",
              "      <th>annual_premium</th>\n",
              "      <th>product</th>\n",
              "      <th>flg_main</th>\n",
              "      <th>flg_rider</th>\n",
              "      <th>flg_inforce</th>\n",
              "      <th>flg_lapsed</th>\n",
              "      <th>flg_cancel</th>\n",
              "      <th>flg_expire</th>\n",
              "      <th>product_grp</th>\n",
              "      <th>cust_age_at_purchase_grp</th>\n",
              "      <th>cust_tenure_at_purchase_grp</th>\n",
              "    </tr>\n",
              "  </thead>\n",
              "  <tbody>\n",
              "    <tr>\n",
              "      <th>0</th>\n",
              "      <td>281</td>\n",
              "      <td>62</td>\n",
              "      <td>6957</td>\n",
              "      <td>2018-11-12</td>\n",
              "      <td>0.0</td>\n",
              "      <td>8</td>\n",
              "      <td>1</td>\n",
              "      <td>0</td>\n",
              "      <td>1</td>\n",
              "      <td>0</td>\n",
              "      <td>0</td>\n",
              "      <td>0</td>\n",
              "      <td>0</td>\n",
              "      <td>5</td>\n",
              "      <td>0</td>\n",
              "    </tr>\n",
              "    <tr>\n",
              "      <th>1</th>\n",
              "      <td>280</td>\n",
              "      <td>63</td>\n",
              "      <td>2161</td>\n",
              "      <td>2024-02-22</td>\n",
              "      <td>7.0</td>\n",
              "      <td>8</td>\n",
              "      <td>1</td>\n",
              "      <td>0</td>\n",
              "      <td>1</td>\n",
              "      <td>0</td>\n",
              "      <td>0</td>\n",
              "      <td>0</td>\n",
              "      <td>0</td>\n",
              "      <td>4</td>\n",
              "      <td>2</td>\n",
              "    </tr>\n",
              "    <tr>\n",
              "      <th>2</th>\n",
              "      <td>2577</td>\n",
              "      <td>63</td>\n",
              "      <td>16605</td>\n",
              "      <td>2024-08-28</td>\n",
              "      <td>423.0</td>\n",
              "      <td>6</td>\n",
              "      <td>1</td>\n",
              "      <td>0</td>\n",
              "      <td>1</td>\n",
              "      <td>0</td>\n",
              "      <td>0</td>\n",
              "      <td>0</td>\n",
              "      <td>0</td>\n",
              "      <td>8</td>\n",
              "      <td>3</td>\n",
              "    </tr>\n",
              "    <tr>\n",
              "      <th>3</th>\n",
              "      <td>2578</td>\n",
              "      <td>63</td>\n",
              "      <td>16605</td>\n",
              "      <td>2024-08-27</td>\n",
              "      <td>217.0</td>\n",
              "      <td>6</td>\n",
              "      <td>1</td>\n",
              "      <td>0</td>\n",
              "      <td>1</td>\n",
              "      <td>0</td>\n",
              "      <td>0</td>\n",
              "      <td>0</td>\n",
              "      <td>0</td>\n",
              "      <td>8</td>\n",
              "      <td>3</td>\n",
              "    </tr>\n",
              "    <tr>\n",
              "      <th>4</th>\n",
              "      <td>305</td>\n",
              "      <td>63</td>\n",
              "      <td>7917</td>\n",
              "      <td>2024-08-28</td>\n",
              "      <td>432.0</td>\n",
              "      <td>6</td>\n",
              "      <td>1</td>\n",
              "      <td>0</td>\n",
              "      <td>1</td>\n",
              "      <td>0</td>\n",
              "      <td>0</td>\n",
              "      <td>0</td>\n",
              "      <td>0</td>\n",
              "      <td>7</td>\n",
              "      <td>2</td>\n",
              "    </tr>\n",
              "  </tbody>\n",
              "</table>\n",
              "</div>\n",
              "    <div class=\"colab-df-buttons\">\n",
              "\n",
              "  <div class=\"colab-df-container\">\n",
              "    <button class=\"colab-df-convert\" onclick=\"convertToInteractive('df-ef847091-ba2f-4774-ad53-7105b5b07c8a')\"\n",
              "            title=\"Convert this dataframe to an interactive table.\"\n",
              "            style=\"display:none;\">\n",
              "\n",
              "  <svg xmlns=\"http://www.w3.org/2000/svg\" height=\"24px\" viewBox=\"0 -960 960 960\">\n",
              "    <path d=\"M120-120v-720h720v720H120Zm60-500h600v-160H180v160Zm220 220h160v-160H400v160Zm0 220h160v-160H400v160ZM180-400h160v-160H180v160Zm440 0h160v-160H620v160ZM180-180h160v-160H180v160Zm440 0h160v-160H620v160Z\"/>\n",
              "  </svg>\n",
              "    </button>\n",
              "\n",
              "  <style>\n",
              "    .colab-df-container {\n",
              "      display:flex;\n",
              "      gap: 12px;\n",
              "    }\n",
              "\n",
              "    .colab-df-convert {\n",
              "      background-color: #E8F0FE;\n",
              "      border: none;\n",
              "      border-radius: 50%;\n",
              "      cursor: pointer;\n",
              "      display: none;\n",
              "      fill: #1967D2;\n",
              "      height: 32px;\n",
              "      padding: 0 0 0 0;\n",
              "      width: 32px;\n",
              "    }\n",
              "\n",
              "    .colab-df-convert:hover {\n",
              "      background-color: #E2EBFA;\n",
              "      box-shadow: 0px 1px 2px rgba(60, 64, 67, 0.3), 0px 1px 3px 1px rgba(60, 64, 67, 0.15);\n",
              "      fill: #174EA6;\n",
              "    }\n",
              "\n",
              "    .colab-df-buttons div {\n",
              "      margin-bottom: 4px;\n",
              "    }\n",
              "\n",
              "    [theme=dark] .colab-df-convert {\n",
              "      background-color: #3B4455;\n",
              "      fill: #D2E3FC;\n",
              "    }\n",
              "\n",
              "    [theme=dark] .colab-df-convert:hover {\n",
              "      background-color: #434B5C;\n",
              "      box-shadow: 0px 1px 3px 1px rgba(0, 0, 0, 0.15);\n",
              "      filter: drop-shadow(0px 1px 2px rgba(0, 0, 0, 0.3));\n",
              "      fill: #FFFFFF;\n",
              "    }\n",
              "  </style>\n",
              "\n",
              "    <script>\n",
              "      const buttonEl =\n",
              "        document.querySelector('#df-ef847091-ba2f-4774-ad53-7105b5b07c8a button.colab-df-convert');\n",
              "      buttonEl.style.display =\n",
              "        google.colab.kernel.accessAllowed ? 'block' : 'none';\n",
              "\n",
              "      async function convertToInteractive(key) {\n",
              "        const element = document.querySelector('#df-ef847091-ba2f-4774-ad53-7105b5b07c8a');\n",
              "        const dataTable =\n",
              "          await google.colab.kernel.invokeFunction('convertToInteractive',\n",
              "                                                    [key], {});\n",
              "        if (!dataTable) return;\n",
              "\n",
              "        const docLinkHtml = 'Like what you see? Visit the ' +\n",
              "          '<a target=\"_blank\" href=https://colab.research.google.com/notebooks/data_table.ipynb>data table notebook</a>'\n",
              "          + ' to learn more about interactive tables.';\n",
              "        element.innerHTML = '';\n",
              "        dataTable['output_type'] = 'display_data';\n",
              "        await google.colab.output.renderOutput(dataTable, element);\n",
              "        const docLink = document.createElement('div');\n",
              "        docLink.innerHTML = docLinkHtml;\n",
              "        element.appendChild(docLink);\n",
              "      }\n",
              "    </script>\n",
              "  </div>\n",
              "\n",
              "\n",
              "<div id=\"df-3d81b2a8-93c1-4dbe-bd1d-be0329073283\">\n",
              "  <button class=\"colab-df-quickchart\" onclick=\"quickchart('df-3d81b2a8-93c1-4dbe-bd1d-be0329073283')\"\n",
              "            title=\"Suggest charts\"\n",
              "            style=\"display:none;\">\n",
              "\n",
              "<svg xmlns=\"http://www.w3.org/2000/svg\" height=\"24px\"viewBox=\"0 0 24 24\"\n",
              "     width=\"24px\">\n",
              "    <g>\n",
              "        <path d=\"M19 3H5c-1.1 0-2 .9-2 2v14c0 1.1.9 2 2 2h14c1.1 0 2-.9 2-2V5c0-1.1-.9-2-2-2zM9 17H7v-7h2v7zm4 0h-2V7h2v10zm4 0h-2v-4h2v4z\"/>\n",
              "    </g>\n",
              "</svg>\n",
              "  </button>\n",
              "\n",
              "<style>\n",
              "  .colab-df-quickchart {\n",
              "      --bg-color: #E8F0FE;\n",
              "      --fill-color: #1967D2;\n",
              "      --hover-bg-color: #E2EBFA;\n",
              "      --hover-fill-color: #174EA6;\n",
              "      --disabled-fill-color: #AAA;\n",
              "      --disabled-bg-color: #DDD;\n",
              "  }\n",
              "\n",
              "  [theme=dark] .colab-df-quickchart {\n",
              "      --bg-color: #3B4455;\n",
              "      --fill-color: #D2E3FC;\n",
              "      --hover-bg-color: #434B5C;\n",
              "      --hover-fill-color: #FFFFFF;\n",
              "      --disabled-bg-color: #3B4455;\n",
              "      --disabled-fill-color: #666;\n",
              "  }\n",
              "\n",
              "  .colab-df-quickchart {\n",
              "    background-color: var(--bg-color);\n",
              "    border: none;\n",
              "    border-radius: 50%;\n",
              "    cursor: pointer;\n",
              "    display: none;\n",
              "    fill: var(--fill-color);\n",
              "    height: 32px;\n",
              "    padding: 0;\n",
              "    width: 32px;\n",
              "  }\n",
              "\n",
              "  .colab-df-quickchart:hover {\n",
              "    background-color: var(--hover-bg-color);\n",
              "    box-shadow: 0 1px 2px rgba(60, 64, 67, 0.3), 0 1px 3px 1px rgba(60, 64, 67, 0.15);\n",
              "    fill: var(--button-hover-fill-color);\n",
              "  }\n",
              "\n",
              "  .colab-df-quickchart-complete:disabled,\n",
              "  .colab-df-quickchart-complete:disabled:hover {\n",
              "    background-color: var(--disabled-bg-color);\n",
              "    fill: var(--disabled-fill-color);\n",
              "    box-shadow: none;\n",
              "  }\n",
              "\n",
              "  .colab-df-spinner {\n",
              "    border: 2px solid var(--fill-color);\n",
              "    border-color: transparent;\n",
              "    border-bottom-color: var(--fill-color);\n",
              "    animation:\n",
              "      spin 1s steps(1) infinite;\n",
              "  }\n",
              "\n",
              "  @keyframes spin {\n",
              "    0% {\n",
              "      border-color: transparent;\n",
              "      border-bottom-color: var(--fill-color);\n",
              "      border-left-color: var(--fill-color);\n",
              "    }\n",
              "    20% {\n",
              "      border-color: transparent;\n",
              "      border-left-color: var(--fill-color);\n",
              "      border-top-color: var(--fill-color);\n",
              "    }\n",
              "    30% {\n",
              "      border-color: transparent;\n",
              "      border-left-color: var(--fill-color);\n",
              "      border-top-color: var(--fill-color);\n",
              "      border-right-color: var(--fill-color);\n",
              "    }\n",
              "    40% {\n",
              "      border-color: transparent;\n",
              "      border-right-color: var(--fill-color);\n",
              "      border-top-color: var(--fill-color);\n",
              "    }\n",
              "    60% {\n",
              "      border-color: transparent;\n",
              "      border-right-color: var(--fill-color);\n",
              "    }\n",
              "    80% {\n",
              "      border-color: transparent;\n",
              "      border-right-color: var(--fill-color);\n",
              "      border-bottom-color: var(--fill-color);\n",
              "    }\n",
              "    90% {\n",
              "      border-color: transparent;\n",
              "      border-bottom-color: var(--fill-color);\n",
              "    }\n",
              "  }\n",
              "</style>\n",
              "\n",
              "  <script>\n",
              "    async function quickchart(key) {\n",
              "      const quickchartButtonEl =\n",
              "        document.querySelector('#' + key + ' button');\n",
              "      quickchartButtonEl.disabled = true;  // To prevent multiple clicks.\n",
              "      quickchartButtonEl.classList.add('colab-df-spinner');\n",
              "      try {\n",
              "        const charts = await google.colab.kernel.invokeFunction(\n",
              "            'suggestCharts', [key], {});\n",
              "      } catch (error) {\n",
              "        console.error('Error during call to suggestCharts:', error);\n",
              "      }\n",
              "      quickchartButtonEl.classList.remove('colab-df-spinner');\n",
              "      quickchartButtonEl.classList.add('colab-df-quickchart-complete');\n",
              "    }\n",
              "    (() => {\n",
              "      let quickchartButtonEl =\n",
              "        document.querySelector('#df-3d81b2a8-93c1-4dbe-bd1d-be0329073283 button');\n",
              "      quickchartButtonEl.style.display =\n",
              "        google.colab.kernel.accessAllowed ? 'block' : 'none';\n",
              "    })();\n",
              "  </script>\n",
              "</div>\n",
              "\n",
              "    </div>\n",
              "  </div>\n"
            ],
            "application/vnd.google.colaboratory.intrinsic+json": {
              "type": "dataframe",
              "variable_name": "df_policy",
              "summary": "{\n  \"name\": \"df_policy\",\n  \"rows\": 29503,\n  \"fields\": [\n    {\n      \"column\": \"chdrnum\",\n      \"properties\": {\n        \"dtype\": \"int32\",\n        \"num_unique_values\": 29503,\n        \"samples\": [\n          4571,\n          7877,\n          20548\n        ],\n        \"semantic_type\": \"\",\n        \"description\": \"\"\n      }\n    },\n    {\n      \"column\": \"agntnum\",\n      \"properties\": {\n        \"dtype\": \"int32\",\n        \"num_unique_values\": 10065,\n        \"samples\": [\n          2418,\n          260,\n          9181\n        ],\n        \"semantic_type\": \"\",\n        \"description\": \"\"\n      }\n    },\n    {\n      \"column\": \"secuityno\",\n      \"properties\": {\n        \"dtype\": \"int32\",\n        \"num_unique_values\": 19911,\n        \"samples\": [\n          11243,\n          100,\n          15383\n        ],\n        \"semantic_type\": \"\",\n        \"description\": \"\"\n      }\n    },\n    {\n      \"column\": \"occdate\",\n      \"properties\": {\n        \"dtype\": \"date\",\n        \"min\": \"1993-10-01 00:00:00\",\n        \"max\": \"2024-11-28 00:00:00\",\n        \"num_unique_values\": 3259,\n        \"samples\": [\n          \"2020-04-13 00:00:00\",\n          \"2024-03-27 00:00:00\",\n          \"2021-06-29 00:00:00\"\n        ],\n        \"semantic_type\": \"\",\n        \"description\": \"\"\n      }\n    },\n    {\n      \"column\": \"annual_premium\",\n      \"properties\": {\n        \"dtype\": \"number\",\n        \"std\": 4422.632425926718,\n        \"min\": 0.0,\n        \"max\": 300039.6,\n        \"num_unique_values\": 2680,\n        \"samples\": [\n          1787.0,\n          3837.0,\n          618.0\n        ],\n        \"semantic_type\": \"\",\n        \"description\": \"\"\n      }\n    },\n    {\n      \"column\": \"product\",\n      \"properties\": {\n        \"dtype\": \"int32\",\n        \"num_unique_values\": 7,\n        \"samples\": [\n          8,\n          6,\n          7\n        ],\n        \"semantic_type\": \"\",\n        \"description\": \"\"\n      }\n    },\n    {\n      \"column\": \"flg_main\",\n      \"properties\": {\n        \"dtype\": \"number\",\n        \"std\": 0,\n        \"min\": 1,\n        \"max\": 1,\n        \"num_unique_values\": 1,\n        \"samples\": [\n          1\n        ],\n        \"semantic_type\": \"\",\n        \"description\": \"\"\n      }\n    },\n    {\n      \"column\": \"flg_rider\",\n      \"properties\": {\n        \"dtype\": \"number\",\n        \"std\": 0,\n        \"min\": 0,\n        \"max\": 0,\n        \"num_unique_values\": 1,\n        \"samples\": [\n          0\n        ],\n        \"semantic_type\": \"\",\n        \"description\": \"\"\n      }\n    },\n    {\n      \"column\": \"flg_inforce\",\n      \"properties\": {\n        \"dtype\": \"number\",\n        \"std\": 0,\n        \"min\": 0,\n        \"max\": 1,\n        \"num_unique_values\": 2,\n        \"samples\": [\n          0\n        ],\n        \"semantic_type\": \"\",\n        \"description\": \"\"\n      }\n    },\n    {\n      \"column\": \"flg_lapsed\",\n      \"properties\": {\n        \"dtype\": \"number\",\n        \"std\": 0,\n        \"min\": 0,\n        \"max\": 1,\n        \"num_unique_values\": 2,\n        \"samples\": [\n          1\n        ],\n        \"semantic_type\": \"\",\n        \"description\": \"\"\n      }\n    },\n    {\n      \"column\": \"flg_cancel\",\n      \"properties\": {\n        \"dtype\": \"number\",\n        \"std\": 0,\n        \"min\": 0,\n        \"max\": 0,\n        \"num_unique_values\": 1,\n        \"samples\": [\n          0\n        ],\n        \"semantic_type\": \"\",\n        \"description\": \"\"\n      }\n    },\n    {\n      \"column\": \"flg_expire\",\n      \"properties\": {\n        \"dtype\": \"number\",\n        \"std\": 0,\n        \"min\": 0,\n        \"max\": 1,\n        \"num_unique_values\": 2,\n        \"samples\": [\n          1\n        ],\n        \"semantic_type\": \"\",\n        \"description\": \"\"\n      }\n    },\n    {\n      \"column\": \"product_grp\",\n      \"properties\": {\n        \"dtype\": \"int32\",\n        \"num_unique_values\": 3,\n        \"samples\": [\n          0\n        ],\n        \"semantic_type\": \"\",\n        \"description\": \"\"\n      }\n    },\n    {\n      \"column\": \"cust_age_at_purchase_grp\",\n      \"properties\": {\n        \"dtype\": \"int32\",\n        \"num_unique_values\": 11,\n        \"samples\": [\n          6\n        ],\n        \"semantic_type\": \"\",\n        \"description\": \"\"\n      }\n    },\n    {\n      \"column\": \"cust_tenure_at_purchase_grp\",\n      \"properties\": {\n        \"dtype\": \"int32\",\n        \"num_unique_values\": 4,\n        \"samples\": [\n          2\n        ],\n        \"semantic_type\": \"\",\n        \"description\": \"\"\n      }\n    }\n  ]\n}"
            }
          },
          "metadata": {},
          "execution_count": 87
        }
      ]
    },
    {
      "cell_type": "markdown",
      "source": [
        "###### Dataset 2: Client Information Dataset"
      ],
      "metadata": {
        "id": "I7ezPX4bYdFV"
      }
    },
    {
      "cell_type": "code",
      "source": [
        "# Viewing the client information cleaned dataset\n",
        "df_client.head()"
      ],
      "metadata": {
        "colab": {
          "base_uri": "https://localhost:8080/",
          "height": 206
        },
        "id": "tqzbgjr2XsRe",
        "outputId": "425a51aa-68d3-43cf-f30b-fee372d5f115"
      },
      "execution_count": null,
      "outputs": [
        {
          "output_type": "execute_result",
          "data": {
            "text/plain": [
              "   secuityno cltsex     cltdob marryd race_desc_map  economic_status  \\\n",
              "0      14264      F 1993-02-17      M       Chinese               76   \n",
              "1       7188      F 1977-06-15      M       Chinese               96   \n",
              "2      13608      F 1998-02-12      S       Chinese               93   \n",
              "3       5087      F 1972-10-25      M       Chinese               51   \n",
              "4      18531      M 1984-12-27      M        Others               18   \n",
              "\n",
              "   household_size_grp  family_size_grp  \n",
              "0                   1                3  \n",
              "1                   2                5  \n",
              "2                   1                2  \n",
              "3                   3                2  \n",
              "4                   3                4  "
            ],
            "text/html": [
              "\n",
              "  <div id=\"df-2089816c-ef98-4675-b04d-0d93ce48ed53\" class=\"colab-df-container\">\n",
              "    <div>\n",
              "<style scoped>\n",
              "    .dataframe tbody tr th:only-of-type {\n",
              "        vertical-align: middle;\n",
              "    }\n",
              "\n",
              "    .dataframe tbody tr th {\n",
              "        vertical-align: top;\n",
              "    }\n",
              "\n",
              "    .dataframe thead th {\n",
              "        text-align: right;\n",
              "    }\n",
              "</style>\n",
              "<table border=\"1\" class=\"dataframe\">\n",
              "  <thead>\n",
              "    <tr style=\"text-align: right;\">\n",
              "      <th></th>\n",
              "      <th>secuityno</th>\n",
              "      <th>cltsex</th>\n",
              "      <th>cltdob</th>\n",
              "      <th>marryd</th>\n",
              "      <th>race_desc_map</th>\n",
              "      <th>economic_status</th>\n",
              "      <th>household_size_grp</th>\n",
              "      <th>family_size_grp</th>\n",
              "    </tr>\n",
              "  </thead>\n",
              "  <tbody>\n",
              "    <tr>\n",
              "      <th>0</th>\n",
              "      <td>14264</td>\n",
              "      <td>F</td>\n",
              "      <td>1993-02-17</td>\n",
              "      <td>M</td>\n",
              "      <td>Chinese</td>\n",
              "      <td>76</td>\n",
              "      <td>1</td>\n",
              "      <td>3</td>\n",
              "    </tr>\n",
              "    <tr>\n",
              "      <th>1</th>\n",
              "      <td>7188</td>\n",
              "      <td>F</td>\n",
              "      <td>1977-06-15</td>\n",
              "      <td>M</td>\n",
              "      <td>Chinese</td>\n",
              "      <td>96</td>\n",
              "      <td>2</td>\n",
              "      <td>5</td>\n",
              "    </tr>\n",
              "    <tr>\n",
              "      <th>2</th>\n",
              "      <td>13608</td>\n",
              "      <td>F</td>\n",
              "      <td>1998-02-12</td>\n",
              "      <td>S</td>\n",
              "      <td>Chinese</td>\n",
              "      <td>93</td>\n",
              "      <td>1</td>\n",
              "      <td>2</td>\n",
              "    </tr>\n",
              "    <tr>\n",
              "      <th>3</th>\n",
              "      <td>5087</td>\n",
              "      <td>F</td>\n",
              "      <td>1972-10-25</td>\n",
              "      <td>M</td>\n",
              "      <td>Chinese</td>\n",
              "      <td>51</td>\n",
              "      <td>3</td>\n",
              "      <td>2</td>\n",
              "    </tr>\n",
              "    <tr>\n",
              "      <th>4</th>\n",
              "      <td>18531</td>\n",
              "      <td>M</td>\n",
              "      <td>1984-12-27</td>\n",
              "      <td>M</td>\n",
              "      <td>Others</td>\n",
              "      <td>18</td>\n",
              "      <td>3</td>\n",
              "      <td>4</td>\n",
              "    </tr>\n",
              "  </tbody>\n",
              "</table>\n",
              "</div>\n",
              "    <div class=\"colab-df-buttons\">\n",
              "\n",
              "  <div class=\"colab-df-container\">\n",
              "    <button class=\"colab-df-convert\" onclick=\"convertToInteractive('df-2089816c-ef98-4675-b04d-0d93ce48ed53')\"\n",
              "            title=\"Convert this dataframe to an interactive table.\"\n",
              "            style=\"display:none;\">\n",
              "\n",
              "  <svg xmlns=\"http://www.w3.org/2000/svg\" height=\"24px\" viewBox=\"0 -960 960 960\">\n",
              "    <path d=\"M120-120v-720h720v720H120Zm60-500h600v-160H180v160Zm220 220h160v-160H400v160Zm0 220h160v-160H400v160ZM180-400h160v-160H180v160Zm440 0h160v-160H620v160ZM180-180h160v-160H180v160Zm440 0h160v-160H620v160Z\"/>\n",
              "  </svg>\n",
              "    </button>\n",
              "\n",
              "  <style>\n",
              "    .colab-df-container {\n",
              "      display:flex;\n",
              "      gap: 12px;\n",
              "    }\n",
              "\n",
              "    .colab-df-convert {\n",
              "      background-color: #E8F0FE;\n",
              "      border: none;\n",
              "      border-radius: 50%;\n",
              "      cursor: pointer;\n",
              "      display: none;\n",
              "      fill: #1967D2;\n",
              "      height: 32px;\n",
              "      padding: 0 0 0 0;\n",
              "      width: 32px;\n",
              "    }\n",
              "\n",
              "    .colab-df-convert:hover {\n",
              "      background-color: #E2EBFA;\n",
              "      box-shadow: 0px 1px 2px rgba(60, 64, 67, 0.3), 0px 1px 3px 1px rgba(60, 64, 67, 0.15);\n",
              "      fill: #174EA6;\n",
              "    }\n",
              "\n",
              "    .colab-df-buttons div {\n",
              "      margin-bottom: 4px;\n",
              "    }\n",
              "\n",
              "    [theme=dark] .colab-df-convert {\n",
              "      background-color: #3B4455;\n",
              "      fill: #D2E3FC;\n",
              "    }\n",
              "\n",
              "    [theme=dark] .colab-df-convert:hover {\n",
              "      background-color: #434B5C;\n",
              "      box-shadow: 0px 1px 3px 1px rgba(0, 0, 0, 0.15);\n",
              "      filter: drop-shadow(0px 1px 2px rgba(0, 0, 0, 0.3));\n",
              "      fill: #FFFFFF;\n",
              "    }\n",
              "  </style>\n",
              "\n",
              "    <script>\n",
              "      const buttonEl =\n",
              "        document.querySelector('#df-2089816c-ef98-4675-b04d-0d93ce48ed53 button.colab-df-convert');\n",
              "      buttonEl.style.display =\n",
              "        google.colab.kernel.accessAllowed ? 'block' : 'none';\n",
              "\n",
              "      async function convertToInteractive(key) {\n",
              "        const element = document.querySelector('#df-2089816c-ef98-4675-b04d-0d93ce48ed53');\n",
              "        const dataTable =\n",
              "          await google.colab.kernel.invokeFunction('convertToInteractive',\n",
              "                                                    [key], {});\n",
              "        if (!dataTable) return;\n",
              "\n",
              "        const docLinkHtml = 'Like what you see? Visit the ' +\n",
              "          '<a target=\"_blank\" href=https://colab.research.google.com/notebooks/data_table.ipynb>data table notebook</a>'\n",
              "          + ' to learn more about interactive tables.';\n",
              "        element.innerHTML = '';\n",
              "        dataTable['output_type'] = 'display_data';\n",
              "        await google.colab.output.renderOutput(dataTable, element);\n",
              "        const docLink = document.createElement('div');\n",
              "        docLink.innerHTML = docLinkHtml;\n",
              "        element.appendChild(docLink);\n",
              "      }\n",
              "    </script>\n",
              "  </div>\n",
              "\n",
              "\n",
              "<div id=\"df-e7cfd7b5-5723-4425-8087-2e985f0856e0\">\n",
              "  <button class=\"colab-df-quickchart\" onclick=\"quickchart('df-e7cfd7b5-5723-4425-8087-2e985f0856e0')\"\n",
              "            title=\"Suggest charts\"\n",
              "            style=\"display:none;\">\n",
              "\n",
              "<svg xmlns=\"http://www.w3.org/2000/svg\" height=\"24px\"viewBox=\"0 0 24 24\"\n",
              "     width=\"24px\">\n",
              "    <g>\n",
              "        <path d=\"M19 3H5c-1.1 0-2 .9-2 2v14c0 1.1.9 2 2 2h14c1.1 0 2-.9 2-2V5c0-1.1-.9-2-2-2zM9 17H7v-7h2v7zm4 0h-2V7h2v10zm4 0h-2v-4h2v4z\"/>\n",
              "    </g>\n",
              "</svg>\n",
              "  </button>\n",
              "\n",
              "<style>\n",
              "  .colab-df-quickchart {\n",
              "      --bg-color: #E8F0FE;\n",
              "      --fill-color: #1967D2;\n",
              "      --hover-bg-color: #E2EBFA;\n",
              "      --hover-fill-color: #174EA6;\n",
              "      --disabled-fill-color: #AAA;\n",
              "      --disabled-bg-color: #DDD;\n",
              "  }\n",
              "\n",
              "  [theme=dark] .colab-df-quickchart {\n",
              "      --bg-color: #3B4455;\n",
              "      --fill-color: #D2E3FC;\n",
              "      --hover-bg-color: #434B5C;\n",
              "      --hover-fill-color: #FFFFFF;\n",
              "      --disabled-bg-color: #3B4455;\n",
              "      --disabled-fill-color: #666;\n",
              "  }\n",
              "\n",
              "  .colab-df-quickchart {\n",
              "    background-color: var(--bg-color);\n",
              "    border: none;\n",
              "    border-radius: 50%;\n",
              "    cursor: pointer;\n",
              "    display: none;\n",
              "    fill: var(--fill-color);\n",
              "    height: 32px;\n",
              "    padding: 0;\n",
              "    width: 32px;\n",
              "  }\n",
              "\n",
              "  .colab-df-quickchart:hover {\n",
              "    background-color: var(--hover-bg-color);\n",
              "    box-shadow: 0 1px 2px rgba(60, 64, 67, 0.3), 0 1px 3px 1px rgba(60, 64, 67, 0.15);\n",
              "    fill: var(--button-hover-fill-color);\n",
              "  }\n",
              "\n",
              "  .colab-df-quickchart-complete:disabled,\n",
              "  .colab-df-quickchart-complete:disabled:hover {\n",
              "    background-color: var(--disabled-bg-color);\n",
              "    fill: var(--disabled-fill-color);\n",
              "    box-shadow: none;\n",
              "  }\n",
              "\n",
              "  .colab-df-spinner {\n",
              "    border: 2px solid var(--fill-color);\n",
              "    border-color: transparent;\n",
              "    border-bottom-color: var(--fill-color);\n",
              "    animation:\n",
              "      spin 1s steps(1) infinite;\n",
              "  }\n",
              "\n",
              "  @keyframes spin {\n",
              "    0% {\n",
              "      border-color: transparent;\n",
              "      border-bottom-color: var(--fill-color);\n",
              "      border-left-color: var(--fill-color);\n",
              "    }\n",
              "    20% {\n",
              "      border-color: transparent;\n",
              "      border-left-color: var(--fill-color);\n",
              "      border-top-color: var(--fill-color);\n",
              "    }\n",
              "    30% {\n",
              "      border-color: transparent;\n",
              "      border-left-color: var(--fill-color);\n",
              "      border-top-color: var(--fill-color);\n",
              "      border-right-color: var(--fill-color);\n",
              "    }\n",
              "    40% {\n",
              "      border-color: transparent;\n",
              "      border-right-color: var(--fill-color);\n",
              "      border-top-color: var(--fill-color);\n",
              "    }\n",
              "    60% {\n",
              "      border-color: transparent;\n",
              "      border-right-color: var(--fill-color);\n",
              "    }\n",
              "    80% {\n",
              "      border-color: transparent;\n",
              "      border-right-color: var(--fill-color);\n",
              "      border-bottom-color: var(--fill-color);\n",
              "    }\n",
              "    90% {\n",
              "      border-color: transparent;\n",
              "      border-bottom-color: var(--fill-color);\n",
              "    }\n",
              "  }\n",
              "</style>\n",
              "\n",
              "  <script>\n",
              "    async function quickchart(key) {\n",
              "      const quickchartButtonEl =\n",
              "        document.querySelector('#' + key + ' button');\n",
              "      quickchartButtonEl.disabled = true;  // To prevent multiple clicks.\n",
              "      quickchartButtonEl.classList.add('colab-df-spinner');\n",
              "      try {\n",
              "        const charts = await google.colab.kernel.invokeFunction(\n",
              "            'suggestCharts', [key], {});\n",
              "      } catch (error) {\n",
              "        console.error('Error during call to suggestCharts:', error);\n",
              "      }\n",
              "      quickchartButtonEl.classList.remove('colab-df-spinner');\n",
              "      quickchartButtonEl.classList.add('colab-df-quickchart-complete');\n",
              "    }\n",
              "    (() => {\n",
              "      let quickchartButtonEl =\n",
              "        document.querySelector('#df-e7cfd7b5-5723-4425-8087-2e985f0856e0 button');\n",
              "      quickchartButtonEl.style.display =\n",
              "        google.colab.kernel.accessAllowed ? 'block' : 'none';\n",
              "    })();\n",
              "  </script>\n",
              "</div>\n",
              "\n",
              "    </div>\n",
              "  </div>\n"
            ],
            "application/vnd.google.colaboratory.intrinsic+json": {
              "type": "dataframe",
              "variable_name": "df_client",
              "summary": "{\n  \"name\": \"df_client\",\n  \"rows\": 19647,\n  \"fields\": [\n    {\n      \"column\": \"secuityno\",\n      \"properties\": {\n        \"dtype\": \"int32\",\n        \"num_unique_values\": 19647,\n        \"samples\": [\n          19794,\n          12844,\n          12405\n        ],\n        \"semantic_type\": \"\",\n        \"description\": \"\"\n      }\n    },\n    {\n      \"column\": \"cltsex\",\n      \"properties\": {\n        \"dtype\": \"category\",\n        \"num_unique_values\": 2,\n        \"samples\": [\n          \"M\",\n          \"F\"\n        ],\n        \"semantic_type\": \"\",\n        \"description\": \"\"\n      }\n    },\n    {\n      \"column\": \"cltdob\",\n      \"properties\": {\n        \"dtype\": \"date\",\n        \"min\": \"1940-11-21 00:00:00\",\n        \"max\": \"2006-08-26 00:00:00\",\n        \"num_unique_values\": 10828,\n        \"samples\": [\n          \"1977-02-08 00:00:00\",\n          \"1980-06-08 00:00:00\"\n        ],\n        \"semantic_type\": \"\",\n        \"description\": \"\"\n      }\n    },\n    {\n      \"column\": \"marryd\",\n      \"properties\": {\n        \"dtype\": \"category\",\n        \"num_unique_values\": 6,\n        \"samples\": [\n          \"M\",\n          \"S\"\n        ],\n        \"semantic_type\": \"\",\n        \"description\": \"\"\n      }\n    },\n    {\n      \"column\": \"race_desc_map\",\n      \"properties\": {\n        \"dtype\": \"category\",\n        \"num_unique_values\": 4,\n        \"samples\": [\n          \"Others\",\n          \"Malay\"\n        ],\n        \"semantic_type\": \"\",\n        \"description\": \"\"\n      }\n    },\n    {\n      \"column\": \"economic_status\",\n      \"properties\": {\n        \"dtype\": \"int32\",\n        \"num_unique_values\": 100,\n        \"samples\": [\n          6,\n          67\n        ],\n        \"semantic_type\": \"\",\n        \"description\": \"\"\n      }\n    },\n    {\n      \"column\": \"household_size_grp\",\n      \"properties\": {\n        \"dtype\": \"int32\",\n        \"num_unique_values\": 6,\n        \"samples\": [\n          1,\n          2\n        ],\n        \"semantic_type\": \"\",\n        \"description\": \"\"\n      }\n    },\n    {\n      \"column\": \"family_size_grp\",\n      \"properties\": {\n        \"dtype\": \"int32\",\n        \"num_unique_values\": 6,\n        \"samples\": [\n          3,\n          5\n        ],\n        \"semantic_type\": \"\",\n        \"description\": \"\"\n      }\n    }\n  ]\n}"
            }
          },
          "metadata": {},
          "execution_count": 88
        }
      ]
    },
    {
      "cell_type": "markdown",
      "source": [
        "###### Dataset 3: Agent Information Dataset"
      ],
      "metadata": {
        "id": "PyBqTlCoYkNA"
      }
    },
    {
      "cell_type": "code",
      "source": [
        "# Viewing the agent information cleaned dataset\n",
        "df_agent.head()"
      ],
      "metadata": {
        "colab": {
          "base_uri": "https://localhost:8080/",
          "height": 272
        },
        "id": "eIk0p8W3XuBw",
        "outputId": "9e735d91-6953-444f-a7d7-ce2f7b076384"
      },
      "execution_count": null,
      "outputs": [
        {
          "output_type": "execute_result",
          "data": {
            "text/plain": [
              "   agntnum  agent_age agent_gender agent_marital  agent_tenure  cnt_converted  \\\n",
              "0     9513       32.0            M             M          15.0           21.0   \n",
              "1     4310       40.0            M             M          18.0          396.0   \n",
              "2     4302       39.0            F             M          40.0          853.0   \n",
              "3     4996       57.0            F             D          41.0          554.0   \n",
              "4     3457       38.0            M             M          62.0         1525.0   \n",
              "\n",
              "   annual_premium_cnvrt  pct_lapsed  pct_cancel  pct_inforce  ...  \\\n",
              "0          1.004900e+04         1.0    0.814954     0.000000  ...   \n",
              "1          1.971080e+05         0.6    0.083937     0.429293  ...   \n",
              "2          5.106351e+05         0.3    0.017406     0.711606  ...   \n",
              "3          3.514724e+05         0.3    0.003623     0.584838  ...   \n",
              "4          1.215380e+06         0.3    0.017523     0.640656  ...   \n",
              "\n",
              "   pct_ag03_25to29  pct_ag04_30to34  pct_ag05_35to39  pct_ag06_40to44  \\\n",
              "0         0.142857         0.000000         0.000000         0.000000   \n",
              "1         0.131313         0.388889         0.116162         0.184343   \n",
              "2         0.137163         0.144197         0.177022         0.311841   \n",
              "3         0.009025         0.128159         0.108303         0.234657   \n",
              "4         0.069508         0.201311         0.215082         0.214426   \n",
              "\n",
              "   pct_ag07_45to49  pct_ag08_50to54  pct_ag09_55to59  pct_ag10_60up  cluster  \\\n",
              "0         0.000000         0.238095         0.142857       0.238095        3   \n",
              "1         0.083333         0.020202         0.040404       0.010101        6   \n",
              "2         0.106682         0.036342         0.035170       0.010551        6   \n",
              "3         0.162455         0.135379         0.160650       0.037906        6   \n",
              "4         0.108197         0.084590         0.043279       0.015082        6   \n",
              "\n",
              "                    agent_product_expertise  \n",
              "0                          [prod_2, prod_6]  \n",
              "1                                  [prod_6]  \n",
              "2                                  [prod_4]  \n",
              "3  [prod_7, prod_9, prod_6, prod_0, prod_2]  \n",
              "4                          [prod_6, prod_8]  \n",
              "\n",
              "[5 rows x 35 columns]"
            ],
            "text/html": [
              "\n",
              "  <div id=\"df-e9b06bcd-e0f8-4f0d-bd11-6d903f67d197\" class=\"colab-df-container\">\n",
              "    <div>\n",
              "<style scoped>\n",
              "    .dataframe tbody tr th:only-of-type {\n",
              "        vertical-align: middle;\n",
              "    }\n",
              "\n",
              "    .dataframe tbody tr th {\n",
              "        vertical-align: top;\n",
              "    }\n",
              "\n",
              "    .dataframe thead th {\n",
              "        text-align: right;\n",
              "    }\n",
              "</style>\n",
              "<table border=\"1\" class=\"dataframe\">\n",
              "  <thead>\n",
              "    <tr style=\"text-align: right;\">\n",
              "      <th></th>\n",
              "      <th>agntnum</th>\n",
              "      <th>agent_age</th>\n",
              "      <th>agent_gender</th>\n",
              "      <th>agent_marital</th>\n",
              "      <th>agent_tenure</th>\n",
              "      <th>cnt_converted</th>\n",
              "      <th>annual_premium_cnvrt</th>\n",
              "      <th>pct_lapsed</th>\n",
              "      <th>pct_cancel</th>\n",
              "      <th>pct_inforce</th>\n",
              "      <th>...</th>\n",
              "      <th>pct_ag03_25to29</th>\n",
              "      <th>pct_ag04_30to34</th>\n",
              "      <th>pct_ag05_35to39</th>\n",
              "      <th>pct_ag06_40to44</th>\n",
              "      <th>pct_ag07_45to49</th>\n",
              "      <th>pct_ag08_50to54</th>\n",
              "      <th>pct_ag09_55to59</th>\n",
              "      <th>pct_ag10_60up</th>\n",
              "      <th>cluster</th>\n",
              "      <th>agent_product_expertise</th>\n",
              "    </tr>\n",
              "  </thead>\n",
              "  <tbody>\n",
              "    <tr>\n",
              "      <th>0</th>\n",
              "      <td>9513</td>\n",
              "      <td>32.0</td>\n",
              "      <td>M</td>\n",
              "      <td>M</td>\n",
              "      <td>15.0</td>\n",
              "      <td>21.0</td>\n",
              "      <td>1.004900e+04</td>\n",
              "      <td>1.0</td>\n",
              "      <td>0.814954</td>\n",
              "      <td>0.000000</td>\n",
              "      <td>...</td>\n",
              "      <td>0.142857</td>\n",
              "      <td>0.000000</td>\n",
              "      <td>0.000000</td>\n",
              "      <td>0.000000</td>\n",
              "      <td>0.000000</td>\n",
              "      <td>0.238095</td>\n",
              "      <td>0.142857</td>\n",
              "      <td>0.238095</td>\n",
              "      <td>3</td>\n",
              "      <td>[prod_2, prod_6]</td>\n",
              "    </tr>\n",
              "    <tr>\n",
              "      <th>1</th>\n",
              "      <td>4310</td>\n",
              "      <td>40.0</td>\n",
              "      <td>M</td>\n",
              "      <td>M</td>\n",
              "      <td>18.0</td>\n",
              "      <td>396.0</td>\n",
              "      <td>1.971080e+05</td>\n",
              "      <td>0.6</td>\n",
              "      <td>0.083937</td>\n",
              "      <td>0.429293</td>\n",
              "      <td>...</td>\n",
              "      <td>0.131313</td>\n",
              "      <td>0.388889</td>\n",
              "      <td>0.116162</td>\n",
              "      <td>0.184343</td>\n",
              "      <td>0.083333</td>\n",
              "      <td>0.020202</td>\n",
              "      <td>0.040404</td>\n",
              "      <td>0.010101</td>\n",
              "      <td>6</td>\n",
              "      <td>[prod_6]</td>\n",
              "    </tr>\n",
              "    <tr>\n",
              "      <th>2</th>\n",
              "      <td>4302</td>\n",
              "      <td>39.0</td>\n",
              "      <td>F</td>\n",
              "      <td>M</td>\n",
              "      <td>40.0</td>\n",
              "      <td>853.0</td>\n",
              "      <td>5.106351e+05</td>\n",
              "      <td>0.3</td>\n",
              "      <td>0.017406</td>\n",
              "      <td>0.711606</td>\n",
              "      <td>...</td>\n",
              "      <td>0.137163</td>\n",
              "      <td>0.144197</td>\n",
              "      <td>0.177022</td>\n",
              "      <td>0.311841</td>\n",
              "      <td>0.106682</td>\n",
              "      <td>0.036342</td>\n",
              "      <td>0.035170</td>\n",
              "      <td>0.010551</td>\n",
              "      <td>6</td>\n",
              "      <td>[prod_4]</td>\n",
              "    </tr>\n",
              "    <tr>\n",
              "      <th>3</th>\n",
              "      <td>4996</td>\n",
              "      <td>57.0</td>\n",
              "      <td>F</td>\n",
              "      <td>D</td>\n",
              "      <td>41.0</td>\n",
              "      <td>554.0</td>\n",
              "      <td>3.514724e+05</td>\n",
              "      <td>0.3</td>\n",
              "      <td>0.003623</td>\n",
              "      <td>0.584838</td>\n",
              "      <td>...</td>\n",
              "      <td>0.009025</td>\n",
              "      <td>0.128159</td>\n",
              "      <td>0.108303</td>\n",
              "      <td>0.234657</td>\n",
              "      <td>0.162455</td>\n",
              "      <td>0.135379</td>\n",
              "      <td>0.160650</td>\n",
              "      <td>0.037906</td>\n",
              "      <td>6</td>\n",
              "      <td>[prod_7, prod_9, prod_6, prod_0, prod_2]</td>\n",
              "    </tr>\n",
              "    <tr>\n",
              "      <th>4</th>\n",
              "      <td>3457</td>\n",
              "      <td>38.0</td>\n",
              "      <td>M</td>\n",
              "      <td>M</td>\n",
              "      <td>62.0</td>\n",
              "      <td>1525.0</td>\n",
              "      <td>1.215380e+06</td>\n",
              "      <td>0.3</td>\n",
              "      <td>0.017523</td>\n",
              "      <td>0.640656</td>\n",
              "      <td>...</td>\n",
              "      <td>0.069508</td>\n",
              "      <td>0.201311</td>\n",
              "      <td>0.215082</td>\n",
              "      <td>0.214426</td>\n",
              "      <td>0.108197</td>\n",
              "      <td>0.084590</td>\n",
              "      <td>0.043279</td>\n",
              "      <td>0.015082</td>\n",
              "      <td>6</td>\n",
              "      <td>[prod_6, prod_8]</td>\n",
              "    </tr>\n",
              "  </tbody>\n",
              "</table>\n",
              "<p>5 rows × 35 columns</p>\n",
              "</div>\n",
              "    <div class=\"colab-df-buttons\">\n",
              "\n",
              "  <div class=\"colab-df-container\">\n",
              "    <button class=\"colab-df-convert\" onclick=\"convertToInteractive('df-e9b06bcd-e0f8-4f0d-bd11-6d903f67d197')\"\n",
              "            title=\"Convert this dataframe to an interactive table.\"\n",
              "            style=\"display:none;\">\n",
              "\n",
              "  <svg xmlns=\"http://www.w3.org/2000/svg\" height=\"24px\" viewBox=\"0 -960 960 960\">\n",
              "    <path d=\"M120-120v-720h720v720H120Zm60-500h600v-160H180v160Zm220 220h160v-160H400v160Zm0 220h160v-160H400v160ZM180-400h160v-160H180v160Zm440 0h160v-160H620v160ZM180-180h160v-160H180v160Zm440 0h160v-160H620v160Z\"/>\n",
              "  </svg>\n",
              "    </button>\n",
              "\n",
              "  <style>\n",
              "    .colab-df-container {\n",
              "      display:flex;\n",
              "      gap: 12px;\n",
              "    }\n",
              "\n",
              "    .colab-df-convert {\n",
              "      background-color: #E8F0FE;\n",
              "      border: none;\n",
              "      border-radius: 50%;\n",
              "      cursor: pointer;\n",
              "      display: none;\n",
              "      fill: #1967D2;\n",
              "      height: 32px;\n",
              "      padding: 0 0 0 0;\n",
              "      width: 32px;\n",
              "    }\n",
              "\n",
              "    .colab-df-convert:hover {\n",
              "      background-color: #E2EBFA;\n",
              "      box-shadow: 0px 1px 2px rgba(60, 64, 67, 0.3), 0px 1px 3px 1px rgba(60, 64, 67, 0.15);\n",
              "      fill: #174EA6;\n",
              "    }\n",
              "\n",
              "    .colab-df-buttons div {\n",
              "      margin-bottom: 4px;\n",
              "    }\n",
              "\n",
              "    [theme=dark] .colab-df-convert {\n",
              "      background-color: #3B4455;\n",
              "      fill: #D2E3FC;\n",
              "    }\n",
              "\n",
              "    [theme=dark] .colab-df-convert:hover {\n",
              "      background-color: #434B5C;\n",
              "      box-shadow: 0px 1px 3px 1px rgba(0, 0, 0, 0.15);\n",
              "      filter: drop-shadow(0px 1px 2px rgba(0, 0, 0, 0.3));\n",
              "      fill: #FFFFFF;\n",
              "    }\n",
              "  </style>\n",
              "\n",
              "    <script>\n",
              "      const buttonEl =\n",
              "        document.querySelector('#df-e9b06bcd-e0f8-4f0d-bd11-6d903f67d197 button.colab-df-convert');\n",
              "      buttonEl.style.display =\n",
              "        google.colab.kernel.accessAllowed ? 'block' : 'none';\n",
              "\n",
              "      async function convertToInteractive(key) {\n",
              "        const element = document.querySelector('#df-e9b06bcd-e0f8-4f0d-bd11-6d903f67d197');\n",
              "        const dataTable =\n",
              "          await google.colab.kernel.invokeFunction('convertToInteractive',\n",
              "                                                    [key], {});\n",
              "        if (!dataTable) return;\n",
              "\n",
              "        const docLinkHtml = 'Like what you see? Visit the ' +\n",
              "          '<a target=\"_blank\" href=https://colab.research.google.com/notebooks/data_table.ipynb>data table notebook</a>'\n",
              "          + ' to learn more about interactive tables.';\n",
              "        element.innerHTML = '';\n",
              "        dataTable['output_type'] = 'display_data';\n",
              "        await google.colab.output.renderOutput(dataTable, element);\n",
              "        const docLink = document.createElement('div');\n",
              "        docLink.innerHTML = docLinkHtml;\n",
              "        element.appendChild(docLink);\n",
              "      }\n",
              "    </script>\n",
              "  </div>\n",
              "\n",
              "\n",
              "<div id=\"df-e2aa4caf-3757-4539-862c-f5ec7fc1f5dd\">\n",
              "  <button class=\"colab-df-quickchart\" onclick=\"quickchart('df-e2aa4caf-3757-4539-862c-f5ec7fc1f5dd')\"\n",
              "            title=\"Suggest charts\"\n",
              "            style=\"display:none;\">\n",
              "\n",
              "<svg xmlns=\"http://www.w3.org/2000/svg\" height=\"24px\"viewBox=\"0 0 24 24\"\n",
              "     width=\"24px\">\n",
              "    <g>\n",
              "        <path d=\"M19 3H5c-1.1 0-2 .9-2 2v14c0 1.1.9 2 2 2h14c1.1 0 2-.9 2-2V5c0-1.1-.9-2-2-2zM9 17H7v-7h2v7zm4 0h-2V7h2v10zm4 0h-2v-4h2v4z\"/>\n",
              "    </g>\n",
              "</svg>\n",
              "  </button>\n",
              "\n",
              "<style>\n",
              "  .colab-df-quickchart {\n",
              "      --bg-color: #E8F0FE;\n",
              "      --fill-color: #1967D2;\n",
              "      --hover-bg-color: #E2EBFA;\n",
              "      --hover-fill-color: #174EA6;\n",
              "      --disabled-fill-color: #AAA;\n",
              "      --disabled-bg-color: #DDD;\n",
              "  }\n",
              "\n",
              "  [theme=dark] .colab-df-quickchart {\n",
              "      --bg-color: #3B4455;\n",
              "      --fill-color: #D2E3FC;\n",
              "      --hover-bg-color: #434B5C;\n",
              "      --hover-fill-color: #FFFFFF;\n",
              "      --disabled-bg-color: #3B4455;\n",
              "      --disabled-fill-color: #666;\n",
              "  }\n",
              "\n",
              "  .colab-df-quickchart {\n",
              "    background-color: var(--bg-color);\n",
              "    border: none;\n",
              "    border-radius: 50%;\n",
              "    cursor: pointer;\n",
              "    display: none;\n",
              "    fill: var(--fill-color);\n",
              "    height: 32px;\n",
              "    padding: 0;\n",
              "    width: 32px;\n",
              "  }\n",
              "\n",
              "  .colab-df-quickchart:hover {\n",
              "    background-color: var(--hover-bg-color);\n",
              "    box-shadow: 0 1px 2px rgba(60, 64, 67, 0.3), 0 1px 3px 1px rgba(60, 64, 67, 0.15);\n",
              "    fill: var(--button-hover-fill-color);\n",
              "  }\n",
              "\n",
              "  .colab-df-quickchart-complete:disabled,\n",
              "  .colab-df-quickchart-complete:disabled:hover {\n",
              "    background-color: var(--disabled-bg-color);\n",
              "    fill: var(--disabled-fill-color);\n",
              "    box-shadow: none;\n",
              "  }\n",
              "\n",
              "  .colab-df-spinner {\n",
              "    border: 2px solid var(--fill-color);\n",
              "    border-color: transparent;\n",
              "    border-bottom-color: var(--fill-color);\n",
              "    animation:\n",
              "      spin 1s steps(1) infinite;\n",
              "  }\n",
              "\n",
              "  @keyframes spin {\n",
              "    0% {\n",
              "      border-color: transparent;\n",
              "      border-bottom-color: var(--fill-color);\n",
              "      border-left-color: var(--fill-color);\n",
              "    }\n",
              "    20% {\n",
              "      border-color: transparent;\n",
              "      border-left-color: var(--fill-color);\n",
              "      border-top-color: var(--fill-color);\n",
              "    }\n",
              "    30% {\n",
              "      border-color: transparent;\n",
              "      border-left-color: var(--fill-color);\n",
              "      border-top-color: var(--fill-color);\n",
              "      border-right-color: var(--fill-color);\n",
              "    }\n",
              "    40% {\n",
              "      border-color: transparent;\n",
              "      border-right-color: var(--fill-color);\n",
              "      border-top-color: var(--fill-color);\n",
              "    }\n",
              "    60% {\n",
              "      border-color: transparent;\n",
              "      border-right-color: var(--fill-color);\n",
              "    }\n",
              "    80% {\n",
              "      border-color: transparent;\n",
              "      border-right-color: var(--fill-color);\n",
              "      border-bottom-color: var(--fill-color);\n",
              "    }\n",
              "    90% {\n",
              "      border-color: transparent;\n",
              "      border-bottom-color: var(--fill-color);\n",
              "    }\n",
              "  }\n",
              "</style>\n",
              "\n",
              "  <script>\n",
              "    async function quickchart(key) {\n",
              "      const quickchartButtonEl =\n",
              "        document.querySelector('#' + key + ' button');\n",
              "      quickchartButtonEl.disabled = true;  // To prevent multiple clicks.\n",
              "      quickchartButtonEl.classList.add('colab-df-spinner');\n",
              "      try {\n",
              "        const charts = await google.colab.kernel.invokeFunction(\n",
              "            'suggestCharts', [key], {});\n",
              "      } catch (error) {\n",
              "        console.error('Error during call to suggestCharts:', error);\n",
              "      }\n",
              "      quickchartButtonEl.classList.remove('colab-df-spinner');\n",
              "      quickchartButtonEl.classList.add('colab-df-quickchart-complete');\n",
              "    }\n",
              "    (() => {\n",
              "      let quickchartButtonEl =\n",
              "        document.querySelector('#df-e2aa4caf-3757-4539-862c-f5ec7fc1f5dd button');\n",
              "      quickchartButtonEl.style.display =\n",
              "        google.colab.kernel.accessAllowed ? 'block' : 'none';\n",
              "    })();\n",
              "  </script>\n",
              "</div>\n",
              "\n",
              "    </div>\n",
              "  </div>\n"
            ],
            "application/vnd.google.colaboratory.intrinsic+json": {
              "type": "dataframe",
              "variable_name": "df_agent"
            }
          },
          "metadata": {},
          "execution_count": 89
        }
      ]
    },
    {
      "cell_type": "markdown",
      "source": [
        "Although the three datasets are now cleaned, there are still several improvements to make which will be discussed in the next step - the Data Transformation Process. This includes handling the list of values of the `agent_product_expertise` column of the agent dataset, as well as encoding certain columns such as `marryd` and `race_desc_map` before the Machine Learning model is implemented."
      ],
      "metadata": {
        "id": "YeLdRcY_YsP1"
      }
    },
    {
      "cell_type": "markdown",
      "source": [
        "----------------------------------------------------------------------------------------------------------------------------------------------------------------"
      ],
      "metadata": {
        "id": "NkZMLQw3XX_x"
      }
    },
    {
      "cell_type": "markdown",
      "source": [
        "## Step 2: Data Transformations"
      ],
      "metadata": {
        "id": "wMtWFRB4KS9I"
      }
    },
    {
      "cell_type": "markdown",
      "source": [
        "#### Step 2.1: Label Encoding For Categorical Columns"
      ],
      "metadata": {
        "id": "oLrKB6oJjKcx"
      }
    },
    {
      "cell_type": "markdown",
      "source": [
        "Next, we need to perform encoding on several categorical variables before training the Machine Learning model. These include:\n",
        "\n",
        "1) Policy Information Dataset - None\n",
        "\n",
        "2) Client Information Dataset\n",
        "\n",
        "*   `cltsex`\n",
        "*   `marryd`\n",
        "*   `race_desc_map`\n",
        "\n",
        "3) Agent Information Dataset\n",
        "\n",
        "*   `agent_gender`\n",
        "*   `agent_marital`\n",
        "\n"
      ],
      "metadata": {
        "id": "AdL5CEgwklxH"
      }
    },
    {
      "cell_type": "markdown",
      "source": [
        "However, before we encode the columns, we should first understand the unique values of each column and what they represent."
      ],
      "metadata": {
        "id": "P8wq7v8iKAut"
      }
    },
    {
      "cell_type": "code",
      "source": [
        "# Exploring the unique values of the encoded columns of the three datasets\n",
        "print(\"Unencoded columns unique values: \")\n",
        "print(\"\\n\")\n",
        "\n",
        "# 1st column: cltsex column\n",
        "print(f\"Unique values of cltsex column: {df_client['cltsex'].unique()}\")\n",
        "\n",
        "# 2nd column: marryd column\n",
        "print(f\"Unique values of marryd column: {df_client['marryd'].unique()}\")\n",
        "\n",
        "# 3rd column: race_desc_map column\n",
        "print(f\"Unique values of race_desc_map column: {df_client['race_desc_map'].unique()}\")\n",
        "\n",
        "# 4th column: agent_gender column\n",
        "print(f\"Unique values of agent_gender column: {df_agent['agent_gender'].unique()}\")\n",
        "\n",
        "# 5th column: agent_marital column\n",
        "print(f\"Unique values of agent_marital column: {df_agent['agent_marital'].unique()}\")"
      ],
      "metadata": {
        "colab": {
          "base_uri": "https://localhost:8080/"
        },
        "id": "bYI6E5HAI4JT",
        "outputId": "ad0515cf-d367-40cd-93a5-cf5d71adb0da"
      },
      "execution_count": null,
      "outputs": [
        {
          "output_type": "stream",
          "name": "stdout",
          "text": [
            "Unencoded columns unique values: \n",
            "\n",
            "\n",
            "Unique values of cltsex column: ['F' 'M']\n",
            "Unique values of marryd column: ['M' 'S' 'D' 'U' 'W' 'P']\n",
            "Unique values of race_desc_map column: ['Chinese' 'Others' 'Indian' 'Malay']\n",
            "Unique values of agent_gender column: ['M' 'F' 'U']\n",
            "Unique values of agent_marital column: ['M' 'D' 'S' 'U' 'W']\n"
          ]
        }
      ]
    },
    {
      "cell_type": "markdown",
      "source": [
        "<html>\n",
        "<head>\n",
        "    <title>1st column: cltsex</title>\n",
        "</head>\n",
        "<body>\n",
        "    <table border=\"1\">\n",
        "        <tr>\n",
        "            <th>Unencoded Column Value</th>\n",
        "            <th>What It Represents</th>\n",
        "            <th>Encoded Column Value</th>\n",
        "        </tr>\n",
        "        <tr>\n",
        "            <td>F</td>\n",
        "            <td>Female</td>\n",
        "            <td>0</td>\n",
        "        </tr>\n",
        "        <tr>\n",
        "            <td>M</td>\n",
        "            <td>Male</td>\n",
        "            <td>1</td>\n",
        "        </tr>\n",
        "    </table>\n",
        "</body>\n",
        "</html>"
      ],
      "metadata": {
        "id": "SFsj67ATKcT6"
      }
    },
    {
      "cell_type": "markdown",
      "source": [
        "<html>\n",
        "<head>\n",
        "    <title>2nd column: marryd</title>\n",
        "</head>\n",
        "<body>\n",
        "    <table border=\"1\">\n",
        "        <tr>\n",
        "            <th>Unencoded Column Value</th>\n",
        "            <th>What It Represents</th>\n",
        "            <th>Encoded Column Value</th>\n",
        "        </tr>\n",
        "        <tr>\n",
        "            <td>D</td>\n",
        "            <td>Divorced</td>\n",
        "            <td>0</td>\n",
        "        </tr>\n",
        "        <tr>\n",
        "            <td>M</td>\n",
        "            <td>Married</td>\n",
        "            <td>1</td>\n",
        "        </tr>\n",
        "        <tr>\n",
        "            <td>P</td>\n",
        "            <td>Partnered</td>\n",
        "            <td>2</td>\n",
        "        </tr>\n",
        "        <tr>\n",
        "            <td>S</td>\n",
        "            <td>Single</td>\n",
        "            <td>3</td>\n",
        "        </tr>\n",
        "        <tr>\n",
        "            <td>U</td>\n",
        "            <td>Unknown</td>\n",
        "            <td>4</td>\n",
        "        </tr>\n",
        "        <tr>\n",
        "            <td>W</td>\n",
        "            <td>Widowed</td>\n",
        "            <td>5</td>\n",
        "        </tr>\n",
        "    </table>\n",
        "</body>\n",
        "</html>"
      ],
      "metadata": {
        "id": "6n8E_PLmLPQn"
      }
    },
    {
      "cell_type": "markdown",
      "source": [
        "<html>\n",
        "<head>\n",
        "    <title>3rd column: race_desc_map</title>\n",
        "</head>\n",
        "<body>\n",
        "    <table border=\"1\">\n",
        "        <tr>\n",
        "            <th>Unencoded Column Value</th>\n",
        "            <th>Encoded Column Value</th>\n",
        "        </tr>\n",
        "        <tr>\n",
        "            <td>Chinese</td>\n",
        "            <td>0</td>\n",
        "        </tr>\n",
        "        <tr>\n",
        "            <td>Indian</td>\n",
        "            <td>1</td>\n",
        "        </tr>\n",
        "        <tr>\n",
        "            <td>Malay</td>\n",
        "            <td>2</td>\n",
        "        </tr>\n",
        "        <tr>\n",
        "            <td>Others</td>\n",
        "            <td>3</td>\n",
        "        </tr>\n",
        "    </table>\n",
        "</body>\n",
        "</html>"
      ],
      "metadata": {
        "id": "sZhVG5ynL9as"
      }
    },
    {
      "cell_type": "markdown",
      "source": [
        "<html>\n",
        "<head>\n",
        "    <title>4th column: agent_gender</title>\n",
        "</head>\n",
        "<body>\n",
        "    <table border=\"1\">\n",
        "        <tr>\n",
        "            <th>Unencoded Column Value</th>\n",
        "            <th>What It Represents</th>\n",
        "            <th>Encoded Column Value</th>\n",
        "        </tr>\n",
        "        <tr>\n",
        "            <td>F</td>\n",
        "            <td>Female</td>\n",
        "            <td>0</td>\n",
        "        </tr>\n",
        "        <tr>\n",
        "            <td>M</td>\n",
        "            <td>Male</td>\n",
        "            <td>1</td>\n",
        "        </tr>\n",
        "        <tr>\n",
        "            <td>U</td>\n",
        "            <td>Unknown</td>\n",
        "            <td>2</td>\n",
        "        </tr>\n",
        "    </table>\n",
        "</body>\n",
        "</html>"
      ],
      "metadata": {
        "id": "YBjR-zYWMtJm"
      }
    },
    {
      "cell_type": "markdown",
      "source": [
        "<html>\n",
        "<head>\n",
        "    <title>5th column: agent_marital</title>\n",
        "</head>\n",
        "<body>\n",
        "    <table border=\"1\">\n",
        "        <tr>\n",
        "            <th>Unencoded Column Value</th>\n",
        "            <th>What It Represents</th>\n",
        "            <th>Encoded Column Value</th>\n",
        "        </tr>\n",
        "        <tr>\n",
        "            <td>D</td>\n",
        "            <td>Divorced</td>\n",
        "            <td>0</td>\n",
        "        </tr>\n",
        "        <tr>\n",
        "            <td>M</td>\n",
        "            <td>Married</td>\n",
        "            <td>1</td>\n",
        "        </tr>\n",
        "        <tr>\n",
        "            <td>S</td>\n",
        "            <td>Single</td>\n",
        "            <td>2</td>\n",
        "        </tr>\n",
        "        <tr>\n",
        "            <td>U</td>\n",
        "            <td>Unknown</td>\n",
        "            <td>3</td>\n",
        "        </tr>\n",
        "        <tr>\n",
        "            <td>W</td>\n",
        "            <td>Widowed</td>\n",
        "            <td>4</td>\n",
        "        </tr>\n",
        "    </table>\n",
        "</body>\n",
        "</html>"
      ],
      "metadata": {
        "id": "UcPdn6MBM9-c"
      }
    },
    {
      "cell_type": "markdown",
      "source": [
        "For the columns above such as gender (Male or Female), marriage status (Single, Widowed, Divorced etc.) and race (Chinese, Malay, Indian, White etc.), there is no meaningful/inherent order or rank. Hence, we should apply Label Encoding to these columns using `label_encoder.fit_transform()`. This assigns numerical values to categorical data while preserving their inherent order, ensuring ML models correctly interpret the ranking."
      ],
      "metadata": {
        "id": "VcXkbZ70I3dH"
      }
    },
    {
      "cell_type": "code",
      "source": [
        "# Import the Label Encoder from scikit-learn\n",
        "from sklearn.preprocessing import LabelEncoder\n",
        "\n",
        "# Initialize the LabelEncoder\n",
        "label_encoder = LabelEncoder()"
      ],
      "metadata": {
        "id": "xt89XEPfjgG3"
      },
      "execution_count": null,
      "outputs": []
    },
    {
      "cell_type": "code",
      "source": [
        "# Label Encode the relevant columns\n",
        "\n",
        "# Label Encode cltsex column\n",
        "df_client['cltsex'] = label_encoder.fit_transform(df_client['cltsex'])\n",
        "\n",
        "# Label Encode marryd column\n",
        "df_client['marryd'] = label_encoder.fit_transform(df_client['marryd'])\n",
        "\n",
        "# Label Encode race_desc_map column\n",
        "df_client['race_desc_map'] = label_encoder.fit_transform(df_client['race_desc_map'])\n",
        "\n",
        "# Label Encode agent_gender column\n",
        "df_agent['agent_gender'] = label_encoder.fit_transform(df_agent['agent_gender'])\n",
        "\n",
        "# Label Encode agent_marital column\n",
        "df_agent['agent_marital'] = label_encoder.fit_transform(df_agent['agent_marital'])"
      ],
      "metadata": {
        "id": "qSHXBN8tFakR"
      },
      "execution_count": null,
      "outputs": []
    },
    {
      "cell_type": "markdown",
      "source": [
        "----------------------------------------------------------------------------------------------------------------------------------------------------------------"
      ],
      "metadata": {
        "id": "zL_zg46SQHCs"
      }
    },
    {
      "cell_type": "markdown",
      "source": [
        "#### Step 2.2: Log transformation for highly skewed numerical variables"
      ],
      "metadata": {
        "id": "kwc391U7jKrA"
      }
    },
    {
      "cell_type": "markdown",
      "source": [
        "From the descriptive statistics esrlier, we observed that there is one column in the policy dataset, `annual_premium` that has a wide range of values, where more than 25% of the data points have values of 0 and the maximum value is over 300000. This trend is similar for the `annual_premium_cnvrt` column of the agent dataset. To mitigate this issue, we need to apply a transformation to reduce the skewness and variance of the values. In this case, we can consider using a log transformation using `np.log1p()` to normalise highly skewed numerical variables. This reduces the effect of extreme values and stabilises variance, making the dataset more suitable for ML models."
      ],
      "metadata": {
        "id": "BXeLWmrukmky"
      }
    },
    {
      "cell_type": "code",
      "source": [
        "# Log transformation of annual_premium in df_policy\n",
        "df_policy['annual_premium'] = np.log1p(df_policy['annual_premium'])\n",
        "\n",
        "# Log transformation of annual_premium_cnvrt in df_agent\n",
        "df_agent['annual_premium_cnvrt'] = np.log1p(df_agent['annual_premium_cnvrt'])"
      ],
      "metadata": {
        "id": "KANH_S4mjgw5"
      },
      "execution_count": null,
      "outputs": []
    },
    {
      "cell_type": "markdown",
      "source": [
        "Viewing the descriptive statistics again for the `annual_premium` and `annual_premium_cnvrt` columns of df_policy and df_agent respectively, we can see that the range between the min and max values have been greatly reduced. For instance, when the log transformation is applied on the `annual_premium` column, the min-max range decreases significantly from over 300000 to around 12."
      ],
      "metadata": {
        "id": "AyEXRKsEPeFO"
      }
    },
    {
      "cell_type": "code",
      "source": [
        "# Viewing descriptive statistics of annual_premium column after log transform\n",
        "df_policy['annual_premium'].describe()"
      ],
      "metadata": {
        "colab": {
          "base_uri": "https://localhost:8080/",
          "height": 334
        },
        "id": "bxCqgy8rPQ1y",
        "outputId": "adb0800e-f2a7-4424-8cbf-6e43fcdcc485"
      },
      "execution_count": null,
      "outputs": [
        {
          "output_type": "execute_result",
          "data": {
            "text/plain": [
              "count    29503.000000\n",
              "mean         3.739831\n",
              "std          3.194056\n",
              "min          0.000000\n",
              "25%          0.000000\n",
              "50%          4.852030\n",
              "75%          6.270988\n",
              "max         12.611673\n",
              "Name: annual_premium, dtype: float64"
            ],
            "text/html": [
              "<div>\n",
              "<style scoped>\n",
              "    .dataframe tbody tr th:only-of-type {\n",
              "        vertical-align: middle;\n",
              "    }\n",
              "\n",
              "    .dataframe tbody tr th {\n",
              "        vertical-align: top;\n",
              "    }\n",
              "\n",
              "    .dataframe thead th {\n",
              "        text-align: right;\n",
              "    }\n",
              "</style>\n",
              "<table border=\"1\" class=\"dataframe\">\n",
              "  <thead>\n",
              "    <tr style=\"text-align: right;\">\n",
              "      <th></th>\n",
              "      <th>annual_premium</th>\n",
              "    </tr>\n",
              "  </thead>\n",
              "  <tbody>\n",
              "    <tr>\n",
              "      <th>count</th>\n",
              "      <td>29503.000000</td>\n",
              "    </tr>\n",
              "    <tr>\n",
              "      <th>mean</th>\n",
              "      <td>3.739831</td>\n",
              "    </tr>\n",
              "    <tr>\n",
              "      <th>std</th>\n",
              "      <td>3.194056</td>\n",
              "    </tr>\n",
              "    <tr>\n",
              "      <th>min</th>\n",
              "      <td>0.000000</td>\n",
              "    </tr>\n",
              "    <tr>\n",
              "      <th>25%</th>\n",
              "      <td>0.000000</td>\n",
              "    </tr>\n",
              "    <tr>\n",
              "      <th>50%</th>\n",
              "      <td>4.852030</td>\n",
              "    </tr>\n",
              "    <tr>\n",
              "      <th>75%</th>\n",
              "      <td>6.270988</td>\n",
              "    </tr>\n",
              "    <tr>\n",
              "      <th>max</th>\n",
              "      <td>12.611673</td>\n",
              "    </tr>\n",
              "  </tbody>\n",
              "</table>\n",
              "</div><br><label><b>dtype:</b> float64</label>"
            ]
          },
          "metadata": {},
          "execution_count": 94
        }
      ]
    },
    {
      "cell_type": "code",
      "source": [
        "# Viewing descriptive statistics of annual_premium_cnvrt column after log transform\n",
        "df_agent['annual_premium_cnvrt'].describe()"
      ],
      "metadata": {
        "colab": {
          "base_uri": "https://localhost:8080/",
          "height": 334
        },
        "id": "sz6rxg-yP9uZ",
        "outputId": "d4a81128-17f1-40f9-ed50-5b6b8c338cd2"
      },
      "execution_count": null,
      "outputs": [
        {
          "output_type": "execute_result",
          "data": {
            "text/plain": [
              "count    10117.000000\n",
              "mean        10.970487\n",
              "std          1.907411\n",
              "min          0.000000\n",
              "25%          9.685021\n",
              "50%         10.982152\n",
              "75%         12.355137\n",
              "max         17.381695\n",
              "Name: annual_premium_cnvrt, dtype: float64"
            ],
            "text/html": [
              "<div>\n",
              "<style scoped>\n",
              "    .dataframe tbody tr th:only-of-type {\n",
              "        vertical-align: middle;\n",
              "    }\n",
              "\n",
              "    .dataframe tbody tr th {\n",
              "        vertical-align: top;\n",
              "    }\n",
              "\n",
              "    .dataframe thead th {\n",
              "        text-align: right;\n",
              "    }\n",
              "</style>\n",
              "<table border=\"1\" class=\"dataframe\">\n",
              "  <thead>\n",
              "    <tr style=\"text-align: right;\">\n",
              "      <th></th>\n",
              "      <th>annual_premium_cnvrt</th>\n",
              "    </tr>\n",
              "  </thead>\n",
              "  <tbody>\n",
              "    <tr>\n",
              "      <th>count</th>\n",
              "      <td>10117.000000</td>\n",
              "    </tr>\n",
              "    <tr>\n",
              "      <th>mean</th>\n",
              "      <td>10.970487</td>\n",
              "    </tr>\n",
              "    <tr>\n",
              "      <th>std</th>\n",
              "      <td>1.907411</td>\n",
              "    </tr>\n",
              "    <tr>\n",
              "      <th>min</th>\n",
              "      <td>0.000000</td>\n",
              "    </tr>\n",
              "    <tr>\n",
              "      <th>25%</th>\n",
              "      <td>9.685021</td>\n",
              "    </tr>\n",
              "    <tr>\n",
              "      <th>50%</th>\n",
              "      <td>10.982152</td>\n",
              "    </tr>\n",
              "    <tr>\n",
              "      <th>75%</th>\n",
              "      <td>12.355137</td>\n",
              "    </tr>\n",
              "    <tr>\n",
              "      <th>max</th>\n",
              "      <td>17.381695</td>\n",
              "    </tr>\n",
              "  </tbody>\n",
              "</table>\n",
              "</div><br><label><b>dtype:</b> float64</label>"
            ]
          },
          "metadata": {},
          "execution_count": 95
        }
      ]
    },
    {
      "cell_type": "markdown",
      "source": [
        "----------------------------------------------------------------------------------------------------------------------------------------------------------------"
      ],
      "metadata": {
        "id": "sguXNP50RBDI"
      }
    },
    {
      "cell_type": "markdown",
      "source": [
        "#### Step 2.3: Handling the list of values for the `agent_product_expertise` column"
      ],
      "metadata": {
        "id": "KdPbclREQvyJ"
      }
    },
    {
      "cell_type": "markdown",
      "source": [
        "Currently, for the `agent_product_expertise` column, the values are stored in lists which is not in a readable format. Te list of values contain the products where each agent (records) is expert in. To make it more readable, it is best practice to change the values from a long to a wide format.\n",
        "\n",
        "How to make it to a wide format?\n",
        "\n",
        "Create additional columns from `prod_1_expert` to `prod_n_expert`, where n represents the total number of products. If the agent is expert in the product, encode it as 1 and otherwise encode it as 0. To perform this, we need to rely on the `MultiLabelBinarizer` library from `sklearn`.\n",
        "\n",
        "*******************************************************************************\n",
        "\n",
        "Steps Needed:\n",
        "\n",
        "**Step 1:** Initialize the `MultiLabelBinarizer`.\n",
        "\n",
        "**Step 2:** Create a new dataframe containing all the new columns `prod_1_expert` to `prod_n_expert` using a for loop to loop through all the values in each list of the original `agent_product_expertise` column.\n",
        "\n",
        "**Step 3:** Concatenate the new dataframe with the original `df_agent` dataframe to add in the new columns.\n",
        "\n",
        "**Step 4:** Don't forget to remove the original `agent_product_expertise` column as it is not needed in the analysis anymore after the creation of the new columns.\n",
        "\n",
        "**Step 5:** The `MultiLabelBinarizer` method results in some NA rows being obtained and hence we need to remove the rows containing NA values as well."
      ],
      "metadata": {
        "id": "3bHUZet1Q-3H"
      }
    },
    {
      "cell_type": "code",
      "source": [
        "from sklearn.preprocessing import MultiLabelBinarizer\n",
        "\n",
        "# Initialize MultiLabelBinarizer\n",
        "mlb = MultiLabelBinarizer()\n",
        "expertise_encoded = mlb.fit_transform(df_agent['agent_product_expertise'])"
      ],
      "metadata": {
        "id": "hsExvyaZSJSq"
      },
      "execution_count": null,
      "outputs": []
    },
    {
      "cell_type": "code",
      "source": [
        "# Create a new DataFrame with feature names\n",
        "expertise_df = pd.DataFrame(expertise_encoded,\n",
        "                            columns=[f\"{prod}_expert\" for prod in mlb.classes_])\n",
        "\n",
        "# Concatenate with original DataFrame\n",
        "df_agent = pd.concat([df_agent, expertise_df], axis=1)\n",
        "\n",
        "# Drop original column if needed\n",
        "df_agent.drop(columns=['agent_product_expertise'], inplace=True)\n",
        "\n",
        "# Remove all the NA values subsequently\n",
        "df_agent = df_agent.dropna()\n",
        "\n",
        "# Display the transformed DataFrame\n",
        "df_agent.head()"
      ],
      "metadata": {
        "colab": {
          "base_uri": "https://localhost:8080/",
          "height": 255
        },
        "id": "CCUhoKaGnn9H",
        "outputId": "80f95978-142d-4242-8ab7-3dd0d688315c"
      },
      "execution_count": null,
      "outputs": [
        {
          "output_type": "execute_result",
          "data": {
            "text/plain": [
              "   agntnum  agent_age  agent_gender  agent_marital  agent_tenure  \\\n",
              "0   9513.0       32.0           1.0            1.0          15.0   \n",
              "1   4310.0       40.0           1.0            1.0          18.0   \n",
              "2   4302.0       39.0           0.0            1.0          40.0   \n",
              "3   4996.0       57.0           0.0            0.0          41.0   \n",
              "4   3457.0       38.0           1.0            1.0          62.0   \n",
              "\n",
              "   cnt_converted  annual_premium_cnvrt  pct_lapsed  pct_cancel  pct_inforce  \\\n",
              "0           21.0              9.215328         1.0    0.814954     0.000000   \n",
              "1          396.0             12.191512         0.6    0.083937     0.429293   \n",
              "2          853.0             13.143412         0.3    0.017406     0.711606   \n",
              "3          554.0             12.769889         0.3    0.003623     0.584838   \n",
              "4         1525.0             14.010568         0.3    0.017523     0.640656   \n",
              "\n",
              "   ...  pct_ag09_55to59  pct_ag10_60up  cluster  prod_0_expert  prod_2_expert  \\\n",
              "0  ...         0.142857       0.238095      3.0            0.0            1.0   \n",
              "1  ...         0.040404       0.010101      6.0            0.0            0.0   \n",
              "2  ...         0.035170       0.010551      6.0            0.0            0.0   \n",
              "3  ...         0.160650       0.037906      6.0            1.0            1.0   \n",
              "4  ...         0.043279       0.015082      6.0            0.0            0.0   \n",
              "\n",
              "   prod_4_expert  prod_6_expert  prod_7_expert  prod_8_expert  prod_9_expert  \n",
              "0            0.0            1.0            0.0            0.0            0.0  \n",
              "1            0.0            1.0            0.0            0.0            0.0  \n",
              "2            1.0            0.0            0.0            0.0            0.0  \n",
              "3            0.0            1.0            1.0            0.0            1.0  \n",
              "4            0.0            1.0            0.0            1.0            0.0  \n",
              "\n",
              "[5 rows x 41 columns]"
            ],
            "text/html": [
              "\n",
              "  <div id=\"df-f78891c1-7afc-429f-b121-34dfe5cf8384\" class=\"colab-df-container\">\n",
              "    <div>\n",
              "<style scoped>\n",
              "    .dataframe tbody tr th:only-of-type {\n",
              "        vertical-align: middle;\n",
              "    }\n",
              "\n",
              "    .dataframe tbody tr th {\n",
              "        vertical-align: top;\n",
              "    }\n",
              "\n",
              "    .dataframe thead th {\n",
              "        text-align: right;\n",
              "    }\n",
              "</style>\n",
              "<table border=\"1\" class=\"dataframe\">\n",
              "  <thead>\n",
              "    <tr style=\"text-align: right;\">\n",
              "      <th></th>\n",
              "      <th>agntnum</th>\n",
              "      <th>agent_age</th>\n",
              "      <th>agent_gender</th>\n",
              "      <th>agent_marital</th>\n",
              "      <th>agent_tenure</th>\n",
              "      <th>cnt_converted</th>\n",
              "      <th>annual_premium_cnvrt</th>\n",
              "      <th>pct_lapsed</th>\n",
              "      <th>pct_cancel</th>\n",
              "      <th>pct_inforce</th>\n",
              "      <th>...</th>\n",
              "      <th>pct_ag09_55to59</th>\n",
              "      <th>pct_ag10_60up</th>\n",
              "      <th>cluster</th>\n",
              "      <th>prod_0_expert</th>\n",
              "      <th>prod_2_expert</th>\n",
              "      <th>prod_4_expert</th>\n",
              "      <th>prod_6_expert</th>\n",
              "      <th>prod_7_expert</th>\n",
              "      <th>prod_8_expert</th>\n",
              "      <th>prod_9_expert</th>\n",
              "    </tr>\n",
              "  </thead>\n",
              "  <tbody>\n",
              "    <tr>\n",
              "      <th>0</th>\n",
              "      <td>9513.0</td>\n",
              "      <td>32.0</td>\n",
              "      <td>1.0</td>\n",
              "      <td>1.0</td>\n",
              "      <td>15.0</td>\n",
              "      <td>21.0</td>\n",
              "      <td>9.215328</td>\n",
              "      <td>1.0</td>\n",
              "      <td>0.814954</td>\n",
              "      <td>0.000000</td>\n",
              "      <td>...</td>\n",
              "      <td>0.142857</td>\n",
              "      <td>0.238095</td>\n",
              "      <td>3.0</td>\n",
              "      <td>0.0</td>\n",
              "      <td>1.0</td>\n",
              "      <td>0.0</td>\n",
              "      <td>1.0</td>\n",
              "      <td>0.0</td>\n",
              "      <td>0.0</td>\n",
              "      <td>0.0</td>\n",
              "    </tr>\n",
              "    <tr>\n",
              "      <th>1</th>\n",
              "      <td>4310.0</td>\n",
              "      <td>40.0</td>\n",
              "      <td>1.0</td>\n",
              "      <td>1.0</td>\n",
              "      <td>18.0</td>\n",
              "      <td>396.0</td>\n",
              "      <td>12.191512</td>\n",
              "      <td>0.6</td>\n",
              "      <td>0.083937</td>\n",
              "      <td>0.429293</td>\n",
              "      <td>...</td>\n",
              "      <td>0.040404</td>\n",
              "      <td>0.010101</td>\n",
              "      <td>6.0</td>\n",
              "      <td>0.0</td>\n",
              "      <td>0.0</td>\n",
              "      <td>0.0</td>\n",
              "      <td>1.0</td>\n",
              "      <td>0.0</td>\n",
              "      <td>0.0</td>\n",
              "      <td>0.0</td>\n",
              "    </tr>\n",
              "    <tr>\n",
              "      <th>2</th>\n",
              "      <td>4302.0</td>\n",
              "      <td>39.0</td>\n",
              "      <td>0.0</td>\n",
              "      <td>1.0</td>\n",
              "      <td>40.0</td>\n",
              "      <td>853.0</td>\n",
              "      <td>13.143412</td>\n",
              "      <td>0.3</td>\n",
              "      <td>0.017406</td>\n",
              "      <td>0.711606</td>\n",
              "      <td>...</td>\n",
              "      <td>0.035170</td>\n",
              "      <td>0.010551</td>\n",
              "      <td>6.0</td>\n",
              "      <td>0.0</td>\n",
              "      <td>0.0</td>\n",
              "      <td>1.0</td>\n",
              "      <td>0.0</td>\n",
              "      <td>0.0</td>\n",
              "      <td>0.0</td>\n",
              "      <td>0.0</td>\n",
              "    </tr>\n",
              "    <tr>\n",
              "      <th>3</th>\n",
              "      <td>4996.0</td>\n",
              "      <td>57.0</td>\n",
              "      <td>0.0</td>\n",
              "      <td>0.0</td>\n",
              "      <td>41.0</td>\n",
              "      <td>554.0</td>\n",
              "      <td>12.769889</td>\n",
              "      <td>0.3</td>\n",
              "      <td>0.003623</td>\n",
              "      <td>0.584838</td>\n",
              "      <td>...</td>\n",
              "      <td>0.160650</td>\n",
              "      <td>0.037906</td>\n",
              "      <td>6.0</td>\n",
              "      <td>1.0</td>\n",
              "      <td>1.0</td>\n",
              "      <td>0.0</td>\n",
              "      <td>1.0</td>\n",
              "      <td>1.0</td>\n",
              "      <td>0.0</td>\n",
              "      <td>1.0</td>\n",
              "    </tr>\n",
              "    <tr>\n",
              "      <th>4</th>\n",
              "      <td>3457.0</td>\n",
              "      <td>38.0</td>\n",
              "      <td>1.0</td>\n",
              "      <td>1.0</td>\n",
              "      <td>62.0</td>\n",
              "      <td>1525.0</td>\n",
              "      <td>14.010568</td>\n",
              "      <td>0.3</td>\n",
              "      <td>0.017523</td>\n",
              "      <td>0.640656</td>\n",
              "      <td>...</td>\n",
              "      <td>0.043279</td>\n",
              "      <td>0.015082</td>\n",
              "      <td>6.0</td>\n",
              "      <td>0.0</td>\n",
              "      <td>0.0</td>\n",
              "      <td>0.0</td>\n",
              "      <td>1.0</td>\n",
              "      <td>0.0</td>\n",
              "      <td>1.0</td>\n",
              "      <td>0.0</td>\n",
              "    </tr>\n",
              "  </tbody>\n",
              "</table>\n",
              "<p>5 rows × 41 columns</p>\n",
              "</div>\n",
              "    <div class=\"colab-df-buttons\">\n",
              "\n",
              "  <div class=\"colab-df-container\">\n",
              "    <button class=\"colab-df-convert\" onclick=\"convertToInteractive('df-f78891c1-7afc-429f-b121-34dfe5cf8384')\"\n",
              "            title=\"Convert this dataframe to an interactive table.\"\n",
              "            style=\"display:none;\">\n",
              "\n",
              "  <svg xmlns=\"http://www.w3.org/2000/svg\" height=\"24px\" viewBox=\"0 -960 960 960\">\n",
              "    <path d=\"M120-120v-720h720v720H120Zm60-500h600v-160H180v160Zm220 220h160v-160H400v160Zm0 220h160v-160H400v160ZM180-400h160v-160H180v160Zm440 0h160v-160H620v160ZM180-180h160v-160H180v160Zm440 0h160v-160H620v160Z\"/>\n",
              "  </svg>\n",
              "    </button>\n",
              "\n",
              "  <style>\n",
              "    .colab-df-container {\n",
              "      display:flex;\n",
              "      gap: 12px;\n",
              "    }\n",
              "\n",
              "    .colab-df-convert {\n",
              "      background-color: #E8F0FE;\n",
              "      border: none;\n",
              "      border-radius: 50%;\n",
              "      cursor: pointer;\n",
              "      display: none;\n",
              "      fill: #1967D2;\n",
              "      height: 32px;\n",
              "      padding: 0 0 0 0;\n",
              "      width: 32px;\n",
              "    }\n",
              "\n",
              "    .colab-df-convert:hover {\n",
              "      background-color: #E2EBFA;\n",
              "      box-shadow: 0px 1px 2px rgba(60, 64, 67, 0.3), 0px 1px 3px 1px rgba(60, 64, 67, 0.15);\n",
              "      fill: #174EA6;\n",
              "    }\n",
              "\n",
              "    .colab-df-buttons div {\n",
              "      margin-bottom: 4px;\n",
              "    }\n",
              "\n",
              "    [theme=dark] .colab-df-convert {\n",
              "      background-color: #3B4455;\n",
              "      fill: #D2E3FC;\n",
              "    }\n",
              "\n",
              "    [theme=dark] .colab-df-convert:hover {\n",
              "      background-color: #434B5C;\n",
              "      box-shadow: 0px 1px 3px 1px rgba(0, 0, 0, 0.15);\n",
              "      filter: drop-shadow(0px 1px 2px rgba(0, 0, 0, 0.3));\n",
              "      fill: #FFFFFF;\n",
              "    }\n",
              "  </style>\n",
              "\n",
              "    <script>\n",
              "      const buttonEl =\n",
              "        document.querySelector('#df-f78891c1-7afc-429f-b121-34dfe5cf8384 button.colab-df-convert');\n",
              "      buttonEl.style.display =\n",
              "        google.colab.kernel.accessAllowed ? 'block' : 'none';\n",
              "\n",
              "      async function convertToInteractive(key) {\n",
              "        const element = document.querySelector('#df-f78891c1-7afc-429f-b121-34dfe5cf8384');\n",
              "        const dataTable =\n",
              "          await google.colab.kernel.invokeFunction('convertToInteractive',\n",
              "                                                    [key], {});\n",
              "        if (!dataTable) return;\n",
              "\n",
              "        const docLinkHtml = 'Like what you see? Visit the ' +\n",
              "          '<a target=\"_blank\" href=https://colab.research.google.com/notebooks/data_table.ipynb>data table notebook</a>'\n",
              "          + ' to learn more about interactive tables.';\n",
              "        element.innerHTML = '';\n",
              "        dataTable['output_type'] = 'display_data';\n",
              "        await google.colab.output.renderOutput(dataTable, element);\n",
              "        const docLink = document.createElement('div');\n",
              "        docLink.innerHTML = docLinkHtml;\n",
              "        element.appendChild(docLink);\n",
              "      }\n",
              "    </script>\n",
              "  </div>\n",
              "\n",
              "\n",
              "<div id=\"df-d8caf12a-7e12-4470-8421-c0b94002e923\">\n",
              "  <button class=\"colab-df-quickchart\" onclick=\"quickchart('df-d8caf12a-7e12-4470-8421-c0b94002e923')\"\n",
              "            title=\"Suggest charts\"\n",
              "            style=\"display:none;\">\n",
              "\n",
              "<svg xmlns=\"http://www.w3.org/2000/svg\" height=\"24px\"viewBox=\"0 0 24 24\"\n",
              "     width=\"24px\">\n",
              "    <g>\n",
              "        <path d=\"M19 3H5c-1.1 0-2 .9-2 2v14c0 1.1.9 2 2 2h14c1.1 0 2-.9 2-2V5c0-1.1-.9-2-2-2zM9 17H7v-7h2v7zm4 0h-2V7h2v10zm4 0h-2v-4h2v4z\"/>\n",
              "    </g>\n",
              "</svg>\n",
              "  </button>\n",
              "\n",
              "<style>\n",
              "  .colab-df-quickchart {\n",
              "      --bg-color: #E8F0FE;\n",
              "      --fill-color: #1967D2;\n",
              "      --hover-bg-color: #E2EBFA;\n",
              "      --hover-fill-color: #174EA6;\n",
              "      --disabled-fill-color: #AAA;\n",
              "      --disabled-bg-color: #DDD;\n",
              "  }\n",
              "\n",
              "  [theme=dark] .colab-df-quickchart {\n",
              "      --bg-color: #3B4455;\n",
              "      --fill-color: #D2E3FC;\n",
              "      --hover-bg-color: #434B5C;\n",
              "      --hover-fill-color: #FFFFFF;\n",
              "      --disabled-bg-color: #3B4455;\n",
              "      --disabled-fill-color: #666;\n",
              "  }\n",
              "\n",
              "  .colab-df-quickchart {\n",
              "    background-color: var(--bg-color);\n",
              "    border: none;\n",
              "    border-radius: 50%;\n",
              "    cursor: pointer;\n",
              "    display: none;\n",
              "    fill: var(--fill-color);\n",
              "    height: 32px;\n",
              "    padding: 0;\n",
              "    width: 32px;\n",
              "  }\n",
              "\n",
              "  .colab-df-quickchart:hover {\n",
              "    background-color: var(--hover-bg-color);\n",
              "    box-shadow: 0 1px 2px rgba(60, 64, 67, 0.3), 0 1px 3px 1px rgba(60, 64, 67, 0.15);\n",
              "    fill: var(--button-hover-fill-color);\n",
              "  }\n",
              "\n",
              "  .colab-df-quickchart-complete:disabled,\n",
              "  .colab-df-quickchart-complete:disabled:hover {\n",
              "    background-color: var(--disabled-bg-color);\n",
              "    fill: var(--disabled-fill-color);\n",
              "    box-shadow: none;\n",
              "  }\n",
              "\n",
              "  .colab-df-spinner {\n",
              "    border: 2px solid var(--fill-color);\n",
              "    border-color: transparent;\n",
              "    border-bottom-color: var(--fill-color);\n",
              "    animation:\n",
              "      spin 1s steps(1) infinite;\n",
              "  }\n",
              "\n",
              "  @keyframes spin {\n",
              "    0% {\n",
              "      border-color: transparent;\n",
              "      border-bottom-color: var(--fill-color);\n",
              "      border-left-color: var(--fill-color);\n",
              "    }\n",
              "    20% {\n",
              "      border-color: transparent;\n",
              "      border-left-color: var(--fill-color);\n",
              "      border-top-color: var(--fill-color);\n",
              "    }\n",
              "    30% {\n",
              "      border-color: transparent;\n",
              "      border-left-color: var(--fill-color);\n",
              "      border-top-color: var(--fill-color);\n",
              "      border-right-color: var(--fill-color);\n",
              "    }\n",
              "    40% {\n",
              "      border-color: transparent;\n",
              "      border-right-color: var(--fill-color);\n",
              "      border-top-color: var(--fill-color);\n",
              "    }\n",
              "    60% {\n",
              "      border-color: transparent;\n",
              "      border-right-color: var(--fill-color);\n",
              "    }\n",
              "    80% {\n",
              "      border-color: transparent;\n",
              "      border-right-color: var(--fill-color);\n",
              "      border-bottom-color: var(--fill-color);\n",
              "    }\n",
              "    90% {\n",
              "      border-color: transparent;\n",
              "      border-bottom-color: var(--fill-color);\n",
              "    }\n",
              "  }\n",
              "</style>\n",
              "\n",
              "  <script>\n",
              "    async function quickchart(key) {\n",
              "      const quickchartButtonEl =\n",
              "        document.querySelector('#' + key + ' button');\n",
              "      quickchartButtonEl.disabled = true;  // To prevent multiple clicks.\n",
              "      quickchartButtonEl.classList.add('colab-df-spinner');\n",
              "      try {\n",
              "        const charts = await google.colab.kernel.invokeFunction(\n",
              "            'suggestCharts', [key], {});\n",
              "      } catch (error) {\n",
              "        console.error('Error during call to suggestCharts:', error);\n",
              "      }\n",
              "      quickchartButtonEl.classList.remove('colab-df-spinner');\n",
              "      quickchartButtonEl.classList.add('colab-df-quickchart-complete');\n",
              "    }\n",
              "    (() => {\n",
              "      let quickchartButtonEl =\n",
              "        document.querySelector('#df-d8caf12a-7e12-4470-8421-c0b94002e923 button');\n",
              "      quickchartButtonEl.style.display =\n",
              "        google.colab.kernel.accessAllowed ? 'block' : 'none';\n",
              "    })();\n",
              "  </script>\n",
              "</div>\n",
              "\n",
              "    </div>\n",
              "  </div>\n"
            ],
            "application/vnd.google.colaboratory.intrinsic+json": {
              "type": "dataframe",
              "variable_name": "df_agent"
            }
          },
          "metadata": {},
          "execution_count": 97
        }
      ]
    },
    {
      "cell_type": "markdown",
      "source": [
        "----------------------------------------------------------------------------------------------------------------------------------------------------------------"
      ],
      "metadata": {
        "id": "Aw4uAb39RDig"
      }
    },
    {
      "cell_type": "markdown",
      "source": [
        "#### Step 2.4: Joining the three datasets into one before Machine Learning"
      ],
      "metadata": {
        "id": "26l6_RFVeSc1"
      }
    },
    {
      "cell_type": "markdown",
      "source": [
        "Lastly, before the Machine Learning implementation, we need to join the three datasets - `df_policy`, `df_agent` and `df_client` into one. We need to first identify the common columns between the datasets for effective joining. We can apply the `pd.merge` method to merge two datasets. In this case, it is best to use inner joins as we do not want any NA values in the complete merged dataset.\n",
        "\n",
        "******************************************************************************\n",
        "\n",
        "First Join: Between Policy Information Dataset and Client Information Dataset\n",
        "\n",
        "**Common Column: `secuityno`**\n",
        "\n",
        "Second Join: Between Policy Information Dataset and Agent Information Dataset\n",
        "\n",
        "**Common Column: `agntnum`**\n"
      ],
      "metadata": {
        "id": "-0AmkXCUeRPK"
      }
    },
    {
      "cell_type": "code",
      "source": [
        "# Step 1: Merge the Policy Information Dataset and Client Information Dataset\n",
        "partial_merged_df = pd.merge(df_policy, df_client, on= 'secuityno', how = 'inner')\n",
        "\n",
        "# Step 2: Merge the resulting dataset and Agent Information Dataset\n",
        "final_df = pd.merge(partial_merged_df, df_agent, on = 'agntnum', how = 'inner')\n",
        "\n",
        "# Viewing the final resultant merged dataframe\n",
        "final_df.head()"
      ],
      "metadata": {
        "colab": {
          "base_uri": "https://localhost:8080/",
          "height": 342
        },
        "id": "pInAmZ-UVq0F",
        "outputId": "57df271e-6404-4296-bf7c-596adeb74c45"
      },
      "execution_count": null,
      "outputs": [
        {
          "output_type": "execute_result",
          "data": {
            "text/plain": [
              "   chdrnum  agntnum  secuityno    occdate  annual_premium  product  flg_main  \\\n",
              "0      281       62       6957 2018-11-12        0.000000        8         1   \n",
              "1      280       63       2161 2024-02-22        2.079442        8         1   \n",
              "2     2577       63      16605 2024-08-28        6.049733        6         1   \n",
              "3     2578       63      16605 2024-08-27        5.384495        6         1   \n",
              "4      305       63       7917 2024-08-28        6.070738        6         1   \n",
              "\n",
              "   flg_rider  flg_inforce  flg_lapsed  ...  pct_ag09_55to59  pct_ag10_60up  \\\n",
              "0          0            1           0  ...         0.000000       0.000000   \n",
              "1          0            1           0  ...         0.019956       0.011842   \n",
              "2          0            1           0  ...         0.019956       0.011842   \n",
              "3          0            1           0  ...         0.019956       0.011842   \n",
              "4          0            1           0  ...         0.019956       0.011842   \n",
              "\n",
              "   cluster  prod_0_expert  prod_2_expert  prod_4_expert prod_6_expert  \\\n",
              "0      1.0            0.0            0.0            0.0           0.0   \n",
              "1      1.0            1.0            0.0            1.0           1.0   \n",
              "2      1.0            1.0            0.0            1.0           1.0   \n",
              "3      1.0            1.0            0.0            1.0           1.0   \n",
              "4      1.0            1.0            0.0            1.0           1.0   \n",
              "\n",
              "   prod_7_expert  prod_8_expert  prod_9_expert  \n",
              "0            1.0            1.0            1.0  \n",
              "1            0.0            0.0            1.0  \n",
              "2            0.0            0.0            1.0  \n",
              "3            0.0            0.0            1.0  \n",
              "4            0.0            0.0            1.0  \n",
              "\n",
              "[5 rows x 62 columns]"
            ],
            "text/html": [
              "\n",
              "  <div id=\"df-f1359f55-ac90-448d-ae65-3d232bd39e17\" class=\"colab-df-container\">\n",
              "    <div>\n",
              "<style scoped>\n",
              "    .dataframe tbody tr th:only-of-type {\n",
              "        vertical-align: middle;\n",
              "    }\n",
              "\n",
              "    .dataframe tbody tr th {\n",
              "        vertical-align: top;\n",
              "    }\n",
              "\n",
              "    .dataframe thead th {\n",
              "        text-align: right;\n",
              "    }\n",
              "</style>\n",
              "<table border=\"1\" class=\"dataframe\">\n",
              "  <thead>\n",
              "    <tr style=\"text-align: right;\">\n",
              "      <th></th>\n",
              "      <th>chdrnum</th>\n",
              "      <th>agntnum</th>\n",
              "      <th>secuityno</th>\n",
              "      <th>occdate</th>\n",
              "      <th>annual_premium</th>\n",
              "      <th>product</th>\n",
              "      <th>flg_main</th>\n",
              "      <th>flg_rider</th>\n",
              "      <th>flg_inforce</th>\n",
              "      <th>flg_lapsed</th>\n",
              "      <th>...</th>\n",
              "      <th>pct_ag09_55to59</th>\n",
              "      <th>pct_ag10_60up</th>\n",
              "      <th>cluster</th>\n",
              "      <th>prod_0_expert</th>\n",
              "      <th>prod_2_expert</th>\n",
              "      <th>prod_4_expert</th>\n",
              "      <th>prod_6_expert</th>\n",
              "      <th>prod_7_expert</th>\n",
              "      <th>prod_8_expert</th>\n",
              "      <th>prod_9_expert</th>\n",
              "    </tr>\n",
              "  </thead>\n",
              "  <tbody>\n",
              "    <tr>\n",
              "      <th>0</th>\n",
              "      <td>281</td>\n",
              "      <td>62</td>\n",
              "      <td>6957</td>\n",
              "      <td>2018-11-12</td>\n",
              "      <td>0.000000</td>\n",
              "      <td>8</td>\n",
              "      <td>1</td>\n",
              "      <td>0</td>\n",
              "      <td>1</td>\n",
              "      <td>0</td>\n",
              "      <td>...</td>\n",
              "      <td>0.000000</td>\n",
              "      <td>0.000000</td>\n",
              "      <td>1.0</td>\n",
              "      <td>0.0</td>\n",
              "      <td>0.0</td>\n",
              "      <td>0.0</td>\n",
              "      <td>0.0</td>\n",
              "      <td>1.0</td>\n",
              "      <td>1.0</td>\n",
              "      <td>1.0</td>\n",
              "    </tr>\n",
              "    <tr>\n",
              "      <th>1</th>\n",
              "      <td>280</td>\n",
              "      <td>63</td>\n",
              "      <td>2161</td>\n",
              "      <td>2024-02-22</td>\n",
              "      <td>2.079442</td>\n",
              "      <td>8</td>\n",
              "      <td>1</td>\n",
              "      <td>0</td>\n",
              "      <td>1</td>\n",
              "      <td>0</td>\n",
              "      <td>...</td>\n",
              "      <td>0.019956</td>\n",
              "      <td>0.011842</td>\n",
              "      <td>1.0</td>\n",
              "      <td>1.0</td>\n",
              "      <td>0.0</td>\n",
              "      <td>1.0</td>\n",
              "      <td>1.0</td>\n",
              "      <td>0.0</td>\n",
              "      <td>0.0</td>\n",
              "      <td>1.0</td>\n",
              "    </tr>\n",
              "    <tr>\n",
              "      <th>2</th>\n",
              "      <td>2577</td>\n",
              "      <td>63</td>\n",
              "      <td>16605</td>\n",
              "      <td>2024-08-28</td>\n",
              "      <td>6.049733</td>\n",
              "      <td>6</td>\n",
              "      <td>1</td>\n",
              "      <td>0</td>\n",
              "      <td>1</td>\n",
              "      <td>0</td>\n",
              "      <td>...</td>\n",
              "      <td>0.019956</td>\n",
              "      <td>0.011842</td>\n",
              "      <td>1.0</td>\n",
              "      <td>1.0</td>\n",
              "      <td>0.0</td>\n",
              "      <td>1.0</td>\n",
              "      <td>1.0</td>\n",
              "      <td>0.0</td>\n",
              "      <td>0.0</td>\n",
              "      <td>1.0</td>\n",
              "    </tr>\n",
              "    <tr>\n",
              "      <th>3</th>\n",
              "      <td>2578</td>\n",
              "      <td>63</td>\n",
              "      <td>16605</td>\n",
              "      <td>2024-08-27</td>\n",
              "      <td>5.384495</td>\n",
              "      <td>6</td>\n",
              "      <td>1</td>\n",
              "      <td>0</td>\n",
              "      <td>1</td>\n",
              "      <td>0</td>\n",
              "      <td>...</td>\n",
              "      <td>0.019956</td>\n",
              "      <td>0.011842</td>\n",
              "      <td>1.0</td>\n",
              "      <td>1.0</td>\n",
              "      <td>0.0</td>\n",
              "      <td>1.0</td>\n",
              "      <td>1.0</td>\n",
              "      <td>0.0</td>\n",
              "      <td>0.0</td>\n",
              "      <td>1.0</td>\n",
              "    </tr>\n",
              "    <tr>\n",
              "      <th>4</th>\n",
              "      <td>305</td>\n",
              "      <td>63</td>\n",
              "      <td>7917</td>\n",
              "      <td>2024-08-28</td>\n",
              "      <td>6.070738</td>\n",
              "      <td>6</td>\n",
              "      <td>1</td>\n",
              "      <td>0</td>\n",
              "      <td>1</td>\n",
              "      <td>0</td>\n",
              "      <td>...</td>\n",
              "      <td>0.019956</td>\n",
              "      <td>0.011842</td>\n",
              "      <td>1.0</td>\n",
              "      <td>1.0</td>\n",
              "      <td>0.0</td>\n",
              "      <td>1.0</td>\n",
              "      <td>1.0</td>\n",
              "      <td>0.0</td>\n",
              "      <td>0.0</td>\n",
              "      <td>1.0</td>\n",
              "    </tr>\n",
              "  </tbody>\n",
              "</table>\n",
              "<p>5 rows × 62 columns</p>\n",
              "</div>\n",
              "    <div class=\"colab-df-buttons\">\n",
              "\n",
              "  <div class=\"colab-df-container\">\n",
              "    <button class=\"colab-df-convert\" onclick=\"convertToInteractive('df-f1359f55-ac90-448d-ae65-3d232bd39e17')\"\n",
              "            title=\"Convert this dataframe to an interactive table.\"\n",
              "            style=\"display:none;\">\n",
              "\n",
              "  <svg xmlns=\"http://www.w3.org/2000/svg\" height=\"24px\" viewBox=\"0 -960 960 960\">\n",
              "    <path d=\"M120-120v-720h720v720H120Zm60-500h600v-160H180v160Zm220 220h160v-160H400v160Zm0 220h160v-160H400v160ZM180-400h160v-160H180v160Zm440 0h160v-160H620v160ZM180-180h160v-160H180v160Zm440 0h160v-160H620v160Z\"/>\n",
              "  </svg>\n",
              "    </button>\n",
              "\n",
              "  <style>\n",
              "    .colab-df-container {\n",
              "      display:flex;\n",
              "      gap: 12px;\n",
              "    }\n",
              "\n",
              "    .colab-df-convert {\n",
              "      background-color: #E8F0FE;\n",
              "      border: none;\n",
              "      border-radius: 50%;\n",
              "      cursor: pointer;\n",
              "      display: none;\n",
              "      fill: #1967D2;\n",
              "      height: 32px;\n",
              "      padding: 0 0 0 0;\n",
              "      width: 32px;\n",
              "    }\n",
              "\n",
              "    .colab-df-convert:hover {\n",
              "      background-color: #E2EBFA;\n",
              "      box-shadow: 0px 1px 2px rgba(60, 64, 67, 0.3), 0px 1px 3px 1px rgba(60, 64, 67, 0.15);\n",
              "      fill: #174EA6;\n",
              "    }\n",
              "\n",
              "    .colab-df-buttons div {\n",
              "      margin-bottom: 4px;\n",
              "    }\n",
              "\n",
              "    [theme=dark] .colab-df-convert {\n",
              "      background-color: #3B4455;\n",
              "      fill: #D2E3FC;\n",
              "    }\n",
              "\n",
              "    [theme=dark] .colab-df-convert:hover {\n",
              "      background-color: #434B5C;\n",
              "      box-shadow: 0px 1px 3px 1px rgba(0, 0, 0, 0.15);\n",
              "      filter: drop-shadow(0px 1px 2px rgba(0, 0, 0, 0.3));\n",
              "      fill: #FFFFFF;\n",
              "    }\n",
              "  </style>\n",
              "\n",
              "    <script>\n",
              "      const buttonEl =\n",
              "        document.querySelector('#df-f1359f55-ac90-448d-ae65-3d232bd39e17 button.colab-df-convert');\n",
              "      buttonEl.style.display =\n",
              "        google.colab.kernel.accessAllowed ? 'block' : 'none';\n",
              "\n",
              "      async function convertToInteractive(key) {\n",
              "        const element = document.querySelector('#df-f1359f55-ac90-448d-ae65-3d232bd39e17');\n",
              "        const dataTable =\n",
              "          await google.colab.kernel.invokeFunction('convertToInteractive',\n",
              "                                                    [key], {});\n",
              "        if (!dataTable) return;\n",
              "\n",
              "        const docLinkHtml = 'Like what you see? Visit the ' +\n",
              "          '<a target=\"_blank\" href=https://colab.research.google.com/notebooks/data_table.ipynb>data table notebook</a>'\n",
              "          + ' to learn more about interactive tables.';\n",
              "        element.innerHTML = '';\n",
              "        dataTable['output_type'] = 'display_data';\n",
              "        await google.colab.output.renderOutput(dataTable, element);\n",
              "        const docLink = document.createElement('div');\n",
              "        docLink.innerHTML = docLinkHtml;\n",
              "        element.appendChild(docLink);\n",
              "      }\n",
              "    </script>\n",
              "  </div>\n",
              "\n",
              "\n",
              "<div id=\"df-7aed8c67-708b-4622-8467-2d89d25d73cf\">\n",
              "  <button class=\"colab-df-quickchart\" onclick=\"quickchart('df-7aed8c67-708b-4622-8467-2d89d25d73cf')\"\n",
              "            title=\"Suggest charts\"\n",
              "            style=\"display:none;\">\n",
              "\n",
              "<svg xmlns=\"http://www.w3.org/2000/svg\" height=\"24px\"viewBox=\"0 0 24 24\"\n",
              "     width=\"24px\">\n",
              "    <g>\n",
              "        <path d=\"M19 3H5c-1.1 0-2 .9-2 2v14c0 1.1.9 2 2 2h14c1.1 0 2-.9 2-2V5c0-1.1-.9-2-2-2zM9 17H7v-7h2v7zm4 0h-2V7h2v10zm4 0h-2v-4h2v4z\"/>\n",
              "    </g>\n",
              "</svg>\n",
              "  </button>\n",
              "\n",
              "<style>\n",
              "  .colab-df-quickchart {\n",
              "      --bg-color: #E8F0FE;\n",
              "      --fill-color: #1967D2;\n",
              "      --hover-bg-color: #E2EBFA;\n",
              "      --hover-fill-color: #174EA6;\n",
              "      --disabled-fill-color: #AAA;\n",
              "      --disabled-bg-color: #DDD;\n",
              "  }\n",
              "\n",
              "  [theme=dark] .colab-df-quickchart {\n",
              "      --bg-color: #3B4455;\n",
              "      --fill-color: #D2E3FC;\n",
              "      --hover-bg-color: #434B5C;\n",
              "      --hover-fill-color: #FFFFFF;\n",
              "      --disabled-bg-color: #3B4455;\n",
              "      --disabled-fill-color: #666;\n",
              "  }\n",
              "\n",
              "  .colab-df-quickchart {\n",
              "    background-color: var(--bg-color);\n",
              "    border: none;\n",
              "    border-radius: 50%;\n",
              "    cursor: pointer;\n",
              "    display: none;\n",
              "    fill: var(--fill-color);\n",
              "    height: 32px;\n",
              "    padding: 0;\n",
              "    width: 32px;\n",
              "  }\n",
              "\n",
              "  .colab-df-quickchart:hover {\n",
              "    background-color: var(--hover-bg-color);\n",
              "    box-shadow: 0 1px 2px rgba(60, 64, 67, 0.3), 0 1px 3px 1px rgba(60, 64, 67, 0.15);\n",
              "    fill: var(--button-hover-fill-color);\n",
              "  }\n",
              "\n",
              "  .colab-df-quickchart-complete:disabled,\n",
              "  .colab-df-quickchart-complete:disabled:hover {\n",
              "    background-color: var(--disabled-bg-color);\n",
              "    fill: var(--disabled-fill-color);\n",
              "    box-shadow: none;\n",
              "  }\n",
              "\n",
              "  .colab-df-spinner {\n",
              "    border: 2px solid var(--fill-color);\n",
              "    border-color: transparent;\n",
              "    border-bottom-color: var(--fill-color);\n",
              "    animation:\n",
              "      spin 1s steps(1) infinite;\n",
              "  }\n",
              "\n",
              "  @keyframes spin {\n",
              "    0% {\n",
              "      border-color: transparent;\n",
              "      border-bottom-color: var(--fill-color);\n",
              "      border-left-color: var(--fill-color);\n",
              "    }\n",
              "    20% {\n",
              "      border-color: transparent;\n",
              "      border-left-color: var(--fill-color);\n",
              "      border-top-color: var(--fill-color);\n",
              "    }\n",
              "    30% {\n",
              "      border-color: transparent;\n",
              "      border-left-color: var(--fill-color);\n",
              "      border-top-color: var(--fill-color);\n",
              "      border-right-color: var(--fill-color);\n",
              "    }\n",
              "    40% {\n",
              "      border-color: transparent;\n",
              "      border-right-color: var(--fill-color);\n",
              "      border-top-color: var(--fill-color);\n",
              "    }\n",
              "    60% {\n",
              "      border-color: transparent;\n",
              "      border-right-color: var(--fill-color);\n",
              "    }\n",
              "    80% {\n",
              "      border-color: transparent;\n",
              "      border-right-color: var(--fill-color);\n",
              "      border-bottom-color: var(--fill-color);\n",
              "    }\n",
              "    90% {\n",
              "      border-color: transparent;\n",
              "      border-bottom-color: var(--fill-color);\n",
              "    }\n",
              "  }\n",
              "</style>\n",
              "\n",
              "  <script>\n",
              "    async function quickchart(key) {\n",
              "      const quickchartButtonEl =\n",
              "        document.querySelector('#' + key + ' button');\n",
              "      quickchartButtonEl.disabled = true;  // To prevent multiple clicks.\n",
              "      quickchartButtonEl.classList.add('colab-df-spinner');\n",
              "      try {\n",
              "        const charts = await google.colab.kernel.invokeFunction(\n",
              "            'suggestCharts', [key], {});\n",
              "      } catch (error) {\n",
              "        console.error('Error during call to suggestCharts:', error);\n",
              "      }\n",
              "      quickchartButtonEl.classList.remove('colab-df-spinner');\n",
              "      quickchartButtonEl.classList.add('colab-df-quickchart-complete');\n",
              "    }\n",
              "    (() => {\n",
              "      let quickchartButtonEl =\n",
              "        document.querySelector('#df-7aed8c67-708b-4622-8467-2d89d25d73cf button');\n",
              "      quickchartButtonEl.style.display =\n",
              "        google.colab.kernel.accessAllowed ? 'block' : 'none';\n",
              "    })();\n",
              "  </script>\n",
              "</div>\n",
              "\n",
              "    </div>\n",
              "  </div>\n"
            ],
            "application/vnd.google.colaboratory.intrinsic+json": {
              "type": "dataframe",
              "variable_name": "final_df"
            }
          },
          "metadata": {},
          "execution_count": 98
        }
      ]
    },
    {
      "cell_type": "markdown",
      "source": [
        "----------------------------------------------------------------------------------------------------------------------------------------------------------------"
      ],
      "metadata": {
        "id": "3QtkNNDXZKRH"
      }
    },
    {
      "cell_type": "markdown",
      "source": [
        "## Step 3: Data Visualisations\n",
        "\n",
        "Objective is to visualize key aspects of the data to gain a better understanding of the underlying patterns. We focused on analyzing the interrelationships between policy conversions, products, and agents"
      ],
      "metadata": {
        "id": "xlR7ddCvCWhe"
      }
    },
    {
      "cell_type": "markdown",
      "source": [
        "`Visualization 1`: Barplot: Average Product Conversion Rates\n"
      ],
      "metadata": {
        "id": "jHi5kszDJw7X"
      }
    },
    {
      "cell_type": "code",
      "source": [
        "pct_columns = ['pct_prod_0_cnvrt', 'pct_prod_1_cnvrt', 'pct_prod_2_cnvrt',\n",
        "               'pct_prod_3_cnvrt', 'pct_prod_4_cnvrt', 'pct_prod_5_cnvrt',\n",
        "               'pct_prod_6_cnvrt', 'pct_prod_7_cnvrt', 'pct_prod_8_cnvrt',\n",
        "               'pct_prod_9_cnvrt']\n",
        "pct_df = final_df[pct_columns]\n",
        "\n",
        "# Create a list of product names (or labels) for the x-axis\n",
        "product_labels = [f\"Product {i}\" for i in range(10)]\n",
        "\n",
        "# Plot the conversion percentages\n",
        "plt.figure(figsize=(12, 6))\n",
        "sns.barplot(x=product_labels, y=pct_df.mean(), palette='coolwarm')\n",
        "\n",
        "plt.xlabel(\"Product\")\n",
        "plt.ylabel(\"Average Conversion Rates\")\n",
        "plt.title(\"Average Percentage of Products Sold\")\n",
        "plt.xticks(rotation=45)\n",
        "plt.show()"
      ],
      "metadata": {
        "id": "h8CuRN1K_iSD",
        "colab": {
          "base_uri": "https://localhost:8080/",
          "height": 696
        },
        "outputId": "56925fb9-e1fc-42c2-b74c-45df465d14bd"
      },
      "execution_count": null,
      "outputs": [
        {
          "output_type": "stream",
          "name": "stderr",
          "text": [
            "<ipython-input-99-10477e8eae03>:15: FutureWarning: \n",
            "\n",
            "Passing `palette` without assigning `hue` is deprecated and will be removed in v0.14.0. Assign the `x` variable to `hue` and set `legend=False` for the same effect.\n",
            "\n",
            "  sns.barplot(x=product_labels, y=pct_df.mean(), palette='coolwarm')\n"
          ]
        },
        {
          "output_type": "display_data",
          "data": {
            "text/plain": [
              "<Figure size 1200x600 with 1 Axes>"
            ],
            "image/png": "[encoded data removed]"
          },
          "metadata": {}
        }
      ]
    },
    {
      "cell_type": "markdown",
      "source": [
        "`Visualization 2`: Histogram: Agent Tenure vs. Policy Conversions"
      ],
      "metadata": {
        "id": "JEVqFonZAu63"
      }
    },
    {
      "cell_type": "code",
      "source": [
        "# Filter out rows where agent_gender is 2 (unknown gender)\n",
        "filtered_df = final_df[final_df['agent_gender'] != 2]\n",
        "\n",
        "# Remove outliers based on percentiles (1st and 99th percentile)\n",
        "lower_bound = filtered_df['agent_tenure'].quantile(0.01)  # Bottom 1%\n",
        "upper_bound = filtered_df['agent_tenure'].quantile(0.99)  # Top 1%\n",
        "filtered_df = filtered_df[(filtered_df['agent_tenure'] >= lower_bound) & (filtered_df['agent_tenure'] <= upper_bound)]\n",
        "\n",
        "# Create 10 bins for agent_tenure\n",
        "filtered_df['tenure_bin'] = pd.cut(filtered_df['agent_tenure'], bins=10)\n",
        "tenure_grouped = filtered_df.groupby(['tenure_bin', 'agent_gender'])['cnt_converted'].sum().reset_index()\n",
        "\n",
        "# Plot the bar chart\n",
        "plt.figure(figsize=(12, 6))\n",
        "sns.barplot(data=tenure_grouped, x='tenure_bin', y='cnt_converted', hue='agent_gender', palette={0.0: 'lightcoral', 1: 'lightblue'})\n",
        "\n",
        "plt.xlabel(\"Agent Tenure (Binned)\")\n",
        "plt.ylabel(\"Number of Policies Converted\")\n",
        "plt.title(\"Agent Tenure vs. Policy Conversions (Binned)\")\n",
        "handles, labels = plt.gca().get_legend_handles_labels()\n",
        "labels = ['Female' if label == '0.0' else 'Male' for label in labels]\n",
        "plt.legend(handles=handles, labels=labels, title=\"Agent Gender\")\n",
        "plt.xticks(rotation=45)  # Rotate labels for readability\n",
        "plt.show()"
      ],
      "metadata": {
        "id": "go2498jW_q0K",
        "colab": {
          "base_uri": "https://localhost:8080/",
          "height": 686
        },
        "outputId": "c10d796f-f2a6-467f-c89b-bdd4dedf99b1"
      },
      "execution_count": null,
      "outputs": [
        {
          "output_type": "stream",
          "name": "stderr",
          "text": [
            "<ipython-input-100-4fd363154fde>:11: FutureWarning: The default of observed=False is deprecated and will be changed to True in a future version of pandas. Pass observed=False to retain current behavior or observed=True to adopt the future default and silence this warning.\n",
            "  tenure_grouped = filtered_df.groupby(['tenure_bin', 'agent_gender'])['cnt_converted'].sum().reset_index()\n"
          ]
        },
        {
          "output_type": "display_data",
          "data": {
            "text/plain": [
              "<Figure size 1200x600 with 1 Axes>"
            ],
            "image/png": "[encoded data removed]"
          },
          "metadata": {}
        }
      ]
    },
    {
      "cell_type": "markdown",
      "source": [
        "`Visualization 3`: Trendline: Trend of Policy Lapse Rates Based on Socioeconomic Factors\n",
        "\n",
        "(a) Economic Status\n",
        "\n",
        "(b) Household Size Group\n",
        "\n",
        "(c) Family Size Group\n"
      ],
      "metadata": {
        "id": "qI9v1CBCA2pG"
      }
    },
    {
      "cell_type": "code",
      "source": [
        "grouping_factors = ['economic_status', 'household_size_grp', 'family_size_grp']\n",
        "\n",
        "# Loop over the factors to generate plots\n",
        "for factor in grouping_factors:\n",
        "    plt.figure(figsize=(10, 6))\n",
        "\n",
        "    # Group by the factor and calculate the average policy lapse rate\n",
        "    lapse_rate_by_group = final_df.groupby(factor)['pct_lapsed'].mean().reset_index()\n",
        "\n",
        "    # Plot the trend for this factor\n",
        "    sns.lineplot(data=lapse_rate_by_group, x=factor, y='pct_lapsed', marker=\"o\", color=\"darkblue\")\n",
        "\n",
        "    plt.xlabel(factor.replace('_', ' ').title())  # Converts to human-readable label\n",
        "    plt.ylabel(\"Policy Lapse Rate (%)\")\n",
        "    plt.title(f\"Trend of Policy Lapse Rates by {factor.replace('_', ' ').title()}\")\n",
        "    plt.xticks(rotation=45)\n",
        "    plt.show()\n"
      ],
      "metadata": {
        "id": "0vAYrxtj_zzL",
        "colab": {
          "base_uri": "https://localhost:8080/",
          "height": 1000
        },
        "outputId": "c6e3e520-93b5-428c-ae11-80077a21b79d"
      },
      "execution_count": null,
      "outputs": [
        {
          "output_type": "display_data",
          "data": {
            "text/plain": [
              "<Figure size 1000x600 with 1 Axes>"
            ],
            "image/png": "[encoded data removed]"
          },
          "metadata": {}
        },
        {
          "output_type": "display_data",
          "data": {
            "text/plain": [
              "<Figure size 1000x600 with 1 Axes>"
            ],
            "image/png": "[encoded data removed]"
          },
          "metadata": {}
        },
        {
          "output_type": "display_data",
          "data": {
            "text/plain": [
              "<Figure size 1000x600 with 1 Axes>"
            ],
            "image/png": "[encoded data removed]"
          },
          "metadata": {}
        }
      ]
    },
    {
      "cell_type": "markdown",
      "source": [
        "## Step 4: Machine Learning Model Implementation and Evaluation"
      ],
      "metadata": {
        "id": "WwsHB0g4B9-z"
      }
    },
    {
      "cell_type": "markdown",
      "source": [
        "#### Step 4.1: Deciding On The Best Model To Use\n",
        "\n",
        "After we have visualized our data, it is time to implement our Machine Learning model. Since the objective is to develop a model that recommends the best financial advisors for individual customers, this is considered to be a **classification** task. We can make use of a Supervised Machine Learning Model, such as in the form of Decision Trees."
      ],
      "metadata": {
        "id": "AfI76a4g-Hq1"
      }
    },
    {
      "cell_type": "markdown",
      "source": [
        "----------------------------------------------------------------------------------------------------------------------------------------------------------------"
      ],
      "metadata": {
        "id": "OrFRxvXA_R7B"
      }
    },
    {
      "cell_type": "markdown",
      "source": [
        "#### Step 4.2: Decision Tree/Random Forest\n",
        "\n",
        "\n"
      ],
      "metadata": {
        "id": "hRUTz9_Q6xqE"
      }
    },
    {
      "cell_type": "markdown",
      "source": [
        "A method that we can employ for this classification task is to use the Decision Tree model. A Decision Tree is a supervised machine learning algorithm that is commonly used for both classification and regression tasks. It models decisions and their possible consequences in a tree-like structure, resembling a flowchart or hierarchy of decisions. This model breaks down a dataset into subsets based on the features (input variables), making decisions step-by-step, with each decision leading to a further split of the data."
      ],
      "metadata": {
        "id": "qW-neQ2IlQGW"
      }
    },
    {
      "cell_type": "markdown",
      "source": [
        "###### Step 4.2.1: Extracting The Relevant Features To Be Used For The Machine Learning Model"
      ],
      "metadata": {
        "id": "EnWZgG5qAxwe"
      }
    },
    {
      "cell_type": "markdown",
      "source": [
        "The first step is to extract all the relevant features to be used for the Decision Tree Machine Learning model. The variable `X` includes all the relevant independent variables while the varaible `Y` includes the response variable.\n",
        "\n",
        "For the relevant features, we have extracted `cltsex`, `marryd`, `race_desc_map`, `economic_status`, `household_size_grp` and `family_size_grp` to be used for the independent variables and the column `agntnum` to be used as the response variable. This is because we are predicting the most suitable agent based on client's needs to be the success metric of the Decision Tree Machine Learning model."
      ],
      "metadata": {
        "id": "0Fq0ghbNlYKv"
      }
    },
    {
      "cell_type": "code",
      "source": [
        "# Supervised Learning (Decision Tree & Random Forest)\n",
        "features = ['cltsex', 'marryd', 'race_desc_map', 'economic_status',\n",
        "            'household_size_grp', 'family_size_grp']\n",
        "\n",
        "# Independent Variables - X\n",
        "X = final_df[features]\n",
        "\n",
        "# Response Variable - Y\n",
        "y = final_df['agntnum']"
      ],
      "metadata": {
        "id": "T2zIc69vlfaR"
      },
      "execution_count": null,
      "outputs": []
    },
    {
      "cell_type": "markdown",
      "source": [
        "----------------------------------------------------------------------------------------------------------------------------------------------------------------"
      ],
      "metadata": {
        "id": "eDPex4UDl52J"
      }
    },
    {
      "cell_type": "markdown",
      "source": [
        "###### Step 4.2.2: Performing The Train-Test Split"
      ],
      "metadata": {
        "id": "LFYmsC40CpBr"
      }
    },
    {
      "cell_type": "markdown",
      "source": [
        "Next, we need to perform the train-test split on the dataset. We will use 80% of the data to be the training set and the remaining 20% of the data to be the testing set. This can be done via the `train_test_split` method in `sklearn.model_selection`."
      ],
      "metadata": {
        "id": "wOZsHDeSC3P4"
      }
    },
    {
      "cell_type": "code",
      "source": [
        "# Importing the train_test_split method from sklearn\n",
        "from sklearn.model_selection import train_test_split\n",
        "\n",
        "# Performing The Train-Test Split\n",
        "X_train, X_test, y_train, y_test = train_test_split(X, y, test_size = 0.2,\n",
        "                                                    random_state = 42)"
      ],
      "metadata": {
        "id": "MCYWQWRNCe23"
      },
      "execution_count": null,
      "outputs": []
    },
    {
      "cell_type": "markdown",
      "source": [
        "----------------------------------------------------------------------------------------------------------------------------------------------------------------"
      ],
      "metadata": {
        "id": "OZj2dy6dDdWu"
      }
    },
    {
      "cell_type": "markdown",
      "source": [
        "###### Step 4.2.3: Creating The Decision Tree Model"
      ],
      "metadata": {
        "id": "VDDfb2y1D4sH"
      }
    },
    {
      "cell_type": "markdown",
      "source": [
        "To create the Decision Tree model, we can initialize the `DecisionTreeClassifier()` method from `sklearn.tree`. Afterwards, we can fit the Decision Tree model on the training dataset. Subsequently, we can predict the different outcomes `y_pred` using the remaining 20% testing dataset `X_test`."
      ],
      "metadata": {
        "id": "-e4VN1FSEGV8"
      }
    },
    {
      "cell_type": "code",
      "source": [
        "# Importing The DecisionTreeClassifier Model from sklearn\n",
        "from sklearn.tree import DecisionTreeClassifier\n",
        "\n",
        "# Initializing The Decision Tree Model\n",
        "dt_model = DecisionTreeClassifier(random_state = 42, max_depth = 20)\n",
        "\n",
        "# Fitting The Decision Tree Model On Training Dataset\n",
        "dt_model.fit(X_train, y_train)\n",
        "\n",
        "# Predicting The Outcomes On Test Dataset\n",
        "y_pred = dt_model.predict(X_test)"
      ],
      "metadata": {
        "id": "7g4sKJe2E3Ha"
      },
      "execution_count": null,
      "outputs": []
    },
    {
      "cell_type": "markdown",
      "source": [
        "----------------------------------------------------------------------------------------------------------------------------------------------------------------"
      ],
      "metadata": {
        "id": "maAipKmyFK96"
      }
    },
    {
      "cell_type": "markdown",
      "source": [
        "###### Step 4.2.4: Creating The Confusion Matrix Of The Decision Tree Model"
      ],
      "metadata": {
        "id": "H8EQGNy8Iu3N"
      }
    },
    {
      "cell_type": "markdown",
      "source": [
        "We can first display the confusion matrix for the outcomes of the Decision Tree model. A Confusion Matrix is a performance evaluation tool for classification models. It provides a detailed breakdown of the model's predictions by comparing actual versus the predicted values. This helps in understanding where the model makes correct and incorrect predictions.\n",
        "\n",
        "To implement the confusion matrix, we need to use the `confusion_matrix` method from the `sklearn.metrics` package."
      ],
      "metadata": {
        "id": "SIBtGQW2I9jZ"
      }
    },
    {
      "cell_type": "code",
      "source": [
        "# Importing confusion_matrix from sklearn\n",
        "from sklearn.metrics import confusion_matrix\n",
        "\n",
        "# Creating The Confusion Matrix For Decision Tree\n",
        "dt_matrix = confusion_matrix(y_test, y_pred)\n",
        "dt_matrix"
      ],
      "metadata": {
        "id": "038pBub7Jb-7",
        "colab": {
          "base_uri": "https://localhost:8080/"
        },
        "outputId": "197adaf5-f56d-4582-9a46-3bda67f5c8a7"
      },
      "execution_count": null,
      "outputs": [
        {
          "output_type": "execute_result",
          "data": {
            "text/plain": [
              "array([[0, 0, 0, ..., 0, 0, 0],\n",
              "       [1, 1, 0, ..., 0, 0, 0],\n",
              "       [0, 0, 2, ..., 0, 0, 0],\n",
              "       ...,\n",
              "       [0, 0, 0, ..., 0, 0, 0],\n",
              "       [0, 0, 0, ..., 0, 0, 0],\n",
              "       [0, 0, 0, ..., 0, 0, 0]])"
            ]
          },
          "metadata": {},
          "execution_count": 105
        }
      ]
    },
    {
      "cell_type": "markdown",
      "source": [
        "----------------------------------------------------------------------------------------------------------------------------------------------------------------"
      ],
      "metadata": {
        "id": "o2CPOeenML3a"
      }
    },
    {
      "cell_type": "markdown",
      "source": [
        "###### Step 4.2.5: Evaluating The Accuracy Metrics Of The Decision Tree Model:\n",
        "\n"
      ],
      "metadata": {
        "id": "iNzMDDgEFNcE"
      }
    },
    {
      "cell_type": "markdown",
      "source": [
        "When evaluating the performance of a Machine Learning model, especially for classification tasks such as Decision Tree Models, several key metrics are used. Below is a description of the most commonly used metrics: **accuracy**, **recall**, **precision** and **F1-score**."
      ],
      "metadata": {
        "id": "NDET_32xF5he"
      }
    },
    {
      "cell_type": "markdown",
      "source": [
        "1) **Accuracy** - Accuracy measures the overall correctness of the model by calculating the proportion of correctly classified instances out of the total number of instances.\n",
        "\n",
        "                 Accuracy = (TP + TN) / (TP + FP + TN + FN)\n",
        "\n",
        "2) **Precision** - Precision measures how many of the predicted positive cases were actually positive. It is also known as Positive Predictive Value (PPV).\n",
        "\n",
        "                 Precision = TP / (TP + FP)\n",
        "\n",
        "3) **Recall** - Recall measures how many actual positive cases were correctly predicted.\n",
        "\n",
        "                 Recall = TP / (TP + FN)\n",
        "\n",
        "4) **F1-Score** - The F1-score is the harmonic mean of precision and recall, providing a balanced metric when there is an uneven class distribution.\n",
        "\n",
        "                 F1-Score = 2 * ((Precision * Recall) / (Precision + Recall))\n",
        "\n",
        "\n",
        "where:\n",
        "\n",
        "TP (True Positives): Correctly predicted positive cases\n",
        "\n",
        "TN (True Negatives): Correctly predicted negative cases\n",
        "\n",
        "FP (False Positives): Incorrectly predicted positive cases\n",
        "\n",
        "FN (False Negatives): Incorrectly predicted negative cases\n",
        "\n",
        "We can rely on the `accuracy_score`, `precision_score`, `recall_score` and `f1_score` methods from the `sklearn.metrics` package to perform the computations."
      ],
      "metadata": {
        "id": "IWE_z7gGG1wY"
      }
    },
    {
      "cell_type": "code",
      "source": [
        "# Importing The Necessary Metrices To Consider from sklearn\n",
        "from sklearn.metrics import accuracy_score, precision_score, recall_score, f1_score\n",
        "\n",
        "# Calculating The Accuracy, Precision, Recall and F1-Scores of Decision Tree\n",
        "dt_accuracy = accuracy_score(y_test, y_pred)\n",
        "dt_precision = precision_score(y_test, y_pred, average = 'weighted', zero_division = 0)\n",
        "dt_recall = recall_score(y_test, y_pred, average = 'weighted', zero_division = 0)\n",
        "dt_f1 = f1_score(y_test, y_pred, average = 'weighted')\n",
        "\n",
        "# Printing The Scores\n",
        "print(\"Decision Tree Model Accuracy:\", round(dt_accuracy, 4))\n",
        "print(\"Decision Tree Model Precision:\", round(dt_precision, 4))\n",
        "print(\"Decision Tree Model Recall:\", round(dt_recall, 4))\n",
        "print(\"Decision Tree Model F1-Score:\", round(dt_f1, 4))"
      ],
      "metadata": {
        "colab": {
          "base_uri": "https://localhost:8080/"
        },
        "id": "LSHD0AfaFoRT",
        "outputId": "0ec7a548-e4db-4545-b4ec-0140f9ec8b92"
      },
      "execution_count": null,
      "outputs": [
        {
          "output_type": "stream",
          "name": "stdout",
          "text": [
            "Decision Tree Model Accuracy: 0.1798\n",
            "Decision Tree Model Precision: 0.1532\n",
            "Decision Tree Model Recall: 0.1798\n",
            "Decision Tree Model F1-Score: 0.1508\n"
          ]
        }
      ]
    },
    {
      "cell_type": "markdown",
      "source": [
        "The accuracy metrices of the Decision Tree model is less than 0.2, which is rather low. For 10 clients, only around 2 agents are predicted correctly. The accuracy metrics scores are highly concerning and we need to devise strategies to improve the accuracy of the Decision Tree model which will be done in subsequent steps."
      ],
      "metadata": {
        "id": "RVfj9d8ie_EW"
      }
    },
    {
      "cell_type": "markdown",
      "source": [
        "----------------------------------------------------------------------------------------------------------------------------------------------------------------"
      ],
      "metadata": {
        "id": "KIo_RtwwMVuv"
      }
    },
    {
      "cell_type": "markdown",
      "source": [
        "###### Step 4.2.6: Determining The Runtime Of The Decision Tree Model"
      ],
      "metadata": {
        "id": "qUa_ag4lMYoF"
      }
    },
    {
      "cell_type": "markdown",
      "source": [
        "Not only do we need to consider the accuracy of the model, we also need to consider other aspects such as runtime (efficiency) to gauge the effectiveness of the model. Runtime refers to the time it takes for a machine learning model to execute specific operations, such as training, inference (prediction), and evaluation. It is a key factor in assessing the efficiency and feasibility of a model, especially for real-time applications. We require the model to have sufficiently fast runtime in order to be deemed suitable.\n",
        "\n",
        "To calculate the runtime of the Decision Tree model, we need to import `time` from the time package. We also require a start time and an end time for the Decision Tree training and evaluation processes."
      ],
      "metadata": {
        "id": "vH0pCDH0Mf1n"
      }
    },
    {
      "cell_type": "code",
      "source": [
        "# Importing Time\n",
        "import time\n",
        "\n",
        "# Start timer\n",
        "start_time = time.time()\n",
        "\n",
        "# Decision Tree Process In Step 4.2.3\n",
        "dt_model.fit(X_train, y_train)\n",
        "y_pred = dt_model.predict(X_test)\n",
        "\n",
        "# Stop timer\n",
        "end_time = time.time()\n",
        "\n",
        "# Time Difference Calculation\n",
        "time_diff_dt = end_time - start_time\n",
        "\n",
        "print(f\"Decision Tree RunTime: {time_diff_dt:.2f} seconds\")"
      ],
      "metadata": {
        "colab": {
          "base_uri": "https://localhost:8080/"
        },
        "id": "y-Z35XwiNYWv",
        "outputId": "5673532a-89c8-40c8-dea5-6c220a3f5cc7"
      },
      "execution_count": null,
      "outputs": [
        {
          "output_type": "stream",
          "name": "stdout",
          "text": [
            "Decision Tree RunTime: 1.87 seconds\n"
          ]
        }
      ]
    },
    {
      "cell_type": "markdown",
      "source": [
        "The runtime of the Decision Tree model is around 2 to 3 seconds."
      ],
      "metadata": {
        "id": "f3B4Z5MafZjm"
      }
    },
    {
      "cell_type": "markdown",
      "source": [
        "----------------------------------------------------------------------------------------------------------------------------------------------------------------"
      ],
      "metadata": {
        "id": "69ssR4M_VjRd"
      }
    },
    {
      "cell_type": "markdown",
      "source": [
        "###### Step 4.2.7: Creating The Random Forest Model"
      ],
      "metadata": {
        "id": "_O6bwpH9ECGm"
      }
    },
    {
      "cell_type": "markdown",
      "source": [
        "A Random Forest is a versatile and powerful ensemble machine learning model used for both classification and regression tasks. It is an improvement over decision trees, designed to reduce overfitting and improve predictive performance. The model builds multiple decision trees during training and combines their outputs to make more robust and accurate predictions.\n",
        "\n",
        "Random Forest is an ensemble method, which means it combines the predictions of multiple models (decision trees in this case) to achieve better performance.\n",
        "Each tree in the forest is trained on a slightly different subset of the data, and the final prediction is derived by aggregating the predictions of all the trees (e.g., majority voting for classification, averaging for regression).\n",
        "\n",
        "To implement the Random Forest model, we need to use the `RandomForestClassifier` method from `sklearn.ensemble`. Afterwards, we perform similar steps - training, fitting, predicting and evaluating for the Random Forest model.\n",
        "\n",
        "In a Random Forest model, `n_estimators` refers to the number of individual decision trees that the model will build and use for making predictions. We set a default value of 10."
      ],
      "metadata": {
        "id": "iEM0O_EeW17R"
      }
    },
    {
      "cell_type": "code",
      "source": [
        "# Importing The Random Forest Classifier from sklearn\n",
        "from sklearn.ensemble import RandomForestClassifier\n",
        "\n",
        "# Initializing The Random Forest Model\n",
        "rf_model = RandomForestClassifier(n_estimators = 10, random_state = 42)\n",
        "\n",
        "# Fitting The Random Forest Model On Training Dataset\n",
        "rf_model.fit(X_train, y_train)\n",
        "\n",
        "# Predicting The Outcomes On Test Dataset\n",
        "rf_pred = rf_model.predict(X_test)"
      ],
      "metadata": {
        "id": "vsHVE1h_DRjs"
      },
      "execution_count": null,
      "outputs": []
    },
    {
      "cell_type": "markdown",
      "source": [
        "----------------------------------------------------------------------------------------------------------------------------------------------------------------"
      ],
      "metadata": {
        "id": "p4tQQS2DYy78"
      }
    },
    {
      "cell_type": "markdown",
      "source": [
        "###### Step 4.2.8: Creating The Confusion Matrix Of The Random Forest Model"
      ],
      "metadata": {
        "id": "gUh-BGOyZCjL"
      }
    },
    {
      "cell_type": "code",
      "source": [
        "# Creating The Confusion Matrix For Random Forest\n",
        "rf_matrix = confusion_matrix(y_test, rf_pred)\n",
        "rf_matrix"
      ],
      "metadata": {
        "id": "TAFx-IbUfi8r",
        "colab": {
          "base_uri": "https://localhost:8080/"
        },
        "outputId": "a7de0344-a731-4c02-bd76-2fec7ce63f17"
      },
      "execution_count": null,
      "outputs": [
        {
          "output_type": "execute_result",
          "data": {
            "text/plain": [
              "array([[0, 0, 0, ..., 0, 0, 0],\n",
              "       [0, 1, 0, ..., 0, 0, 0],\n",
              "       [0, 0, 2, ..., 0, 0, 0],\n",
              "       ...,\n",
              "       [0, 0, 0, ..., 0, 0, 0],\n",
              "       [0, 0, 0, ..., 0, 0, 0],\n",
              "       [0, 0, 0, ..., 0, 0, 0]])"
            ]
          },
          "metadata": {},
          "execution_count": 109
        }
      ]
    },
    {
      "cell_type": "markdown",
      "source": [
        "----------------------------------------------------------------------------------------------------------------------------------------------------------------"
      ],
      "metadata": {
        "id": "mFkm12ZraOsv"
      }
    },
    {
      "cell_type": "markdown",
      "source": [
        "###### Step 4.2.9: Evaluating The Accuracy Metrics Of The Random Forest Model:"
      ],
      "metadata": {
        "id": "zJjkVneIZLrR"
      }
    },
    {
      "cell_type": "markdown",
      "source": [
        "Similar to the Decision Trees, we can evaluate the accuracy, precision, recall and F1-Scores of the Random Forest model using `accuracy_score`, `precision_score`, `recall_score` and `f1_score` respectively."
      ],
      "metadata": {
        "id": "nI6h9S85Z954"
      }
    },
    {
      "cell_type": "code",
      "source": [
        "# Calculating The Accuracy, Precision, Recall and F1-Scores of Random Forest\n",
        "rf_accuracy = accuracy_score(y_test, rf_pred)\n",
        "rf_precision = precision_score(y_test, rf_pred, average = 'weighted', zero_division = 0)\n",
        "rf_recall = recall_score(y_test, rf_pred, average = 'weighted', zero_division = 0)\n",
        "rf_f1 = f1_score(y_test, rf_pred, average = 'weighted')\n",
        "\n",
        "# Printing The Scores\n",
        "print(\"Random Forest Model Accuracy:\", round(rf_accuracy, 4))\n",
        "print(\"Random Forest Model Precision:\", round(rf_precision, 4))\n",
        "print(\"Random Forest Model Recall:\", round(rf_recall, 4))\n",
        "print(\"Random Forest Model F1-Score:\", round(rf_f1, 4))"
      ],
      "metadata": {
        "colab": {
          "base_uri": "https://localhost:8080/"
        },
        "id": "L50ksYNdYPGY",
        "outputId": "eb243920-2a3a-4af0-bb6d-43e12a341bed"
      },
      "execution_count": null,
      "outputs": [
        {
          "output_type": "stream",
          "name": "stdout",
          "text": [
            "Random Forest Model Accuracy: 0.2159\n",
            "Random Forest Model Precision: 0.1962\n",
            "Random Forest Model Recall: 0.2159\n",
            "Random Forest Model F1-Score: 0.1909\n"
          ]
        }
      ]
    },
    {
      "cell_type": "markdown",
      "source": [
        "We observe that the accuracy, precision, recall and F1-score of the Random Forest model is also around 0.2 to 0.25, similar to the Decision Tree model. The accuracy metrics scores are highly concerning and we need to devise strategies to improve the accuracy of the Random Forest model which will be done in subsequent steps."
      ],
      "metadata": {
        "id": "c2Xltc9UaVAg"
      }
    },
    {
      "cell_type": "markdown",
      "source": [
        "----------------------------------------------------------------------------------------------------------------------------------------------------------------"
      ],
      "metadata": {
        "id": "qO2NShCrcWry"
      }
    },
    {
      "cell_type": "markdown",
      "source": [
        "###### Step 4.2.10: Evaluating The Runtime Of The Random Forest Model:\n"
      ],
      "metadata": {
        "id": "bipQ8zTfalDS"
      }
    },
    {
      "cell_type": "markdown",
      "source": [
        "Similarly, we can evaluate the runtime of the Random Forest Model using the `time` method."
      ],
      "metadata": {
        "id": "iVxt5LqsbvNQ"
      }
    },
    {
      "cell_type": "code",
      "source": [
        "# Importing Time\n",
        "import time\n",
        "\n",
        "# Start timer\n",
        "start_time = time.time()\n",
        "\n",
        "# Random Forest Process In Step 4.2.7\n",
        "rf_model = RandomForestClassifier(n_estimators = 10, random_state = 42)\n",
        "rf_model.fit(X_train, y_train)\n",
        "rf_pred = rf_model.predict(X_test)\n",
        "\n",
        "# Stop timer\n",
        "end_time = time.time()\n",
        "\n",
        "# Time Difference Calculation\n",
        "time_diff_rf = end_time - start_time\n",
        "\n",
        "print(f\"Random Forest RunTime: {time_diff_rf:.2f} seconds\")"
      ],
      "metadata": {
        "colab": {
          "base_uri": "https://localhost:8080/"
        },
        "id": "NelkzRaRbHNW",
        "outputId": "9d611c24-f695-4566-dffc-79ba82c795e9"
      },
      "execution_count": null,
      "outputs": [
        {
          "output_type": "stream",
          "name": "stdout",
          "text": [
            "Random Forest RunTime: 18.20 seconds\n"
          ]
        }
      ]
    },
    {
      "cell_type": "markdown",
      "source": [
        "The runtime of the Random Forest Model is around 20 seconds, which is much longer than the Decision Tree model of around 5 seconds. This is expected as a Random Forest is an ensemble learning method, meaning it builds many decision trees (as specified by the n_estimators parameter). The runtime increases proportionally to the number of trees. If the Random Forest has 100 trees, for instance, it needs to train and make predictions with each of those 100 trees, compared to just a single tree in the Decision Tree model."
      ],
      "metadata": {
        "id": "SAijS3ltb3xX"
      }
    },
    {
      "cell_type": "markdown",
      "source": [
        "----------------------------------------------------------------------------------------------------------------------------------------------------------------"
      ],
      "metadata": {
        "id": "CJICmuz5gOtB"
      }
    },
    {
      "cell_type": "markdown",
      "source": [
        "###### Step 4.2.11: Testing The Random Forest Model"
      ],
      "metadata": {
        "id": "yEdx_deYgop0"
      }
    },
    {
      "cell_type": "markdown",
      "source": [
        "After implementing the Decision Tree and Random Forest model, we can subsequently test the models. We will choose the Random Forest Model as an example to illustrate.\n",
        "\n",
        "We need to define a function that helps to recommend the most suitable agent from the various characteristics of the clients (the independent variables). Given the clients sex, marriage status, race, economic status, household size group category and family size group category."
      ],
      "metadata": {
        "id": "Y26Za19qiobQ"
      }
    },
    {
      "cell_type": "code",
      "source": [
        "# Define The Recommendation Function\n",
        "def recommend_best_agent(customer_features):\n",
        "    customer_df = pd.DataFrame([customer_features])\n",
        "    predicted_agent = rf_model.predict(customer_df)\n",
        "    return predicted_agent[0]\n",
        "\n",
        "# Example Customer Input (2 customers)\n",
        "customer_one_features = {'cltsex': 1, 'marryd': 1, 'race_desc_map': 0,\n",
        "                         'economic_status': 50, 'household_size_grp': 2,\n",
        "                         'family_size_grp': 2}\n",
        "\n",
        "customer_two_features = {'cltsex': 0, 'marryd': 2, 'race_desc_map': 1,\n",
        "                         'economic_status': 20, 'household_size_grp': 5,\n",
        "                         'family_size_grp': 4}\n",
        "\n",
        "# Finding Their Recommended Agents\n",
        "recommended_agent_one = recommend_best_agent(customer_one_features)\n",
        "recommended_agent_two = recommend_best_agent(customer_two_features)\n",
        "\n",
        "print(\"Recommended Financial Advisor For Customer One:\", recommended_agent_one)\n",
        "print(\"Recommended Financial Advisor For Customer Two:\", recommended_agent_two)"
      ],
      "metadata": {
        "id": "U4Qbx_t1yvPW",
        "colab": {
          "base_uri": "https://localhost:8080/"
        },
        "outputId": "1b30e50f-259b-4d5b-f5a6-b900d1e2002c"
      },
      "execution_count": null,
      "outputs": [
        {
          "output_type": "stream",
          "name": "stdout",
          "text": [
            "Recommended Financial Advisor For Customer One: 7258\n",
            "Recommended Financial Advisor For Customer Two: 304\n"
          ]
        }
      ]
    },
    {
      "cell_type": "markdown",
      "source": [
        "----------------------------------------------------------------------------------------------------------------------------------------------------------------"
      ],
      "metadata": {
        "id": "Yvev58DrlOfB"
      }
    },
    {
      "cell_type": "markdown",
      "source": [
        "## Step 6: Machine Learning Model Optimization"
      ],
      "metadata": {
        "id": "3WExytZ4Cid0"
      }
    },
    {
      "cell_type": "markdown",
      "source": [
        "As our accuracy of the unoptimised Random Forest model is around 0.2, which is considered low, we can make use of several optimization strategies to boost our Machine Learning Model.\n",
        "\n",
        "The Four Optimization Strategies Include:\n",
        "\n",
        "**1) Hyperparameter Tuning Via Grid Search CV**\n",
        "\n",
        "**2) Hyperparameter Tuning Via Randomized Search CV**\n",
        "\n",
        "**3) Bagging**\n",
        "\n",
        "**4) Boosting Using XGBoost Model**\n"
      ],
      "metadata": {
        "id": "uOVjszEGEiTQ"
      }
    },
    {
      "cell_type": "markdown",
      "source": [
        "----------------------------------------------------------------------------------------------------------------------------------------------------------------"
      ],
      "metadata": {
        "id": "rV-Fj6-RRbX8"
      }
    },
    {
      "cell_type": "markdown",
      "source": [
        "#### Step 6.1: Optimizing Via Hyperparameter Tuning - GridSearchCV"
      ],
      "metadata": {
        "id": "qnfzS8X1GVVL"
      }
    },
    {
      "cell_type": "markdown",
      "source": [
        "`GridSearchCV` is a hyperparameter tuning technique in scikit-learn that automates the process of finding the optimal hyperparameters for a machine learning model. It performs an exhaustive search over a specified grid of hyperparameter values using cross-validation to evaluate model performance.\n",
        "\n",
        "There are several parameters that we can use fot the `GridSearchCV` process - `n_estimators`, `max_depth` and `min_samples_split.`\n",
        "\n",
        "`n_estimators`: Defines as the number of trees in the Random Forest.\n",
        "\n",
        "`max_depth`: The maximum depth of each decision tree.\n",
        "\n",
        "`min_samples_split`: The minimum number of samples required to split an internal node.\n",
        "\n",
        "We can define lists of possible values for each of the three parameters `n_estimators`, `max_depth` and `min_samples_split` for `GridSearchCV` to serach for the most optimal parameter values that give the highest accuracy.\n"
      ],
      "metadata": {
        "id": "mnvcrvlnGwjA"
      }
    },
    {
      "cell_type": "code",
      "source": [
        "# Importing GridSearchCV for sklearn\n",
        "from sklearn.model_selection import GridSearchCV\n",
        "\n",
        "# Defining parameter grid for Random Forest\n",
        "param_grid = {\n",
        "    'n_estimators': [20, 50, 100],\n",
        "    'max_depth': [5, 10, 15],\n",
        "    'min_samples_split': [2, 4, 6]\n",
        "}"
      ],
      "metadata": {
        "id": "eqmflhpyvLCg"
      },
      "execution_count": null,
      "outputs": []
    },
    {
      "cell_type": "markdown",
      "source": [
        "After defining the possible parameter values for the `n_estimators`, `max_depth` and `min_samples_split`, we can perform the `GridSearchCV` using a default `random_state` of 42 with a `scoring` metric of accuracy. Afterwards, we can fit the model using the `.fit()` method subsequently obtain the best parameter values using the `.best_params` method."
      ],
      "metadata": {
        "id": "XirZG06xIN4K"
      }
    },
    {
      "cell_type": "code",
      "source": [
        "# Performing GridSearchCV Using The Parameter Values Defined Above\n",
        "rf_grid = GridSearchCV(RandomForestClassifier(random_state = 42), param_grid,\n",
        "                       cv = 3, scoring = 'accuracy')\n",
        "\n",
        "# Fitting The Model\n",
        "rf_grid.fit(X_train, y_train)\n",
        "\n",
        "# Printing Out The Best parameters\n",
        "print(\"Best parameters:\", rf_grid.best_params_)"
      ],
      "metadata": {
        "colab": {
          "base_uri": "https://localhost:8080/",
          "height": 401
        },
        "id": "jyzZmFKWICEI",
        "outputId": "6b5e14b3-d3eb-4b07-cc86-37e62e8a9719"
      },
      "execution_count": null,
      "outputs": [
        {
          "output_type": "stream",
          "name": "stderr",
          "text": [
            "/usr/local/lib/python3.11/dist-packages/sklearn/model_selection/_split.py:805: UserWarning: The least populated class in y has only 1 members, which is less than n_splits=5.\n",
            "  warnings.warn(\n"
          ]
        },
        {
          "output_type": "error",
          "ename": "KeyboardInterrupt",
          "evalue": "",
          "traceback": [
            "\u001b[0;31m---------------------------------------------------------------------------\u001b[0m",
            "\u001b[0;31mKeyboardInterrupt\u001b[0m                         Traceback (most recent call last)",
            "\u001b[0;32m<ipython-input-114-ea57c4b715a5>\u001b[0m in \u001b[0;36m<cell line: 0>\u001b[0;34m()\u001b[0m\n\u001b[1;32m      7\u001b[0m \u001b[0;34m\u001b[0m\u001b[0m\n\u001b[1;32m      8\u001b[0m \u001b[0;31m# Fitting The Model\u001b[0m\u001b[0;34m\u001b[0m\u001b[0;34m\u001b[0m\u001b[0m\n\u001b[0;32m----> 9\u001b[0;31m \u001b[0mrf_grid\u001b[0m\u001b[0;34m.\u001b[0m\u001b[0mfit\u001b[0m\u001b[0;34m(\u001b[0m\u001b[0mX_train\u001b[0m\u001b[0;34m,\u001b[0m \u001b[0my_train\u001b[0m\u001b[0;34m)\u001b[0m\u001b[0;34m\u001b[0m\u001b[0;34m\u001b[0m\u001b[0m\n\u001b[0m\u001b[1;32m     10\u001b[0m \u001b[0;34m\u001b[0m\u001b[0m\n\u001b[1;32m     11\u001b[0m \u001b[0;31m# Printing Out The Best parameters\u001b[0m\u001b[0;34m\u001b[0m\u001b[0;34m\u001b[0m\u001b[0m\n",
            "\u001b[0;32m/usr/local/lib/python3.11/dist-packages/sklearn/base.py\u001b[0m in \u001b[0;36mwrapper\u001b[0;34m(estimator, *args, **kwargs)\u001b[0m\n\u001b[1;32m   1387\u001b[0m                 )\n\u001b[1;32m   1388\u001b[0m             ):\n\u001b[0;32m-> 1389\u001b[0;31m                 \u001b[0;32mreturn\u001b[0m \u001b[0mfit_method\u001b[0m\u001b[0;34m(\u001b[0m\u001b[0mestimator\u001b[0m\u001b[0;34m,\u001b[0m \u001b[0;34m*\u001b[0m\u001b[0margs\u001b[0m\u001b[0;34m,\u001b[0m \u001b[0;34m**\u001b[0m\u001b[0mkwargs\u001b[0m\u001b[0;34m)\u001b[0m\u001b[0;34m\u001b[0m\u001b[0;34m\u001b[0m\u001b[0m\n\u001b[0m\u001b[1;32m   1390\u001b[0m \u001b[0;34m\u001b[0m\u001b[0m\n\u001b[1;32m   1391\u001b[0m         \u001b[0;32mreturn\u001b[0m \u001b[0mwrapper\u001b[0m\u001b[0;34m\u001b[0m\u001b[0;34m\u001b[0m\u001b[0m\n",
            "\u001b[0;32m/usr/local/lib/python3.11/dist-packages/sklearn/model_selection/_search.py\u001b[0m in \u001b[0;36mfit\u001b[0;34m(self, X, y, **params)\u001b[0m\n\u001b[1;32m   1022\u001b[0m                 \u001b[0;32mreturn\u001b[0m \u001b[0mresults\u001b[0m\u001b[0;34m\u001b[0m\u001b[0;34m\u001b[0m\u001b[0m\n\u001b[1;32m   1023\u001b[0m \u001b[0;34m\u001b[0m\u001b[0m\n\u001b[0;32m-> 1024\u001b[0;31m             \u001b[0mself\u001b[0m\u001b[0;34m.\u001b[0m\u001b[0m_run_search\u001b[0m\u001b[0;34m(\u001b[0m\u001b[0mevaluate_candidates\u001b[0m\u001b[0;34m)\u001b[0m\u001b[0;34m\u001b[0m\u001b[0;34m\u001b[0m\u001b[0m\n\u001b[0m\u001b[1;32m   1025\u001b[0m \u001b[0;34m\u001b[0m\u001b[0m\n\u001b[1;32m   1026\u001b[0m             \u001b[0;31m# multimetric is determined here because in the case of a callable\u001b[0m\u001b[0;34m\u001b[0m\u001b[0;34m\u001b[0m\u001b[0m\n",
            "\u001b[0;32m/usr/local/lib/python3.11/dist-packages/sklearn/model_selection/_search.py\u001b[0m in \u001b[0;36m_run_search\u001b[0;34m(self, evaluate_candidates)\u001b[0m\n\u001b[1;32m   1569\u001b[0m     \u001b[0;32mdef\u001b[0m \u001b[0m_run_search\u001b[0m\u001b[0;34m(\u001b[0m\u001b[0mself\u001b[0m\u001b[0;34m,\u001b[0m \u001b[0mevaluate_candidates\u001b[0m\u001b[0;34m)\u001b[0m\u001b[0;34m:\u001b[0m\u001b[0;34m\u001b[0m\u001b[0;34m\u001b[0m\u001b[0m\n\u001b[1;32m   1570\u001b[0m         \u001b[0;34m\"\"\"Search all candidates in param_grid\"\"\"\u001b[0m\u001b[0;34m\u001b[0m\u001b[0;34m\u001b[0m\u001b[0m\n\u001b[0;32m-> 1571\u001b[0;31m         \u001b[0mevaluate_candidates\u001b[0m\u001b[0;34m(\u001b[0m\u001b[0mParameterGrid\u001b[0m\u001b[0;34m(\u001b[0m\u001b[0mself\u001b[0m\u001b[0;34m.\u001b[0m\u001b[0mparam_grid\u001b[0m\u001b[0;34m)\u001b[0m\u001b[0;34m)\u001b[0m\u001b[0;34m\u001b[0m\u001b[0;34m\u001b[0m\u001b[0m\n\u001b[0m\u001b[1;32m   1572\u001b[0m \u001b[0;34m\u001b[0m\u001b[0m\n\u001b[1;32m   1573\u001b[0m \u001b[0;34m\u001b[0m\u001b[0m\n",
            "\u001b[0;32m/usr/local/lib/python3.11/dist-packages/sklearn/model_selection/_search.py\u001b[0m in \u001b[0;36mevaluate_candidates\u001b[0;34m(candidate_params, cv, more_results)\u001b[0m\n\u001b[1;32m    968\u001b[0m                     )\n\u001b[1;32m    969\u001b[0m \u001b[0;34m\u001b[0m\u001b[0m\n\u001b[0;32m--> 970\u001b[0;31m                 out = parallel(\n\u001b[0m\u001b[1;32m    971\u001b[0m                     delayed(_fit_and_score)(\n\u001b[1;32m    972\u001b[0m                         \u001b[0mclone\u001b[0m\u001b[0;34m(\u001b[0m\u001b[0mbase_estimator\u001b[0m\u001b[0;34m)\u001b[0m\u001b[0;34m,\u001b[0m\u001b[0;34m\u001b[0m\u001b[0;34m\u001b[0m\u001b[0m\n",
            "\u001b[0;32m/usr/local/lib/python3.11/dist-packages/sklearn/utils/parallel.py\u001b[0m in \u001b[0;36m__call__\u001b[0;34m(self, iterable)\u001b[0m\n\u001b[1;32m     75\u001b[0m             \u001b[0;32mfor\u001b[0m \u001b[0mdelayed_func\u001b[0m\u001b[0;34m,\u001b[0m \u001b[0margs\u001b[0m\u001b[0;34m,\u001b[0m \u001b[0mkwargs\u001b[0m \u001b[0;32min\u001b[0m \u001b[0miterable\u001b[0m\u001b[0;34m\u001b[0m\u001b[0;34m\u001b[0m\u001b[0m\n\u001b[1;32m     76\u001b[0m         )\n\u001b[0;32m---> 77\u001b[0;31m         \u001b[0;32mreturn\u001b[0m \u001b[0msuper\u001b[0m\u001b[0;34m(\u001b[0m\u001b[0;34m)\u001b[0m\u001b[0;34m.\u001b[0m\u001b[0m__call__\u001b[0m\u001b[0;34m(\u001b[0m\u001b[0miterable_with_config\u001b[0m\u001b[0;34m)\u001b[0m\u001b[0;34m\u001b[0m\u001b[0;34m\u001b[0m\u001b[0m\n\u001b[0m\u001b[1;32m     78\u001b[0m \u001b[0;34m\u001b[0m\u001b[0m\n\u001b[1;32m     79\u001b[0m \u001b[0;34m\u001b[0m\u001b[0m\n",
            "\u001b[0;32m/usr/local/lib/python3.11/dist-packages/joblib/parallel.py\u001b[0m in \u001b[0;36m__call__\u001b[0;34m(self, iterable)\u001b[0m\n\u001b[1;32m   1916\u001b[0m             \u001b[0moutput\u001b[0m \u001b[0;34m=\u001b[0m \u001b[0mself\u001b[0m\u001b[0;34m.\u001b[0m\u001b[0m_get_sequential_output\u001b[0m\u001b[0;34m(\u001b[0m\u001b[0miterable\u001b[0m\u001b[0;34m)\u001b[0m\u001b[0;34m\u001b[0m\u001b[0;34m\u001b[0m\u001b[0m\n\u001b[1;32m   1917\u001b[0m             \u001b[0mnext\u001b[0m\u001b[0;34m(\u001b[0m\u001b[0moutput\u001b[0m\u001b[0;34m)\u001b[0m\u001b[0;34m\u001b[0m\u001b[0;34m\u001b[0m\u001b[0m\n\u001b[0;32m-> 1918\u001b[0;31m             \u001b[0;32mreturn\u001b[0m \u001b[0moutput\u001b[0m \u001b[0;32mif\u001b[0m \u001b[0mself\u001b[0m\u001b[0;34m.\u001b[0m\u001b[0mreturn_generator\u001b[0m \u001b[0;32melse\u001b[0m \u001b[0mlist\u001b[0m\u001b[0;34m(\u001b[0m\u001b[0moutput\u001b[0m\u001b[0;34m)\u001b[0m\u001b[0;34m\u001b[0m\u001b[0;34m\u001b[0m\u001b[0m\n\u001b[0m\u001b[1;32m   1919\u001b[0m \u001b[0;34m\u001b[0m\u001b[0m\n\u001b[1;32m   1920\u001b[0m         \u001b[0;31m# Let's create an ID that uniquely identifies the current call. If the\u001b[0m\u001b[0;34m\u001b[0m\u001b[0;34m\u001b[0m\u001b[0m\n",
            "\u001b[0;32m/usr/local/lib/python3.11/dist-packages/joblib/parallel.py\u001b[0m in \u001b[0;36m_get_sequential_output\u001b[0;34m(self, iterable)\u001b[0m\n\u001b[1;32m   1845\u001b[0m                 \u001b[0mself\u001b[0m\u001b[0;34m.\u001b[0m\u001b[0mn_dispatched_batches\u001b[0m \u001b[0;34m+=\u001b[0m \u001b[0;36m1\u001b[0m\u001b[0;34m\u001b[0m\u001b[0;34m\u001b[0m\u001b[0m\n\u001b[1;32m   1846\u001b[0m                 \u001b[0mself\u001b[0m\u001b[0;34m.\u001b[0m\u001b[0mn_dispatched_tasks\u001b[0m \u001b[0;34m+=\u001b[0m \u001b[0;36m1\u001b[0m\u001b[0;34m\u001b[0m\u001b[0;34m\u001b[0m\u001b[0m\n\u001b[0;32m-> 1847\u001b[0;31m                 \u001b[0mres\u001b[0m \u001b[0;34m=\u001b[0m \u001b[0mfunc\u001b[0m\u001b[0;34m(\u001b[0m\u001b[0;34m*\u001b[0m\u001b[0margs\u001b[0m\u001b[0;34m,\u001b[0m \u001b[0;34m**\u001b[0m\u001b[0mkwargs\u001b[0m\u001b[0;34m)\u001b[0m\u001b[0;34m\u001b[0m\u001b[0;34m\u001b[0m\u001b[0m\n\u001b[0m\u001b[1;32m   1848\u001b[0m                 \u001b[0mself\u001b[0m\u001b[0;34m.\u001b[0m\u001b[0mn_completed_tasks\u001b[0m \u001b[0;34m+=\u001b[0m \u001b[0;36m1\u001b[0m\u001b[0;34m\u001b[0m\u001b[0;34m\u001b[0m\u001b[0m\n\u001b[1;32m   1849\u001b[0m                 \u001b[0mself\u001b[0m\u001b[0;34m.\u001b[0m\u001b[0mprint_progress\u001b[0m\u001b[0;34m(\u001b[0m\u001b[0;34m)\u001b[0m\u001b[0;34m\u001b[0m\u001b[0;34m\u001b[0m\u001b[0m\n",
            "\u001b[0;32m/usr/local/lib/python3.11/dist-packages/sklearn/utils/parallel.py\u001b[0m in \u001b[0;36m__call__\u001b[0;34m(self, *args, **kwargs)\u001b[0m\n\u001b[1;32m    137\u001b[0m             \u001b[0mconfig\u001b[0m \u001b[0;34m=\u001b[0m \u001b[0;34m{\u001b[0m\u001b[0;34m}\u001b[0m\u001b[0;34m\u001b[0m\u001b[0;34m\u001b[0m\u001b[0m\n\u001b[1;32m    138\u001b[0m         \u001b[0;32mwith\u001b[0m \u001b[0mconfig_context\u001b[0m\u001b[0;34m(\u001b[0m\u001b[0;34m**\u001b[0m\u001b[0mconfig\u001b[0m\u001b[0;34m)\u001b[0m\u001b[0;34m:\u001b[0m\u001b[0;34m\u001b[0m\u001b[0;34m\u001b[0m\u001b[0m\n\u001b[0;32m--> 139\u001b[0;31m             \u001b[0;32mreturn\u001b[0m \u001b[0mself\u001b[0m\u001b[0;34m.\u001b[0m\u001b[0mfunction\u001b[0m\u001b[0;34m(\u001b[0m\u001b[0;34m*\u001b[0m\u001b[0margs\u001b[0m\u001b[0;34m,\u001b[0m \u001b[0;34m**\u001b[0m\u001b[0mkwargs\u001b[0m\u001b[0;34m)\u001b[0m\u001b[0;34m\u001b[0m\u001b[0;34m\u001b[0m\u001b[0m\n\u001b[0m\u001b[1;32m    140\u001b[0m \u001b[0;34m\u001b[0m\u001b[0m\n\u001b[1;32m    141\u001b[0m \u001b[0;34m\u001b[0m\u001b[0m\n",
            "\u001b[0;32m/usr/local/lib/python3.11/dist-packages/sklearn/model_selection/_validation.py\u001b[0m in \u001b[0;36m_fit_and_score\u001b[0;34m(estimator, X, y, scorer, train, test, verbose, parameters, fit_params, score_params, return_train_score, return_parameters, return_n_test_samples, return_times, return_estimator, split_progress, candidate_progress, error_score)\u001b[0m\n\u001b[1;32m    864\u001b[0m             \u001b[0mestimator\u001b[0m\u001b[0;34m.\u001b[0m\u001b[0mfit\u001b[0m\u001b[0;34m(\u001b[0m\u001b[0mX_train\u001b[0m\u001b[0;34m,\u001b[0m \u001b[0;34m**\u001b[0m\u001b[0mfit_params\u001b[0m\u001b[0;34m)\u001b[0m\u001b[0;34m\u001b[0m\u001b[0;34m\u001b[0m\u001b[0m\n\u001b[1;32m    865\u001b[0m         \u001b[0;32melse\u001b[0m\u001b[0;34m:\u001b[0m\u001b[0;34m\u001b[0m\u001b[0;34m\u001b[0m\u001b[0m\n\u001b[0;32m--> 866\u001b[0;31m             \u001b[0mestimator\u001b[0m\u001b[0;34m.\u001b[0m\u001b[0mfit\u001b[0m\u001b[0;34m(\u001b[0m\u001b[0mX_train\u001b[0m\u001b[0;34m,\u001b[0m \u001b[0my_train\u001b[0m\u001b[0;34m,\u001b[0m \u001b[0;34m**\u001b[0m\u001b[0mfit_params\u001b[0m\u001b[0;34m)\u001b[0m\u001b[0;34m\u001b[0m\u001b[0;34m\u001b[0m\u001b[0m\n\u001b[0m\u001b[1;32m    867\u001b[0m \u001b[0;34m\u001b[0m\u001b[0m\n\u001b[1;32m    868\u001b[0m     \u001b[0;32mexcept\u001b[0m \u001b[0mException\u001b[0m\u001b[0;34m:\u001b[0m\u001b[0;34m\u001b[0m\u001b[0;34m\u001b[0m\u001b[0m\n",
            "\u001b[0;32m/usr/local/lib/python3.11/dist-packages/sklearn/base.py\u001b[0m in \u001b[0;36mwrapper\u001b[0;34m(estimator, *args, **kwargs)\u001b[0m\n\u001b[1;32m   1387\u001b[0m                 )\n\u001b[1;32m   1388\u001b[0m             ):\n\u001b[0;32m-> 1389\u001b[0;31m                 \u001b[0;32mreturn\u001b[0m \u001b[0mfit_method\u001b[0m\u001b[0;34m(\u001b[0m\u001b[0mestimator\u001b[0m\u001b[0;34m,\u001b[0m \u001b[0;34m*\u001b[0m\u001b[0margs\u001b[0m\u001b[0;34m,\u001b[0m \u001b[0;34m**\u001b[0m\u001b[0mkwargs\u001b[0m\u001b[0;34m)\u001b[0m\u001b[0;34m\u001b[0m\u001b[0;34m\u001b[0m\u001b[0m\n\u001b[0m\u001b[1;32m   1390\u001b[0m \u001b[0;34m\u001b[0m\u001b[0m\n\u001b[1;32m   1391\u001b[0m         \u001b[0;32mreturn\u001b[0m \u001b[0mwrapper\u001b[0m\u001b[0;34m\u001b[0m\u001b[0;34m\u001b[0m\u001b[0m\n",
            "\u001b[0;32m/usr/local/lib/python3.11/dist-packages/sklearn/ensemble/_forest.py\u001b[0m in \u001b[0;36mfit\u001b[0;34m(self, X, y, sample_weight)\u001b[0m\n\u001b[1;32m    485\u001b[0m             \u001b[0;31m# parallel_backend contexts set at a higher level,\u001b[0m\u001b[0;34m\u001b[0m\u001b[0;34m\u001b[0m\u001b[0m\n\u001b[1;32m    486\u001b[0m             \u001b[0;31m# since correctness does not rely on using threads.\u001b[0m\u001b[0;34m\u001b[0m\u001b[0;34m\u001b[0m\u001b[0m\n\u001b[0;32m--> 487\u001b[0;31m             trees = Parallel(\n\u001b[0m\u001b[1;32m    488\u001b[0m                 \u001b[0mn_jobs\u001b[0m\u001b[0;34m=\u001b[0m\u001b[0mself\u001b[0m\u001b[0;34m.\u001b[0m\u001b[0mn_jobs\u001b[0m\u001b[0;34m,\u001b[0m\u001b[0;34m\u001b[0m\u001b[0;34m\u001b[0m\u001b[0m\n\u001b[1;32m    489\u001b[0m                 \u001b[0mverbose\u001b[0m\u001b[0;34m=\u001b[0m\u001b[0mself\u001b[0m\u001b[0;34m.\u001b[0m\u001b[0mverbose\u001b[0m\u001b[0;34m,\u001b[0m\u001b[0;34m\u001b[0m\u001b[0;34m\u001b[0m\u001b[0m\n",
            "\u001b[0;32m/usr/local/lib/python3.11/dist-packages/sklearn/utils/parallel.py\u001b[0m in \u001b[0;36m__call__\u001b[0;34m(self, iterable)\u001b[0m\n\u001b[1;32m     75\u001b[0m             \u001b[0;32mfor\u001b[0m \u001b[0mdelayed_func\u001b[0m\u001b[0;34m,\u001b[0m \u001b[0margs\u001b[0m\u001b[0;34m,\u001b[0m \u001b[0mkwargs\u001b[0m \u001b[0;32min\u001b[0m \u001b[0miterable\u001b[0m\u001b[0;34m\u001b[0m\u001b[0;34m\u001b[0m\u001b[0m\n\u001b[1;32m     76\u001b[0m         )\n\u001b[0;32m---> 77\u001b[0;31m         \u001b[0;32mreturn\u001b[0m \u001b[0msuper\u001b[0m\u001b[0;34m(\u001b[0m\u001b[0;34m)\u001b[0m\u001b[0;34m.\u001b[0m\u001b[0m__call__\u001b[0m\u001b[0;34m(\u001b[0m\u001b[0miterable_with_config\u001b[0m\u001b[0;34m)\u001b[0m\u001b[0;34m\u001b[0m\u001b[0;34m\u001b[0m\u001b[0m\n\u001b[0m\u001b[1;32m     78\u001b[0m \u001b[0;34m\u001b[0m\u001b[0m\n\u001b[1;32m     79\u001b[0m \u001b[0;34m\u001b[0m\u001b[0m\n",
            "\u001b[0;32m/usr/local/lib/python3.11/dist-packages/joblib/parallel.py\u001b[0m in \u001b[0;36m__call__\u001b[0;34m(self, iterable)\u001b[0m\n\u001b[1;32m   1916\u001b[0m             \u001b[0moutput\u001b[0m \u001b[0;34m=\u001b[0m \u001b[0mself\u001b[0m\u001b[0;34m.\u001b[0m\u001b[0m_get_sequential_output\u001b[0m\u001b[0;34m(\u001b[0m\u001b[0miterable\u001b[0m\u001b[0;34m)\u001b[0m\u001b[0;34m\u001b[0m\u001b[0;34m\u001b[0m\u001b[0m\n\u001b[1;32m   1917\u001b[0m             \u001b[0mnext\u001b[0m\u001b[0;34m(\u001b[0m\u001b[0moutput\u001b[0m\u001b[0;34m)\u001b[0m\u001b[0;34m\u001b[0m\u001b[0;34m\u001b[0m\u001b[0m\n\u001b[0;32m-> 1918\u001b[0;31m             \u001b[0;32mreturn\u001b[0m \u001b[0moutput\u001b[0m \u001b[0;32mif\u001b[0m \u001b[0mself\u001b[0m\u001b[0;34m.\u001b[0m\u001b[0mreturn_generator\u001b[0m \u001b[0;32melse\u001b[0m \u001b[0mlist\u001b[0m\u001b[0;34m(\u001b[0m\u001b[0moutput\u001b[0m\u001b[0;34m)\u001b[0m\u001b[0;34m\u001b[0m\u001b[0;34m\u001b[0m\u001b[0m\n\u001b[0m\u001b[1;32m   1919\u001b[0m \u001b[0;34m\u001b[0m\u001b[0m\n\u001b[1;32m   1920\u001b[0m         \u001b[0;31m# Let's create an ID that uniquely identifies the current call. If the\u001b[0m\u001b[0;34m\u001b[0m\u001b[0;34m\u001b[0m\u001b[0m\n",
            "\u001b[0;32m/usr/local/lib/python3.11/dist-packages/joblib/parallel.py\u001b[0m in \u001b[0;36m_get_sequential_output\u001b[0;34m(self, iterable)\u001b[0m\n\u001b[1;32m   1845\u001b[0m                 \u001b[0mself\u001b[0m\u001b[0;34m.\u001b[0m\u001b[0mn_dispatched_batches\u001b[0m \u001b[0;34m+=\u001b[0m \u001b[0;36m1\u001b[0m\u001b[0;34m\u001b[0m\u001b[0;34m\u001b[0m\u001b[0m\n\u001b[1;32m   1846\u001b[0m                 \u001b[0mself\u001b[0m\u001b[0;34m.\u001b[0m\u001b[0mn_dispatched_tasks\u001b[0m \u001b[0;34m+=\u001b[0m \u001b[0;36m1\u001b[0m\u001b[0;34m\u001b[0m\u001b[0;34m\u001b[0m\u001b[0m\n\u001b[0;32m-> 1847\u001b[0;31m                 \u001b[0mres\u001b[0m \u001b[0;34m=\u001b[0m \u001b[0mfunc\u001b[0m\u001b[0;34m(\u001b[0m\u001b[0;34m*\u001b[0m\u001b[0margs\u001b[0m\u001b[0;34m,\u001b[0m \u001b[0;34m**\u001b[0m\u001b[0mkwargs\u001b[0m\u001b[0;34m)\u001b[0m\u001b[0;34m\u001b[0m\u001b[0;34m\u001b[0m\u001b[0m\n\u001b[0m\u001b[1;32m   1848\u001b[0m                 \u001b[0mself\u001b[0m\u001b[0;34m.\u001b[0m\u001b[0mn_completed_tasks\u001b[0m \u001b[0;34m+=\u001b[0m \u001b[0;36m1\u001b[0m\u001b[0;34m\u001b[0m\u001b[0;34m\u001b[0m\u001b[0m\n\u001b[1;32m   1849\u001b[0m                 \u001b[0mself\u001b[0m\u001b[0;34m.\u001b[0m\u001b[0mprint_progress\u001b[0m\u001b[0;34m(\u001b[0m\u001b[0;34m)\u001b[0m\u001b[0;34m\u001b[0m\u001b[0;34m\u001b[0m\u001b[0m\n",
            "\u001b[0;32m/usr/local/lib/python3.11/dist-packages/sklearn/utils/parallel.py\u001b[0m in \u001b[0;36m__call__\u001b[0;34m(self, *args, **kwargs)\u001b[0m\n\u001b[1;32m    137\u001b[0m             \u001b[0mconfig\u001b[0m \u001b[0;34m=\u001b[0m \u001b[0;34m{\u001b[0m\u001b[0;34m}\u001b[0m\u001b[0;34m\u001b[0m\u001b[0;34m\u001b[0m\u001b[0m\n\u001b[1;32m    138\u001b[0m         \u001b[0;32mwith\u001b[0m \u001b[0mconfig_context\u001b[0m\u001b[0;34m(\u001b[0m\u001b[0;34m**\u001b[0m\u001b[0mconfig\u001b[0m\u001b[0;34m)\u001b[0m\u001b[0;34m:\u001b[0m\u001b[0;34m\u001b[0m\u001b[0;34m\u001b[0m\u001b[0m\n\u001b[0;32m--> 139\u001b[0;31m             \u001b[0;32mreturn\u001b[0m \u001b[0mself\u001b[0m\u001b[0;34m.\u001b[0m\u001b[0mfunction\u001b[0m\u001b[0;34m(\u001b[0m\u001b[0;34m*\u001b[0m\u001b[0margs\u001b[0m\u001b[0;34m,\u001b[0m \u001b[0;34m**\u001b[0m\u001b[0mkwargs\u001b[0m\u001b[0;34m)\u001b[0m\u001b[0;34m\u001b[0m\u001b[0;34m\u001b[0m\u001b[0m\n\u001b[0m\u001b[1;32m    140\u001b[0m \u001b[0;34m\u001b[0m\u001b[0m\n\u001b[1;32m    141\u001b[0m \u001b[0;34m\u001b[0m\u001b[0m\n",
            "\u001b[0;32m/usr/local/lib/python3.11/dist-packages/sklearn/ensemble/_forest.py\u001b[0m in \u001b[0;36m_parallel_build_trees\u001b[0;34m(tree, bootstrap, X, y, sample_weight, tree_idx, n_trees, verbose, class_weight, n_samples_bootstrap, missing_values_in_feature_mask)\u001b[0m\n\u001b[1;32m    187\u001b[0m             \u001b[0mcurr_sample_weight\u001b[0m \u001b[0;34m*=\u001b[0m \u001b[0mcompute_sample_weight\u001b[0m\u001b[0;34m(\u001b[0m\u001b[0;34m\"balanced\"\u001b[0m\u001b[0;34m,\u001b[0m \u001b[0my\u001b[0m\u001b[0;34m,\u001b[0m \u001b[0mindices\u001b[0m\u001b[0;34m=\u001b[0m\u001b[0mindices\u001b[0m\u001b[0;34m)\u001b[0m\u001b[0;34m\u001b[0m\u001b[0;34m\u001b[0m\u001b[0m\n\u001b[1;32m    188\u001b[0m \u001b[0;34m\u001b[0m\u001b[0m\n\u001b[0;32m--> 189\u001b[0;31m         tree._fit(\n\u001b[0m\u001b[1;32m    190\u001b[0m             \u001b[0mX\u001b[0m\u001b[0;34m,\u001b[0m\u001b[0;34m\u001b[0m\u001b[0;34m\u001b[0m\u001b[0m\n\u001b[1;32m    191\u001b[0m             \u001b[0my\u001b[0m\u001b[0;34m,\u001b[0m\u001b[0;34m\u001b[0m\u001b[0;34m\u001b[0m\u001b[0m\n",
            "\u001b[0;32m/usr/local/lib/python3.11/dist-packages/sklearn/tree/_classes.py\u001b[0m in \u001b[0;36m_fit\u001b[0;34m(self, X, y, sample_weight, check_input, missing_values_in_feature_mask)\u001b[0m\n\u001b[1;32m    470\u001b[0m             )\n\u001b[1;32m    471\u001b[0m \u001b[0;34m\u001b[0m\u001b[0m\n\u001b[0;32m--> 472\u001b[0;31m         \u001b[0mbuilder\u001b[0m\u001b[0;34m.\u001b[0m\u001b[0mbuild\u001b[0m\u001b[0;34m(\u001b[0m\u001b[0mself\u001b[0m\u001b[0;34m.\u001b[0m\u001b[0mtree_\u001b[0m\u001b[0;34m,\u001b[0m \u001b[0mX\u001b[0m\u001b[0;34m,\u001b[0m \u001b[0my\u001b[0m\u001b[0;34m,\u001b[0m \u001b[0msample_weight\u001b[0m\u001b[0;34m,\u001b[0m \u001b[0mmissing_values_in_feature_mask\u001b[0m\u001b[0;34m)\u001b[0m\u001b[0;34m\u001b[0m\u001b[0;34m\u001b[0m\u001b[0m\n\u001b[0m\u001b[1;32m    473\u001b[0m \u001b[0;34m\u001b[0m\u001b[0m\n\u001b[1;32m    474\u001b[0m         \u001b[0;32mif\u001b[0m \u001b[0mself\u001b[0m\u001b[0;34m.\u001b[0m\u001b[0mn_outputs_\u001b[0m \u001b[0;34m==\u001b[0m \u001b[0;36m1\u001b[0m \u001b[0;32mand\u001b[0m \u001b[0mis_classifier\u001b[0m\u001b[0;34m(\u001b[0m\u001b[0mself\u001b[0m\u001b[0;34m)\u001b[0m\u001b[0;34m:\u001b[0m\u001b[0;34m\u001b[0m\u001b[0;34m\u001b[0m\u001b[0m\n",
            "\u001b[0;31mKeyboardInterrupt\u001b[0m: "
          ]
        }
      ]
    },
    {
      "cell_type": "markdown",
      "source": [
        "After obtaining the optimal parameters, we can use the parameter values obtained to be placed as the parameters for the `RandomForestClassifier` Model when initializing the `RandomForestClassifier`. Subsequently, we can fit the model using the training set and predict using the test set. (Similar to the unoptimized model, just using the optimal parameters found earlier)."
      ],
      "metadata": {
        "id": "M8DNDvK0JXIo"
      }
    },
    {
      "cell_type": "code",
      "source": [
        "# Train the optimized model using optimal parameters obtained\n",
        "rf_model_optimized = RandomForestClassifier(**rf_grid.best_params_, random_state=42)\n",
        "\n",
        "# Fit the model on the trainig dataset\n",
        "rf_model_optimized.fit(X_train, y_train)\n",
        "\n",
        "# Predict the outcomes using the test set\n",
        "rf_pred_optimized = rf_model_optimized.predict(X_test)"
      ],
      "metadata": {
        "id": "wf5RlJ0CI6ut"
      },
      "execution_count": null,
      "outputs": []
    },
    {
      "cell_type": "markdown",
      "source": [
        "Similarly, we can evaluate the accuracy metrics of the optimized Random Forest model via GridSearchCV using the `accuracy_score`, `precision_score`, `recall_score` and `f1_score` from `sklearn.metrics`."
      ],
      "metadata": {
        "id": "6SgY9H7zPZEI"
      }
    },
    {
      "cell_type": "code",
      "source": [
        "# Evaluating The Accuracy Metrices Of Random Forest Optimized GridSearcCV Model\n",
        "rf_accuracy = accuracy_score(y_test, rf_pred_optimized)\n",
        "rf_precision = precision_score(y_test, rf_pred_optimized, average = 'weighted', zero_division = 0)\n",
        "rf_recall = recall_score(y_test, rf_pred_optimized, average = 'weighted', zero_division = 0)\n",
        "rf_f1 = f1_score(y_test, rf_pred_optimized, average = 'weighted')\n",
        "\n",
        "# Printing The Scores\n",
        "print(\"Random Forest GridSearchCV Model Accuracy:\", round(rf_accuracy, 4))\n",
        "print(\"Random Forest GridSearchCV Model Precision:\", round(rf_precision, 4))\n",
        "print(\"Random Forest GridSearchCV Model Recall:\", round(rf_recall, 4))\n",
        "print(\"Random Forest GridSearchCV Model F1-Score:\", round(rf_f1, 4))"
      ],
      "metadata": {
        "id": "YQc2GE4RPrdd"
      },
      "execution_count": null,
      "outputs": []
    },
    {
      "cell_type": "markdown",
      "source": [
        "We can also evaluate the runtime of the GridSearchCV Model."
      ],
      "metadata": {
        "id": "r6dsYBABnC9T"
      }
    },
    {
      "cell_type": "code",
      "source": [
        "# Track Start Time\n",
        "start_time = time.time()\n",
        "\n",
        "rf_grid = GridSearchCV(RandomForestClassifier(random_state = 42), param_grid,\n",
        "                       cv = 5, scoring = 'accuracy')\n",
        "rf_grid.fit(X_train, y_train)\n",
        "rf_model_optimized = RandomForestClassifier(**rf_grid.best_params_, random_state=42)\n",
        "rf_model_optimized.fit(X_train, y_train)\n",
        "rf_pred_optimized = rf_model_optimized.predict(X_test)\n",
        "\n",
        "# Track End Time\n",
        "end_time = time.time()\n",
        "\n",
        "# Time Difference Calculation\n",
        "time_diff_gscv = end_time - start_time\n",
        "\n",
        "print(f\"GridSearchCV RunTime: {time_diff_gscv:.2f} seconds\")"
      ],
      "metadata": {
        "id": "yHcTeoG7mx1-"
      },
      "execution_count": null,
      "outputs": []
    },
    {
      "cell_type": "markdown",
      "source": [
        "----------------------------------------------------------------------------------------------------------------------------------------------------------------"
      ],
      "metadata": {
        "id": "2n1uwF4sQ1yK"
      }
    },
    {
      "cell_type": "markdown",
      "source": [
        "#### Step 6.2: Optimizing Via Hyperparameter Tuning - RandomizedSearchCV"
      ],
      "metadata": {
        "id": "p16Ti7uQQ7J4"
      }
    },
    {
      "cell_type": "markdown",
      "source": [
        "RandomizedSearchCV is a hyperparameter tuning technique in scikit-learn that searches for the best combination of hyperparameters by randomly sampling from a predefined distribution, rather than exhaustively searching all possible combinations like GridSearchCV.\n",
        "\n",
        "Firstly, a range or distribution for each hyperparameter is defined. Instead of testing all possible combinations, it selects a random subset of combinations.\n",
        "The model is trained and evaluated using cross-validation on each sampled combination. The best hyperparameter combination is chosen based on a specified scoring metric (e.g., accuracy, F1-score)."
      ],
      "metadata": {
        "id": "jFXt76GgQ5Os"
      }
    },
    {
      "cell_type": "markdown",
      "source": [
        "The other steps are exactly the same as the GridSearchCV model."
      ],
      "metadata": {
        "id": "pgKQQsz0Te0m"
      }
    },
    {
      "cell_type": "code",
      "source": [
        "# Importing RandomizedSearchCV fom sklearn\n",
        "from sklearn.model_selection import RandomizedSearchCV\n",
        "from scipy.stats import randint\n",
        "\n",
        "# Define parameter distribution for RandomizedSearchCV\n",
        "param_dist_r = {\n",
        "    'n_estimators': randint(50, 500),\n",
        "    'max_depth': randint(3, 20),\n",
        "    'min_samples_split': randint(2, 10)\n",
        "}"
      ],
      "metadata": {
        "id": "JHWyTCHTSAi1"
      },
      "execution_count": null,
      "outputs": []
    },
    {
      "cell_type": "code",
      "source": [
        "# Perform RandomizedSearchCV\n",
        "random_search = RandomizedSearchCV(RandomForestClassifier(random_state = 42),\n",
        "                                   param_dist_r, n_iter = 20, cv = 5,\n",
        "                                   scoring = 'accuracy')\n",
        "\n",
        "# Fitting The Model\n",
        "random_search.fit(X_train, y_train)\n",
        "\n",
        "# Printing Out The Best parameters\n",
        "print(\"Best Parameters:\", random_search.best_params_)"
      ],
      "metadata": {
        "id": "2iG-DZVvSYxJ"
      },
      "execution_count": null,
      "outputs": []
    },
    {
      "cell_type": "code",
      "source": [
        "# Train the optimized model using optimal parameters obtained\n",
        "rf_model_optimized_two = RandomForestClassifier(**random_search.best_params_,\n",
        "                                                random_state = 42)\n",
        "\n",
        "# Fit the model on the trainig dataset\n",
        "rf_model_optimized_two.fit(X_train, y_train)\n",
        "\n",
        "# Predict the outcomes using the test set\n",
        "rf_pred_optimized_two = rf_model_optimized_two.predict(X_test)"
      ],
      "metadata": {
        "id": "1lgZNAvJTBTa"
      },
      "execution_count": null,
      "outputs": []
    },
    {
      "cell_type": "code",
      "source": [
        "# Evaluating The Accuracy Metrices Of Random Forest Optimized GridSearcCV Model\n",
        "rf_accuracy = accuracy_score(y_test, rf_pred_optimized_two)\n",
        "rf_precision = precision_score(y_test, rf_pred_optimized_two, average = 'weighted', zero_division = 0)\n",
        "rf_recall = recall_score(y_test, rf_pred_optimized_two, average = 'weighted', zero_division = 0)\n",
        "rf_f1 = f1_score(y_test, rf_pred_optimized_two, average = 'weighted')\n",
        "\n",
        "# Printing The Scores\n",
        "print(\"Random Forest RandomizedSearchCV Model Accuracy:\", round(rf_accuracy, 4))\n",
        "print(\"Random Forest RandomizedSearchCV Model Precision:\", round(rf_precision, 4))\n",
        "print(\"Random Forest RandomizedSearchCV Model Recall:\", round(rf_recall, 4))\n",
        "print(\"Random Forest RandomizedSearchCV Model F1-Score:\", round(rf_f1, 4))"
      ],
      "metadata": {
        "id": "kgUwqXeITSXa"
      },
      "execution_count": null,
      "outputs": []
    },
    {
      "cell_type": "code",
      "source": [
        "# Track Start Time\n",
        "start_time = time.time()\n",
        "\n",
        "random_search = RandomizedSearchCV(RandomForestClassifier(random_state = 42),\n",
        "                                   param_dist_r, n_iter = 20, cv = 5,\n",
        "                                   scoring = 'accuracy')\n",
        "random_search.fit(X_train, y_train)\n",
        "rf_model_optimized_two = RandomForestClassifier(**random_search.best_params_,\n",
        "                                                random_state = 42)\n",
        "rf_model_optimized_two.fit(X_train, y_train)\n",
        "rf_pred_optimized_two = rf_model_optimized_two.predict(X_test)\n",
        "\n",
        "# Track End Time\n",
        "end_time = time.time()\n",
        "\n",
        "# Time Difference Calculation\n",
        "time_diff_rscv = end_time - start_time\n",
        "\n",
        "print(f\"RandomizedSearchCV RunTime: {time_diff_rscv:.2f} seconds\")"
      ],
      "metadata": {
        "id": "D2R6RXeXnMAy"
      },
      "execution_count": null,
      "outputs": []
    },
    {
      "cell_type": "markdown",
      "source": [
        "----------------------------------------------------------------------------------------------------------------------------------------------------------------"
      ],
      "metadata": {
        "id": "mI_YXX6bTn5N"
      }
    },
    {
      "cell_type": "markdown",
      "source": [
        "#### Step 6.3: Bagging"
      ],
      "metadata": {
        "id": "iqSs2vKjTsPK"
      }
    },
    {
      "cell_type": "markdown",
      "source": [
        "Bagging (Bootstrap Aggregating) is an ensemble learning technique that improves the accuracy and robustness of machine learning models by combining multiple predictions from different models trained on random subsets of the dataset. It helps reduce variance, prevent overfitting, and enhance the overall performance of the model."
      ],
      "metadata": {
        "id": "ey37MskcXbSj"
      }
    },
    {
      "cell_type": "markdown",
      "source": [
        "First, we need to create a certain number of iterations, n_iterations, using a subset of the data rows in the dataset with replacement.\n",
        "\n",
        "Repeating the Bagging process n times will cause the Random Forest model to fit n times, predict n times and have the corresponding n accuracy values. Hence, we need to store all the accuracy values into a list called `accuracies_bagging`."
      ],
      "metadata": {
        "id": "T5-t5yatX9eo"
      }
    },
    {
      "cell_type": "code",
      "source": [
        "# Set the deafult number of iterations of the bagging process\n",
        "n_iterations = 10\n",
        "\n",
        "# Create lists for the accuracy metrices\n",
        "accuracies_bagging = []\n",
        "precision_bagging = []\n",
        "recall_bagging = []\n",
        "f1_score_bagging = []"
      ],
      "metadata": {
        "id": "mpCPWvxtYGrl"
      },
      "execution_count": null,
      "outputs": []
    },
    {
      "cell_type": "markdown",
      "source": [
        "Afterwards, for every iteration, we need to create the Random Forest model using `RandomForestClassifier` with m estimators. (m rows of data will be extracted from the dataset for every bagging process). Subseuquently, the m randomly chosen datasets will undergo the fitting process (training data) and the prediction process (testing data) and its accuracy will be calculated.\n",
        "\n",
        "Lastly, we will take the average value of accuracy by taking the sum of accuracy values in the accuracies_bagging list over the number of elements in the `accuracies_bagging` list, which is n."
      ],
      "metadata": {
        "id": "5mMn9D3SYLNa"
      }
    },
    {
      "cell_type": "code",
      "source": [
        "# Track Start Time\n",
        "start_time = time.time()\n",
        "\n",
        "# Perform bagging technique multiple times\n",
        "for i in range(n_iterations):\n",
        "\n",
        "    # Initiate RandomForestClassifier Model\n",
        "    bagging_model = RandomForestClassifier(n_estimators = 50)\n",
        "\n",
        "    # Fit And Train Model, Predict Afterwards\n",
        "    bagging_model.fit(X_train, y_train)\n",
        "    y_pred = bagging_model.predict(X_test)\n",
        "\n",
        "    # Evaluating The Accuracy Metrices\n",
        "    model_accuracy = accuracy_score(y_test, y_pred)\n",
        "    model_precision = precision_score(y_test, y_pred, average = 'weighted', zero_division = 0)\n",
        "    model_recall = recall_score(y_test, y_pred, average = 'weighted', zero_division = 0)\n",
        "    model_f1 = f1_score(y_test, y_pred, average = 'weighted')\n",
        "\n",
        "    # Appending The Values Of Accuracy Metrices Into The Respective Lists\n",
        "    accuracies_bagging.append(model_accuracy)\n",
        "    precision_bagging.append(model_precision)\n",
        "    recall_bagging.append(model_recall)\n",
        "    f1_score_bagging.append(model_f1)\n",
        "\n",
        "# Track End Time\n",
        "end_time = time.time()\n",
        "\n",
        "# Time Difference Calculation\n",
        "time_diff_bagging = end_time - start_time\n",
        "\n",
        "print(f\"Bagging RunTime: {time_diff_bagging:.2f} seconds\")"
      ],
      "metadata": {
        "id": "DF6HA5jEYelv"
      },
      "execution_count": null,
      "outputs": []
    },
    {
      "cell_type": "markdown",
      "source": [
        "The accuracy of the Random Forest model might differ depending on two factors, the number of iterations `n_iterations` of the Bagging process, as well as the value of the number of data rows that are selected for each iteration of the Bagging process `n_estimators`. We set the `n_iterations` and `n_estimators` to default values of 10 and 50 respectively."
      ],
      "metadata": {
        "id": "O8o3e_SFaYeb"
      }
    },
    {
      "cell_type": "markdown",
      "source": [
        "Similarly, we can evaluate the accuracy metrics and for the Bagging Optimized Random Forest model."
      ],
      "metadata": {
        "id": "E4MRPb9EaKYY"
      }
    },
    {
      "cell_type": "code",
      "source": [
        "# Determining the accuracy metrices of the Random Forest model with Bagging\n",
        "print(f\"Random Forest Bagging Accuracy : {sum(accuracies_bagging) / len(accuracies_bagging):.4f}\")\n",
        "print(f\"Random Forest Bagging Precision : {sum(precision_bagging) / len(precision_bagging):.4f}\")\n",
        "print(f\"Random Forest Bagging Recall : {sum(recall_bagging) / len(recall_bagging):.4f}\")\n",
        "print(f\"Random Forest Bagging F1-Score : {sum(f1_score_bagging) / len(f1_score_bagging):.4f}\")"
      ],
      "metadata": {
        "id": "91PhXxWMY__B"
      },
      "execution_count": null,
      "outputs": []
    },
    {
      "cell_type": "markdown",
      "source": [
        "----------------------------------------------------------------------------------------------------------------------------------------------------------------"
      ],
      "metadata": {
        "id": "JdyOdBANUB0z"
      }
    },
    {
      "cell_type": "markdown",
      "source": [
        "#### Step 6.4: Boosting Using XGBoost Model"
      ],
      "metadata": {
        "id": "d1UlEKneu4ue"
      }
    },
    {
      "cell_type": "markdown",
      "source": [
        "XGBoost (short for Extreme Gradient Boosting) is a popular and powerful machine learning algorithm that is based on the gradient boosting technique. It is particularly used for supervised learning tasks, such as classification and regression.\n",
        "\n",
        "Gradient boosting is an ensemble technique where multiple weak learners (usually decision trees) are combined to create a strong predictive model.\n",
        "Each new tree tries to correct the errors made by the previous trees in the ensemble. It works by optimizing a loss function (e.g., mean squared error for regression tasks) by gradually adding trees that improve predictions.\n",
        "\n",
        "XGBoost incorporates L1 (Lasso) and L2 (Ridge) regularization to avoid overfitting. This is a key feature that distinguishes it from other gradient boosting methods."
      ],
      "metadata": {
        "id": "ykpiE9UecdgL"
      }
    },
    {
      "cell_type": "code",
      "source": [
        "!pip install xgboost >/dev/null 2>&1"
      ],
      "metadata": {
        "id": "rf_TwaReu4cx"
      },
      "execution_count": null,
      "outputs": []
    },
    {
      "cell_type": "markdown",
      "source": [
        "In XGBoost, two important hyperparameters that control the model's complexity and learning dynamics are `learning_rate` and `max_depth`.\n",
        "\n",
        "The `learning_rate` controls the step size at each iteration while moving toward a minimum of the loss function. It determines how much the model should adjust the weights after each tree is added to the model.\n",
        "\n",
        "The `max_depth` parameter controls the maximum depth of each decision tree. The depth of a tree is the number of nodes from the root to the deepest leaf, which is directly related to the complexity and expressive power of the tree.\n",
        "\n",
        "We set a default `learning_rate` of 0.1 and `max_depth` of 10 for the Random Forest Model."
      ],
      "metadata": {
        "id": "zq8f5UUueEod"
      }
    },
    {
      "cell_type": "code",
      "source": [
        "# Importing XGBClassifier from xgboost\n",
        "from xgboost import XGBClassifier"
      ],
      "metadata": {
        "id": "rb-bo5wQvEpX"
      },
      "execution_count": null,
      "outputs": []
    },
    {
      "cell_type": "code",
      "source": [
        "# Track Start Time\n",
        "start_time = time.time()\n",
        "\n",
        "# Initialize The XGBClassifier Model\n",
        "xgb_model = XGBClassifier(n_estimators = 100, learning_rate = 0.1,\n",
        "                          max_depth = 10, random_state = 42)\n",
        "\n",
        "# Fitting the model on the training dataset\n",
        "xgb_model.fit(X_train, y_train)\n",
        "\n",
        "# Predicting the outcomes using the test set\n",
        "xgb_pred = xgb_model.predict(X_test)\n",
        "\n",
        "# Track End Time\n",
        "end_time = time.time()\n",
        "\n",
        "# Time Difference Calculation\n",
        "time_diff_xg = end_time - start_time\n",
        "\n",
        "print(f\"XGBoost RunTime: {time_diff_xg:.2f} seconds\")"
      ],
      "metadata": {
        "id": "EuCFOROAdHvK"
      },
      "execution_count": null,
      "outputs": []
    },
    {
      "cell_type": "markdown",
      "source": [
        "Similarly, we can evaluate the accuracy metrices for the XGBClassifier model."
      ],
      "metadata": {
        "id": "E_Xblij-d2DF"
      }
    },
    {
      "cell_type": "code",
      "source": [
        "# Determining the accuracy metrics for the XGBClassifier\n",
        "xgb_accuracy = accuracy_score(y_test, xgb_pred)\n",
        "xgb_precision = precision_score(y_test, xgb_pred, average = 'weighted', zero_division = 0)\n",
        "xgb_recall = recall_score(y_test, xgb_pred, average = 'weighted', zero_division = 0)\n",
        "xgb_f1 = f1_score(y_test, xgb_pred, average = 'weighted')\n",
        "\n",
        "# Printing The Scores\n",
        "print(\"XGBoost Model Accuracy:\", xgb_accuracy)\n",
        "print(\"XGBoost Model Precision:\", xgb_precision)\n",
        "print(\"XGBoost Model Recall:\", xgb_recall)\n",
        "print(\"XGBoost Model F1-Score:\", xgb_f1)"
      ],
      "metadata": {
        "id": "phy1Mjt6dccT"
      },
      "execution_count": null,
      "outputs": []
    },
    {
      "cell_type": "markdown",
      "source": [
        "----------------------------------------------------------------------------------------------------------------------------------------------------------------"
      ],
      "metadata": {
        "id": "eMni4H9sdt3p"
      }
    },
    {
      "cell_type": "markdown",
      "source": [
        "## Step 7: Ethical Use Of Data Discussion"
      ],
      "metadata": {
        "id": "e6LMkX-8TGyj"
      }
    },
    {
      "cell_type": "markdown",
      "source": [
        "There are certain ethical considerstions that we need to think of when training the Machine Learning model using Decision Trees when predicting the most suitable agent for a client. When developing a model like a decision tree to recommend the best financial advisor (agent) for a customer, it is important to address several ethical considerations to ensure fairness, privacy, and transparency."
      ],
      "metadata": {
        "id": "jFe0W0l_TSRW"
      }
    },
    {
      "cell_type": "markdown",
      "source": [
        "1) **Avoiding Discriminatory Practices**: A decision tree model may inadvertently reflect existing biases in the dataset. For example, if the model is trained on historical data that has been influenced by bias related to race, gender, age, or marital status, the recommendations may perpetuate these biases, leading to unfair treatment of certain customer groups.\n",
        "\n",
        "2) **Ethical Models:** It is crucial to ensure that the model does not discriminate against customers or agents based on sensitive characteristics (e.g., gender, race, marital status). Methods like fairness constraints or bias detection should be integrated into the model development process to ensure that the predictions are equitable and unbiased.\n",
        "\n",
        "3) **Transparency:** Decision trees are considered relatively interpretable models, but even so, it is important to ensure that stakeholders (customers, financial advisors, etc) can understand how the model makes its decisions. This transparency will help prevent mistrust and misinterpretation of recommendations.\n",
        "\n",
        "4) **Handling Missing or Incomplete Data:** If the model encounters missing or incomplete data (e.g., missing values for a customer's age or product group), it is important to handle this ethically. Imputation methods should be chosen that do not unfairly distort the model's predictions, and transparency in these choices should be maintained.\n",
        "\n",
        "5) **Data Adjustments:** The dataset has undergone slight adjustments to numerical values and has masked product names to maintain privacy. While this is beneficial for data security, care must be taken to ensure that these modifications do not inadvertently affect the model's performance or lead to misleading conclusions.\n",
        "\n",
        "6) **Informed Consent:** Customers whose data is being used for model training must have provided informed consent, understanding how their data will be utilized. This is important for ensuring that they are aware of how their financial information is being used to match them with advisors.\n",
        "\n",
        "7) **Model Accountability:** It is important that customers and stakeholders can request an explanation for the model's decisions, particularly if they feel the model's recommendation is not suited to their needs. Models that offer explanations, such as decision trees, allow for greater accountability compared to black-box models."
      ],
      "metadata": {
        "id": "SkhPWyP_ohRN"
      }
    },
    {
      "cell_type": "markdown",
      "source": [
        "----------------------------------------------------------------------------------------------------------------------------------------------------------------"
      ],
      "metadata": {
        "id": "5WwuMZSziMyT"
      }
    },
    {
      "cell_type": "markdown",
      "source": [
        "## Conclusion:"
      ],
      "metadata": {
        "id": "TOKFrcPkCtH3"
      }
    },
    {
      "cell_type": "markdown",
      "source": [
        "The implementation of a Decision Tree model for financial advisor-client matching highlighted the potential of machine learning to optimize policy conversions and customer engagement. By utilizing structured data processing, feature engineering, and predictive modeling, we gained valuable insights to enhance financial advisory services.\n",
        "\n",
        "Despite challenges such as handling missing data, mitigating overfitting, and ensuring computational efficiency, the application of data cleaning, feature selection, and hyperparameter tuning improved model performance. Feature importance analysis identified key factors influencing policy conversions, reinforcing the value of data-driven decision-making.\n",
        "\n",
        "A key takeaway is that structured preprocessing—such as encoding categorical variables and normalizing numerical data—was crucial for improving predictive accuracy. The decision tree model, chosen for its interpretability, was an effective method for this task.\n",
        "\n",
        "Ethical considerations, including addressing bias and ensuring transparency in model recommendations, are vital for fairness in real-world applications. Overall, this project demonstrated the feasibility of using data science to enhance financial services and provided a scalable framework for future improvements in the domain."
      ],
      "metadata": {
        "id": "D-TRyFA_iXLR"
      }
    }
  ],
  "metadata": {
    "colab": {
      "provenance": [],
      "gpuType": "V28"
    },
    "kernelspec": {
      "display_name": "Python 3",
      "name": "python3"
    },
    "accelerator": "TPU"
  },
  "nbformat": 4,
  "nbformat_minor": 0
}